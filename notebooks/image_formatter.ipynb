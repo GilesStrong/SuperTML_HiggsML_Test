{
 "cells": [
  {
   "cell_type": "code",
   "execution_count": 1,
   "metadata": {},
   "outputs": [],
   "source": [
    "%matplotlib inline\n",
    "%reload_ext autoreload\n",
    "%autoreload 2\n",
    "from __future__ import division\n",
    "import sys\n",
    "import os\n",
    "sys.path.append('../')\n",
    "from fastai.vision import *\n",
    "from modules.basics import *\n",
    "from PIL import Image, ImageDraw, ImageFont\n",
    "from concurrent.futures import ProcessPoolExecutor"
   ]
  },
  {
   "cell_type": "code",
   "execution_count": 22,
   "metadata": {},
   "outputs": [
    {
     "data": {
      "text/plain": [
       "(PosixPath('/home/giles/Documents/kaggle/higgsml'), PosixPath('../data'))"
      ]
     },
     "execution_count": 22,
     "metadata": {},
     "output_type": "execute_result"
    }
   ],
   "source": [
    "IMG_PATH, DATA_PATH"
   ]
  },
  {
   "cell_type": "code",
   "execution_count": 2,
   "metadata": {
    "scrolled": true
   },
   "outputs": [
    {
     "name": "stdout",
     "output_type": "stream",
     "text": [
      "Setting PRI_lep to phi = 0\n",
      "Setting PRI_tau to positve phi\n",
      "Setting PRI_lep to positive eta\n",
      "eta component of PRI_met not found\n",
      "Converting to use_cartesian coordinates\n",
      "Setting PRI_lep to phi = 0\n",
      "Setting PRI_tau to positve phi\n",
      "Setting PRI_lep to positive eta\n",
      "eta component of PRI_met not found\n",
      "Converting to use_cartesian coordinates\n",
      "Training on 200000 datapoints and validating on 50000, using 30 feats:\n",
      "['DER_mass_MMC', 'DER_mass_transverse_met_lep', 'DER_mass_vis', 'DER_pt_h', 'DER_deltaeta_jet_jet', 'DER_mass_jet_jet', 'DER_prodeta_jet_jet', 'DER_deltar_tau_lep', 'DER_pt_tot', 'DER_sum_pt', 'DER_pt_ratio_lep_tau', 'DER_met_phi_centrality', 'DER_lep_eta_centrality', 'PRI_met_sumet', 'PRI_jet_num', 'PRI_jet_all_pt', 'PRI_jet_leading_px', 'PRI_jet_leading_py', 'PRI_jet_leading_pz', 'PRI_tau_px', 'PRI_tau_py', 'PRI_tau_pz', 'PRI_jet_subleading_px', 'PRI_jet_subleading_py', 'PRI_jet_subleading_pz', 'PRI_lep_px', 'PRI_lep_pz', 'PRI_met_px', 'PRI_met_py', 'PRI_met_pt']\n",
      "Running train\n",
      "Saving fold: 0 of 20003 events\n",
      "Saving fold: 1 of 20003 events\n",
      "Saving fold: 2 of 20003 events\n",
      "Saving fold: 3 of 20003 events\n",
      "Saving fold: 4 of 20002 events\n",
      "Saving fold: 5 of 20001 events\n",
      "Saving fold: 6 of 19999 events\n",
      "Saving fold: 7 of 19996 events\n",
      "Saving fold: 8 of 19995 events\n",
      "Saving fold: 9 of 19995 events\n",
      "Running val\n",
      "Saving fold: 0 of 5003 events\n",
      "Saving fold: 1 of 5003 events\n",
      "Saving fold: 2 of 5002 events\n",
      "Saving fold: 3 of 5002 events\n",
      "Saving fold: 4 of 5001 events\n",
      "Saving fold: 5 of 5001 events\n",
      "Saving fold: 6 of 5000 events\n",
      "Saving fold: 7 of 4997 events\n",
      "Saving fold: 8 of 4996 events\n",
      "Saving fold: 9 of 4995 events\n",
      "Running testing\n",
      "Saving fold: 0 of 55000 events\n",
      "Saving fold: 1 of 55000 events\n",
      "Saving fold: 2 of 55000 events\n",
      "Saving fold: 3 of 55000 events\n",
      "Saving fold: 4 of 55000 events\n",
      "Saving fold: 5 of 55000 events\n",
      "Saving fold: 6 of 55000 events\n",
      "Saving fold: 7 of 55000 events\n",
      "Saving fold: 8 of 55000 events\n",
      "Saving fold: 9 of 55000 events\n"
     ]
    }
   ],
   "source": [
    "!python ../modules/data_import.py -d {DATA_PATH} -f PRI_jet_num -r True -z True -y True"
   ]
  },
  {
   "cell_type": "code",
   "execution_count": 3,
   "metadata": {},
   "outputs": [],
   "source": [
    "with open(DATA_PATH/'feats.pkl', 'rb') as fin:\n",
    "    feats = pickle.load(fin)\n",
    "cont_feats = feats['cont_feats']\n",
    "cat_feats = feats['cat_feats']    \n",
    "cat_maps = feats['cat_maps']  \n",
    "cat_szs = feats['cat_szs']  \n",
    "train_feats = cont_feats + cat_feats"
   ]
  },
  {
   "cell_type": "code",
   "execution_count": 4,
   "metadata": {},
   "outputs": [],
   "source": [
    "train_fy = FoldYielder(h5py.File(DATA_PATH/'train.hdf5', \"r+\"), cont_feats, cat_feats)\n",
    "train_fy.add_input_pipe_from_file(DATA_PATH/'input_pipe.pkl')"
   ]
  },
  {
   "cell_type": "code",
   "execution_count": 5,
   "metadata": {},
   "outputs": [
    {
     "name": "stdout",
     "output_type": "stream",
     "text": [
      "200000 candidates loaded\n"
     ]
    },
    {
     "name": "stderr",
     "output_type": "stream",
     "text": [
      "/home/giles/cernbox/lumin/lumin/nn/data/fold_yielder.py:115: UserWarning: pred not found in foldfile file\n",
      "  warnings.warn(f'{pred_name} not found in foldfile file')\n"
     ]
    },
    {
     "data": {
      "text/html": [
       "<div>\n",
       "<style scoped>\n",
       "    .dataframe tbody tr th:only-of-type {\n",
       "        vertical-align: middle;\n",
       "    }\n",
       "\n",
       "    .dataframe tbody tr th {\n",
       "        vertical-align: top;\n",
       "    }\n",
       "\n",
       "    .dataframe thead th {\n",
       "        text-align: right;\n",
       "    }\n",
       "</style>\n",
       "<table border=\"1\" class=\"dataframe\">\n",
       "  <thead>\n",
       "    <tr style=\"text-align: right;\">\n",
       "      <th></th>\n",
       "      <th>DER_mass_MMC</th>\n",
       "      <th>DER_mass_transverse_met_lep</th>\n",
       "      <th>DER_mass_vis</th>\n",
       "      <th>DER_pt_h</th>\n",
       "      <th>DER_deltaeta_jet_jet</th>\n",
       "      <th>DER_mass_jet_jet</th>\n",
       "      <th>DER_prodeta_jet_jet</th>\n",
       "      <th>DER_deltar_tau_lep</th>\n",
       "      <th>DER_pt_tot</th>\n",
       "      <th>DER_sum_pt</th>\n",
       "      <th>...</th>\n",
       "      <th>PRI_jet_subleading_py</th>\n",
       "      <th>PRI_jet_subleading_pz</th>\n",
       "      <th>PRI_lep_px</th>\n",
       "      <th>PRI_lep_pz</th>\n",
       "      <th>PRI_met_px</th>\n",
       "      <th>PRI_met_py</th>\n",
       "      <th>PRI_met_pt</th>\n",
       "      <th>PRI_jet_num</th>\n",
       "      <th>gen_target</th>\n",
       "      <th>gen_weight</th>\n",
       "    </tr>\n",
       "  </thead>\n",
       "  <tbody>\n",
       "    <tr>\n",
       "      <th>0</th>\n",
       "      <td>109.102997</td>\n",
       "      <td>61.176998</td>\n",
       "      <td>76.580002</td>\n",
       "      <td>59.290001</td>\n",
       "      <td>0.000</td>\n",
       "      <td>0.000000</td>\n",
       "      <td>0.000</td>\n",
       "      <td>3.135</td>\n",
       "      <td>17.427000</td>\n",
       "      <td>121.709999</td>\n",
       "      <td>...</td>\n",
       "      <td>0.000000</td>\n",
       "      <td>0.000000</td>\n",
       "      <td>27.754999</td>\n",
       "      <td>20.293108</td>\n",
       "      <td>-25.913437</td>\n",
       "      <td>32.415176</td>\n",
       "      <td>41.500000</td>\n",
       "      <td>1.0</td>\n",
       "      <td>1</td>\n",
       "      <td>0.000027</td>\n",
       "    </tr>\n",
       "    <tr>\n",
       "      <th>1</th>\n",
       "      <td>181.341995</td>\n",
       "      <td>70.253998</td>\n",
       "      <td>127.005989</td>\n",
       "      <td>2.171000</td>\n",
       "      <td>0.000</td>\n",
       "      <td>0.000000</td>\n",
       "      <td>0.000</td>\n",
       "      <td>3.494</td>\n",
       "      <td>2.171001</td>\n",
       "      <td>95.045998</td>\n",
       "      <td>...</td>\n",
       "      <td>0.000000</td>\n",
       "      <td>0.000000</td>\n",
       "      <td>57.259998</td>\n",
       "      <td>89.156906</td>\n",
       "      <td>-21.388142</td>\n",
       "      <td>-3.724448</td>\n",
       "      <td>21.709999</td>\n",
       "      <td>0.0</td>\n",
       "      <td>0</td>\n",
       "      <td>0.000169</td>\n",
       "    </tr>\n",
       "    <tr>\n",
       "      <th>2</th>\n",
       "      <td>103.282997</td>\n",
       "      <td>17.708000</td>\n",
       "      <td>69.484001</td>\n",
       "      <td>67.527000</td>\n",
       "      <td>0.000</td>\n",
       "      <td>0.000000</td>\n",
       "      <td>0.000</td>\n",
       "      <td>2.436</td>\n",
       "      <td>24.891001</td>\n",
       "      <td>130.563004</td>\n",
       "      <td>...</td>\n",
       "      <td>0.000000</td>\n",
       "      <td>0.000000</td>\n",
       "      <td>50.464001</td>\n",
       "      <td>94.160362</td>\n",
       "      <td>26.598667</td>\n",
       "      <td>13.211420</td>\n",
       "      <td>29.698999</td>\n",
       "      <td>1.0</td>\n",
       "      <td>0</td>\n",
       "      <td>0.000051</td>\n",
       "    </tr>\n",
       "    <tr>\n",
       "      <th>3</th>\n",
       "      <td>103.834000</td>\n",
       "      <td>21.393000</td>\n",
       "      <td>43.523998</td>\n",
       "      <td>312.742004</td>\n",
       "      <td>0.715</td>\n",
       "      <td>245.985992</td>\n",
       "      <td>0.134</td>\n",
       "      <td>0.674</td>\n",
       "      <td>56.143002</td>\n",
       "      <td>530.862000</td>\n",
       "      <td>...</td>\n",
       "      <td>61.189461</td>\n",
       "      <td>-109.277321</td>\n",
       "      <td>49.068001</td>\n",
       "      <td>116.437958</td>\n",
       "      <td>179.089020</td>\n",
       "      <td>41.177582</td>\n",
       "      <td>183.761993</td>\n",
       "      <td>3.0</td>\n",
       "      <td>0</td>\n",
       "      <td>0.000009</td>\n",
       "    </tr>\n",
       "    <tr>\n",
       "      <th>4</th>\n",
       "      <td>92.636002</td>\n",
       "      <td>21.025999</td>\n",
       "      <td>60.842999</td>\n",
       "      <td>150.233002</td>\n",
       "      <td>4.067</td>\n",
       "      <td>482.888000</td>\n",
       "      <td>-3.070</td>\n",
       "      <td>1.284</td>\n",
       "      <td>16.861000</td>\n",
       "      <td>236.300003</td>\n",
       "      <td>...</td>\n",
       "      <td>11.334548</td>\n",
       "      <td>-434.685791</td>\n",
       "      <td>64.210999</td>\n",
       "      <td>234.337982</td>\n",
       "      <td>53.694386</td>\n",
       "      <td>19.539154</td>\n",
       "      <td>57.139000</td>\n",
       "      <td>2.0</td>\n",
       "      <td>0</td>\n",
       "      <td>0.000002</td>\n",
       "    </tr>\n",
       "  </tbody>\n",
       "</table>\n",
       "<p>5 rows × 32 columns</p>\n",
       "</div>"
      ],
      "text/plain": [
       "   DER_mass_MMC  DER_mass_transverse_met_lep  DER_mass_vis    DER_pt_h  \\\n",
       "0    109.102997                    61.176998     76.580002   59.290001   \n",
       "1    181.341995                    70.253998    127.005989    2.171000   \n",
       "2    103.282997                    17.708000     69.484001   67.527000   \n",
       "3    103.834000                    21.393000     43.523998  312.742004   \n",
       "4     92.636002                    21.025999     60.842999  150.233002   \n",
       "\n",
       "   DER_deltaeta_jet_jet  DER_mass_jet_jet  DER_prodeta_jet_jet  \\\n",
       "0                 0.000          0.000000                0.000   \n",
       "1                 0.000          0.000000                0.000   \n",
       "2                 0.000          0.000000                0.000   \n",
       "3                 0.715        245.985992                0.134   \n",
       "4                 4.067        482.888000               -3.070   \n",
       "\n",
       "   DER_deltar_tau_lep  DER_pt_tot  DER_sum_pt  ...  PRI_jet_subleading_py  \\\n",
       "0               3.135   17.427000  121.709999  ...               0.000000   \n",
       "1               3.494    2.171001   95.045998  ...               0.000000   \n",
       "2               2.436   24.891001  130.563004  ...               0.000000   \n",
       "3               0.674   56.143002  530.862000  ...              61.189461   \n",
       "4               1.284   16.861000  236.300003  ...              11.334548   \n",
       "\n",
       "   PRI_jet_subleading_pz  PRI_lep_px  PRI_lep_pz  PRI_met_px  PRI_met_py  \\\n",
       "0               0.000000   27.754999   20.293108  -25.913437   32.415176   \n",
       "1               0.000000   57.259998   89.156906  -21.388142   -3.724448   \n",
       "2               0.000000   50.464001   94.160362   26.598667   13.211420   \n",
       "3            -109.277321   49.068001  116.437958  179.089020   41.177582   \n",
       "4            -434.685791   64.210999  234.337982   53.694386   19.539154   \n",
       "\n",
       "   PRI_met_pt  PRI_jet_num  gen_target  gen_weight  \n",
       "0   41.500000          1.0           1    0.000027  \n",
       "1   21.709999          0.0           0    0.000169  \n",
       "2   29.698999          1.0           0    0.000051  \n",
       "3  183.761993          3.0           0    0.000009  \n",
       "4   57.139000          2.0           0    0.000002  \n",
       "\n",
       "[5 rows x 32 columns]"
      ]
     },
     "execution_count": 5,
     "metadata": {},
     "output_type": "execute_result"
    }
   ],
   "source": [
    "df = train_fy.get_df(inc_inputs=True, deprocess=True); len(df); df.head()"
   ]
  },
  {
   "cell_type": "code",
   "execution_count": 6,
   "metadata": {},
   "outputs": [],
   "source": [
    "font = ImageFont.truetype(\"arial.ttf\", 13)"
   ]
  },
  {
   "cell_type": "code",
   "execution_count": 7,
   "metadata": {},
   "outputs": [],
   "source": [
    "def event2img(event:np.ndarray, size:int=224) -> PIL.Image.Image:\n",
    "    img = Image.fromarray(np.zeros([size,size,3]), 'RGB')\n",
    "    for i, f in enumerate(event):\n",
    "        ImageDraw.Draw(img).text(((0.25+(i%2))*size//2,(i//2)*2*size//len(event)), f'{f:.3f}', fill=(255,255,255), font=font)\n",
    "    return img"
   ]
  },
  {
   "cell_type": "code",
   "execution_count": 8,
   "metadata": {},
   "outputs": [
    {
     "name": "stdout",
     "output_type": "stream",
     "text": [
      "CPU times: user 42.2 ms, sys: 4.78 ms, total: 47 ms\n",
      "Wall time: 46.3 ms\n"
     ]
    },
    {
     "data": {
      "image/png": "[encoded data removed]",
      "text/plain": [
       "<PIL.Image.Image image mode=RGB size=224x224 at 0x7FBDF044B208>"
      ]
     },
     "execution_count": 8,
     "metadata": {},
     "output_type": "execute_result"
    }
   ],
   "source": [
    "%%time\n",
    "event2img(df[train_feats].values[0])"
   ]
  },
  {
   "cell_type": "code",
   "execution_count": 9,
   "metadata": {},
   "outputs": [],
   "source": [
    "for mode in ['train', 'val', 'test']: os.makedirs(IMG_PATH/'images'/mode, exist_ok=True)"
   ]
  },
  {
   "cell_type": "code",
   "execution_count": 10,
   "metadata": {},
   "outputs": [],
   "source": [
    "def save_image(event:np.ndarray, name:Union[str, int, float], loc:Path, size:int=224) -> None:\n",
    "    img = event2img(event, size)\n",
    "    name = str(name)\n",
    "    if '.' not in name: name += '.png'\n",
    "    img.save(loc/name)"
   ]
  },
  {
   "cell_type": "code",
   "execution_count": 11,
   "metadata": {},
   "outputs": [],
   "source": [
    "def proc_sample(df:pd.DataFrame, mode:str, size:int=224) -> None:\n",
    "    func = partial(save_image, loc=IMG_PATH/'images'/mode, size=size)\n",
    "    with ProcessPoolExecutor(10) as e: e.map(func, df[train_feats].values, df.index.values)"
   ]
  },
  {
   "cell_type": "code",
   "execution_count": 12,
   "metadata": {},
   "outputs": [
    {
     "name": "stdout",
     "output_type": "stream",
     "text": [
      "200000 candidates loaded\n"
     ]
    },
    {
     "name": "stderr",
     "output_type": "stream",
     "text": [
      "/home/giles/cernbox/lumin/lumin/nn/data/fold_yielder.py:115: UserWarning: pred not found in foldfile file\n",
      "  warnings.warn(f'{pred_name} not found in foldfile file')\n"
     ]
    },
    {
     "name": "stdout",
     "output_type": "stream",
     "text": [
      "CPU times: user 50.6 s, sys: 5.21 s, total: 55.8 s\n",
      "Wall time: 2min 38s\n"
     ]
    }
   ],
   "source": [
    "%%time\n",
    "train_fy = FoldYielder(h5py.File(DATA_PATH/'train.hdf5', \"r+\"), cont_feats, cat_feats)\n",
    "train_fy.add_input_pipe_from_file(DATA_PATH/'input_pipe.pkl')\n",
    "train_df = train_fy.get_df(inc_inputs=True, deprocess=True)\n",
    "proc_sample(train_df, 'train')"
   ]
  },
  {
   "cell_type": "code",
   "execution_count": 13,
   "metadata": {},
   "outputs": [],
   "source": [
    "train_df.reset_index(inplace=True)\n",
    "train_df.rename(columns={'index':'image_name'}, inplace=True)\n",
    "train_df.to_csv(IMG_PATH/'train.csv', index=False)"
   ]
  },
  {
   "cell_type": "code",
   "execution_count": 17,
   "metadata": {},
   "outputs": [
    {
     "name": "stdout",
     "output_type": "stream",
     "text": [
      "50000 candidates loaded\n"
     ]
    },
    {
     "name": "stderr",
     "output_type": "stream",
     "text": [
      "/home/giles/cernbox/lumin/lumin/nn/data/fold_yielder.py:115: UserWarning: pred not found in foldfile file\n",
      "  warnings.warn(f'{pred_name} not found in foldfile file')\n"
     ]
    },
    {
     "name": "stdout",
     "output_type": "stream",
     "text": [
      "CPU times: user 12.7 s, sys: 1.37 s, total: 14.1 s\n",
      "Wall time: 39.2 s\n"
     ]
    }
   ],
   "source": [
    "%%time\n",
    "val_fy = FoldYielder(h5py.File(DATA_PATH/'val.hdf5', \"r+\"), cont_feats, cat_feats)\n",
    "val_fy.add_input_pipe_from_file(DATA_PATH/'input_pipe.pkl')\n",
    "val_df = val_fy.get_df(inc_inputs=True, deprocess=True)\n",
    "proc_sample(val_df, 'val')"
   ]
  },
  {
   "cell_type": "code",
   "execution_count": 18,
   "metadata": {},
   "outputs": [],
   "source": [
    "val_df.reset_index(inplace=True)\n",
    "val_df.rename(columns={'index':'image_name'}, inplace=True)\n",
    "val_df.to_csv(IMG_PATH/'val.csv', index=False)"
   ]
  },
  {
   "cell_type": "code",
   "execution_count": 19,
   "metadata": {},
   "outputs": [
    {
     "name": "stdout",
     "output_type": "stream",
     "text": [
      "550000 candidates loaded\n"
     ]
    },
    {
     "name": "stderr",
     "output_type": "stream",
     "text": [
      "/home/giles/cernbox/lumin/lumin/nn/data/fold_yielder.py:115: UserWarning: pred not found in foldfile file\n",
      "  warnings.warn(f'{pred_name} not found in foldfile file')\n"
     ]
    },
    {
     "name": "stdout",
     "output_type": "stream",
     "text": [
      "CPU times: user 2min 19s, sys: 13 s, total: 2min 32s\n",
      "Wall time: 7min 38s\n"
     ]
    }
   ],
   "source": [
    "%%time\n",
    "test_fy = FoldYielder(h5py.File(DATA_PATH/'testing.hdf5', \"r+\"), cont_feats, cat_feats)\n",
    "test_fy.add_input_pipe_from_file(DATA_PATH/'input_pipe.pkl')\n",
    "test_df = test_fy.get_df(inc_inputs=True, deprocess=True)\n",
    "test_df['private'] = test_fy.get_column('private')\n",
    "proc_sample(test_df, 'test')"
   ]
  },
  {
   "cell_type": "code",
   "execution_count": 20,
   "metadata": {},
   "outputs": [],
   "source": [
    "test_df.reset_index(inplace=True)\n",
    "test_df.rename(columns={'index':'image_name'}, inplace=True)\n",
    "test_df.to_csv(IMG_PATH/'test.csv', index=False)"
   ]
  },
  {
   "cell_type": "code",
   "execution_count": null,
   "metadata": {},
   "outputs": [],
   "source": []
  }
 ],
 "metadata": {
  "kernelspec": {
   "display_name": "Python 3",
   "language": "python",
   "name": "python3"
  },
  "language_info": {
   "codemirror_mode": {
    "name": "ipython",
    "version": 3
   },
   "file_extension": ".py",
   "mimetype": "text/x-python",
   "name": "python",
   "nbconvert_exporter": "python",
   "pygments_lexer": "ipython3",
   "version": "3.6.4"
  },
  "toc": {
   "base_numbering": 1,
   "nav_menu": {},
   "number_sections": true,
   "sideBar": true,
   "skip_h1_title": false,
   "title_cell": "Table of Contents",
   "title_sidebar": "Contents",
   "toc_cell": false,
   "toc_position": {},
   "toc_section_display": true,
   "toc_window_display": false
  }
 },
 "nbformat": 4,
 "nbformat_minor": 2
}
