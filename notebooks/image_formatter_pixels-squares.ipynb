{
 "cells": [
  {
   "cell_type": "code",
   "execution_count": 1,
   "metadata": {},
   "outputs": [],
   "source": [
    "%matplotlib inline\n",
    "%reload_ext autoreload\n",
    "%autoreload 2\n",
    "from __future__ import division\n",
    "import sys\n",
    "import os\n",
    "sys.path.append('../')\n",
    "from fastai.vision import *\n",
    "from modules.basics import *\n",
    "from PIL import Image, ImageDraw, ImageFont\n",
    "from concurrent.futures import ProcessPoolExecutor"
   ]
  },
  {
   "cell_type": "code",
   "execution_count": 2,
   "metadata": {
    "scrolled": true
   },
   "outputs": [
    {
     "data": {
      "text/plain": [
       "(PosixPath('/home/giles/Documents/kaggle/higgsml'), PosixPath('../data'))"
      ]
     },
     "execution_count": 2,
     "metadata": {},
     "output_type": "execute_result"
    }
   ],
   "source": [
    "IMG_PATH, DATA_PATH"
   ]
  },
  {
   "cell_type": "markdown",
   "metadata": {},
   "source": [
    "# Import data"
   ]
  },
  {
   "cell_type": "markdown",
   "metadata": {},
   "source": [
    "Import and convert data"
   ]
  },
  {
   "cell_type": "code",
   "execution_count": 3,
   "metadata": {
    "scrolled": true
   },
   "outputs": [
    {
     "name": "stdout",
     "output_type": "stream",
     "text": [
      "Setting PRI_lep to phi = 0\n",
      "Setting PRI_tau to positve phi\n",
      "Setting PRI_lep to positive eta\n",
      "eta component of PRI_met not found\n",
      "Converting to use_cartesian coordinates\n",
      "Setting PRI_lep to phi = 0\n",
      "Setting PRI_tau to positve phi\n",
      "Setting PRI_lep to positive eta\n",
      "eta component of PRI_met not found\n",
      "Converting to use_cartesian coordinates\n",
      "Training on 200000 datapoints and validating on 50000, using 30 feats:\n",
      "['DER_mass_MMC', 'DER_mass_transverse_met_lep', 'DER_mass_vis', 'DER_pt_h', 'DER_deltaeta_jet_jet', 'DER_mass_jet_jet', 'DER_prodeta_jet_jet', 'DER_deltar_tau_lep', 'DER_pt_tot', 'DER_sum_pt', 'DER_pt_ratio_lep_tau', 'DER_met_phi_centrality', 'DER_lep_eta_centrality', 'PRI_met_sumet', 'PRI_jet_num', 'PRI_jet_all_pt', 'PRI_jet_subleading_px', 'PRI_jet_subleading_py', 'PRI_jet_subleading_pz', 'PRI_jet_leading_px', 'PRI_jet_leading_py', 'PRI_jet_leading_pz', 'PRI_met_px', 'PRI_met_py', 'PRI_lep_px', 'PRI_lep_pz', 'PRI_tau_px', 'PRI_tau_py', 'PRI_tau_pz', 'PRI_met_pt']\n",
      "Running train\n",
      "Saving fold: 0 of 20003 events\n",
      "Saving fold: 1 of 20003 events\n",
      "Saving fold: 2 of 20003 events\n",
      "Saving fold: 3 of 20003 events\n",
      "Saving fold: 4 of 20002 events\n",
      "Saving fold: 5 of 20001 events\n",
      "Saving fold: 6 of 19999 events\n",
      "Saving fold: 7 of 19996 events\n",
      "Saving fold: 8 of 19995 events\n",
      "Saving fold: 9 of 19995 events\n",
      "Running val\n",
      "Saving fold: 0 of 5003 events\n",
      "Saving fold: 1 of 5003 events\n",
      "Saving fold: 2 of 5002 events\n",
      "Saving fold: 3 of 5002 events\n",
      "Saving fold: 4 of 5001 events\n",
      "Saving fold: 5 of 5001 events\n",
      "Saving fold: 6 of 5000 events\n",
      "Saving fold: 7 of 4997 events\n",
      "Saving fold: 8 of 4996 events\n",
      "Saving fold: 9 of 4995 events\n",
      "Running testing\n",
      "Saving fold: 0 of 55000 events\n",
      "Saving fold: 1 of 55000 events\n",
      "Saving fold: 2 of 55000 events\n",
      "Saving fold: 3 of 55000 events\n",
      "Saving fold: 4 of 55000 events\n",
      "Saving fold: 5 of 55000 events\n",
      "Saving fold: 6 of 55000 events\n",
      "Saving fold: 7 of 55000 events\n",
      "Saving fold: 8 of 55000 events\n",
      "Saving fold: 9 of 55000 events\n"
     ]
    }
   ],
   "source": [
    "!python ../modules/data_import.py -d {DATA_PATH} -f PRI_jet_num -r True -z True -y True"
   ]
  },
  {
   "cell_type": "markdown",
   "metadata": {},
   "source": [
    "Load processed data"
   ]
  },
  {
   "cell_type": "code",
   "execution_count": 3,
   "metadata": {},
   "outputs": [],
   "source": [
    "with open(DATA_PATH/'feats.pkl', 'rb') as fin:\n",
    "    feats = pickle.load(fin)\n",
    "cont_feats = feats['cont_feats']\n",
    "cat_feats = feats['cat_feats']    \n",
    "cat_maps = feats['cat_maps']  \n",
    "cat_szs = feats['cat_szs']  \n",
    "train_feats = cont_feats + cat_feats"
   ]
  },
  {
   "cell_type": "code",
   "execution_count": 4,
   "metadata": {},
   "outputs": [],
   "source": [
    "train_fy = FoldYielder(h5py.File(DATA_PATH/'train.hdf5', \"r+\"), cont_feats, cat_feats)\n",
    "train_fy.add_input_pipe_from_file(DATA_PATH/'input_pipe.pkl')"
   ]
  },
  {
   "cell_type": "code",
   "execution_count": 5,
   "metadata": {},
   "outputs": [
    {
     "name": "stdout",
     "output_type": "stream",
     "text": [
      "200000 candidates loaded\n"
     ]
    },
    {
     "name": "stderr",
     "output_type": "stream",
     "text": [
      "/home/giles/cernbox/lumin/lumin/nn/data/fold_yielder.py:115: UserWarning: pred not found in foldfile file\n",
      "  warnings.warn(f'{pred_name} not found in foldfile file')\n"
     ]
    },
    {
     "data": {
      "text/html": [
       "<div>\n",
       "<style scoped>\n",
       "    .dataframe tbody tr th:only-of-type {\n",
       "        vertical-align: middle;\n",
       "    }\n",
       "\n",
       "    .dataframe tbody tr th {\n",
       "        vertical-align: top;\n",
       "    }\n",
       "\n",
       "    .dataframe thead th {\n",
       "        text-align: right;\n",
       "    }\n",
       "</style>\n",
       "<table border=\"1\" class=\"dataframe\">\n",
       "  <thead>\n",
       "    <tr style=\"text-align: right;\">\n",
       "      <th></th>\n",
       "      <th>DER_mass_MMC</th>\n",
       "      <th>DER_mass_transverse_met_lep</th>\n",
       "      <th>DER_mass_vis</th>\n",
       "      <th>DER_pt_h</th>\n",
       "      <th>DER_deltaeta_jet_jet</th>\n",
       "      <th>DER_mass_jet_jet</th>\n",
       "      <th>DER_prodeta_jet_jet</th>\n",
       "      <th>DER_deltar_tau_lep</th>\n",
       "      <th>DER_pt_tot</th>\n",
       "      <th>DER_sum_pt</th>\n",
       "      <th>...</th>\n",
       "      <th>PRI_jet_leading_px</th>\n",
       "      <th>PRI_jet_leading_py</th>\n",
       "      <th>PRI_jet_leading_pz</th>\n",
       "      <th>PRI_tau_px</th>\n",
       "      <th>PRI_tau_py</th>\n",
       "      <th>PRI_tau_pz</th>\n",
       "      <th>PRI_met_pt</th>\n",
       "      <th>PRI_jet_num</th>\n",
       "      <th>gen_target</th>\n",
       "      <th>gen_weight</th>\n",
       "    </tr>\n",
       "  </thead>\n",
       "  <tbody>\n",
       "    <tr>\n",
       "      <th>0</th>\n",
       "      <td>-0.579069</td>\n",
       "      <td>0.353613</td>\n",
       "      <td>-0.369216</td>\n",
       "      <td>-0.346188</td>\n",
       "      <td>0.000000</td>\n",
       "      <td>0.000000</td>\n",
       "      <td>0.000000</td>\n",
       "      <td>1.120429</td>\n",
       "      <td>-0.649883</td>\n",
       "      <td>-0.581304</td>\n",
       "      <td>...</td>\n",
       "      <td>0.970986</td>\n",
       "      <td>1.283797</td>\n",
       "      <td>-1.510565</td>\n",
       "      <td>-0.410894</td>\n",
       "      <td>-1.001859</td>\n",
       "      <td>-0.666451</td>\n",
       "      <td>-0.001371</td>\n",
       "      <td>1.0</td>\n",
       "      <td>0</td>\n",
       "      <td>0.000068</td>\n",
       "    </tr>\n",
       "    <tr>\n",
       "      <th>1</th>\n",
       "      <td>0.244210</td>\n",
       "      <td>-0.649494</td>\n",
       "      <td>0.546260</td>\n",
       "      <td>-0.837824</td>\n",
       "      <td>0.000000</td>\n",
       "      <td>0.000000</td>\n",
       "      <td>0.000000</td>\n",
       "      <td>0.903170</td>\n",
       "      <td>-0.639305</td>\n",
       "      <td>-0.611745</td>\n",
       "      <td>...</td>\n",
       "      <td>0.000000</td>\n",
       "      <td>0.000000</td>\n",
       "      <td>0.000000</td>\n",
       "      <td>-1.024254</td>\n",
       "      <td>-0.462172</td>\n",
       "      <td>0.175999</td>\n",
       "      <td>-0.802279</td>\n",
       "      <td>0.0</td>\n",
       "      <td>1</td>\n",
       "      <td>0.000337</td>\n",
       "    </tr>\n",
       "    <tr>\n",
       "      <th>2</th>\n",
       "      <td>-0.296617</td>\n",
       "      <td>0.218044</td>\n",
       "      <td>-0.706045</td>\n",
       "      <td>1.115339</td>\n",
       "      <td>-0.295489</td>\n",
       "      <td>-0.544226</td>\n",
       "      <td>0.043918</td>\n",
       "      <td>-1.169738</td>\n",
       "      <td>0.136195</td>\n",
       "      <td>0.499555</td>\n",
       "      <td>...</td>\n",
       "      <td>-0.518689</td>\n",
       "      <td>0.168877</td>\n",
       "      <td>-0.056153</td>\n",
       "      <td>0.638496</td>\n",
       "      <td>0.183240</td>\n",
       "      <td>-0.637821</td>\n",
       "      <td>0.840901</td>\n",
       "      <td>2.0</td>\n",
       "      <td>1</td>\n",
       "      <td>0.000027</td>\n",
       "    </tr>\n",
       "    <tr>\n",
       "      <th>3</th>\n",
       "      <td>0.134165</td>\n",
       "      <td>0.056534</td>\n",
       "      <td>0.552374</td>\n",
       "      <td>-0.014082</td>\n",
       "      <td>0.000000</td>\n",
       "      <td>0.000000</td>\n",
       "      <td>0.000000</td>\n",
       "      <td>0.043080</td>\n",
       "      <td>0.237015</td>\n",
       "      <td>-0.204377</td>\n",
       "      <td>...</td>\n",
       "      <td>0.259272</td>\n",
       "      <td>0.244319</td>\n",
       "      <td>-0.465803</td>\n",
       "      <td>0.060708</td>\n",
       "      <td>0.371238</td>\n",
       "      <td>-1.073789</td>\n",
       "      <td>-0.583300</td>\n",
       "      <td>1.0</td>\n",
       "      <td>1</td>\n",
       "      <td>0.000337</td>\n",
       "    </tr>\n",
       "    <tr>\n",
       "      <th>4</th>\n",
       "      <td>0.056827</td>\n",
       "      <td>-1.308489</td>\n",
       "      <td>0.201556</td>\n",
       "      <td>-0.817440</td>\n",
       "      <td>0.000000</td>\n",
       "      <td>0.000000</td>\n",
       "      <td>0.000000</td>\n",
       "      <td>1.039916</td>\n",
       "      <td>-0.581509</td>\n",
       "      <td>-0.640600</td>\n",
       "      <td>...</td>\n",
       "      <td>0.000000</td>\n",
       "      <td>0.000000</td>\n",
       "      <td>0.000000</td>\n",
       "      <td>-1.207619</td>\n",
       "      <td>-1.078495</td>\n",
       "      <td>0.728985</td>\n",
       "      <td>-0.708092</td>\n",
       "      <td>0.0</td>\n",
       "      <td>1</td>\n",
       "      <td>0.000337</td>\n",
       "    </tr>\n",
       "  </tbody>\n",
       "</table>\n",
       "<p>5 rows × 32 columns</p>\n",
       "</div>"
      ],
      "text/plain": [
       "   DER_mass_MMC  DER_mass_transverse_met_lep  DER_mass_vis  DER_pt_h  \\\n",
       "0     -0.579069                     0.353613     -0.369216 -0.346188   \n",
       "1      0.244210                    -0.649494      0.546260 -0.837824   \n",
       "2     -0.296617                     0.218044     -0.706045  1.115339   \n",
       "3      0.134165                     0.056534      0.552374 -0.014082   \n",
       "4      0.056827                    -1.308489      0.201556 -0.817440   \n",
       "\n",
       "   DER_deltaeta_jet_jet  DER_mass_jet_jet  DER_prodeta_jet_jet  \\\n",
       "0              0.000000          0.000000             0.000000   \n",
       "1              0.000000          0.000000             0.000000   \n",
       "2             -0.295489         -0.544226             0.043918   \n",
       "3              0.000000          0.000000             0.000000   \n",
       "4              0.000000          0.000000             0.000000   \n",
       "\n",
       "   DER_deltar_tau_lep  DER_pt_tot  DER_sum_pt  ...  PRI_jet_leading_px  \\\n",
       "0            1.120429   -0.649883   -0.581304  ...            0.970986   \n",
       "1            0.903170   -0.639305   -0.611745  ...            0.000000   \n",
       "2           -1.169738    0.136195    0.499555  ...           -0.518689   \n",
       "3            0.043080    0.237015   -0.204377  ...            0.259272   \n",
       "4            1.039916   -0.581509   -0.640600  ...            0.000000   \n",
       "\n",
       "   PRI_jet_leading_py  PRI_jet_leading_pz  PRI_tau_px  PRI_tau_py  PRI_tau_pz  \\\n",
       "0            1.283797           -1.510565   -0.410894   -1.001859   -0.666451   \n",
       "1            0.000000            0.000000   -1.024254   -0.462172    0.175999   \n",
       "2            0.168877           -0.056153    0.638496    0.183240   -0.637821   \n",
       "3            0.244319           -0.465803    0.060708    0.371238   -1.073789   \n",
       "4            0.000000            0.000000   -1.207619   -1.078495    0.728985   \n",
       "\n",
       "   PRI_met_pt  PRI_jet_num  gen_target  gen_weight  \n",
       "0   -0.001371          1.0           0    0.000068  \n",
       "1   -0.802279          0.0           1    0.000337  \n",
       "2    0.840901          2.0           1    0.000027  \n",
       "3   -0.583300          1.0           1    0.000337  \n",
       "4   -0.708092          0.0           1    0.000337  \n",
       "\n",
       "[5 rows x 32 columns]"
      ]
     },
     "execution_count": 5,
     "metadata": {},
     "output_type": "execute_result"
    }
   ],
   "source": [
    "df = train_fy.get_df(inc_inputs=True); len(df); df.head()"
   ]
  },
  {
   "cell_type": "markdown",
   "metadata": {},
   "source": [
    "Convert inputs to lie between 0-255"
   ]
  },
  {
   "cell_type": "code",
   "execution_count": 6,
   "metadata": {},
   "outputs": [],
   "source": [
    "def sigmoid(x:np.ndarray) -> np.ndarray: return 1/(1+np.exp(-x))"
   ]
  },
  {
   "cell_type": "code",
   "execution_count": 7,
   "metadata": {},
   "outputs": [],
   "source": [
    "def convert_data(df:pd.DataFrame) -> None:\n",
    "    x_cont = df[cont_feats].values\n",
    "    df[cont_feats] = 255*sigmoid(x_cont)*(x_cont != 0)  # NB Boolean check to ensure missing values still have value of zero\n",
    "    x_cat = df[cat_feats].values\n",
    "    df[cat_feats] = 255*x_cat/np.max(x_cat, axis=0)\n",
    "    df[train_feats] = np.round(df[train_feats].values).astype(np.uint8)"
   ]
  },
  {
   "cell_type": "code",
   "execution_count": 8,
   "metadata": {},
   "outputs": [
    {
     "name": "stderr",
     "output_type": "stream",
     "text": [
      "/home/giles/cernbox/lumin/lumin/nn/data/fold_yielder.py:115: UserWarning: pred not found in foldfile file\n",
      "  warnings.warn(f'{pred_name} not found in foldfile file')\n",
      "/home/giles/anaconda3/lib/python3.6/site-packages/ipykernel_launcher.py:1: RuntimeWarning: overflow encountered in exp\n",
      "  \"\"\"Entry point for launching an IPython kernel.\n"
     ]
    },
    {
     "name": "stdout",
     "output_type": "stream",
     "text": [
      "200000 candidates loaded\n"
     ]
    }
   ],
   "source": [
    "df = train_fy.get_df(inc_inputs=True); len(df); df.head()\n",
    "convert_data(df)"
   ]
  },
  {
   "cell_type": "code",
   "execution_count": 9,
   "metadata": {},
   "outputs": [
    {
     "data": {
      "text/html": [
       "<div>\n",
       "<style scoped>\n",
       "    .dataframe tbody tr th:only-of-type {\n",
       "        vertical-align: middle;\n",
       "    }\n",
       "\n",
       "    .dataframe tbody tr th {\n",
       "        vertical-align: top;\n",
       "    }\n",
       "\n",
       "    .dataframe thead th {\n",
       "        text-align: right;\n",
       "    }\n",
       "</style>\n",
       "<table border=\"1\" class=\"dataframe\">\n",
       "  <thead>\n",
       "    <tr style=\"text-align: right;\">\n",
       "      <th></th>\n",
       "      <th>DER_mass_MMC</th>\n",
       "      <th>DER_mass_transverse_met_lep</th>\n",
       "      <th>DER_mass_vis</th>\n",
       "      <th>DER_pt_h</th>\n",
       "      <th>DER_deltaeta_jet_jet</th>\n",
       "      <th>DER_mass_jet_jet</th>\n",
       "      <th>DER_prodeta_jet_jet</th>\n",
       "      <th>DER_deltar_tau_lep</th>\n",
       "      <th>DER_pt_tot</th>\n",
       "      <th>DER_sum_pt</th>\n",
       "      <th>...</th>\n",
       "      <th>PRI_jet_leading_px</th>\n",
       "      <th>PRI_jet_leading_py</th>\n",
       "      <th>PRI_jet_leading_pz</th>\n",
       "      <th>PRI_tau_px</th>\n",
       "      <th>PRI_tau_py</th>\n",
       "      <th>PRI_tau_pz</th>\n",
       "      <th>PRI_met_pt</th>\n",
       "      <th>PRI_jet_num</th>\n",
       "      <th>gen_target</th>\n",
       "      <th>gen_weight</th>\n",
       "    </tr>\n",
       "  </thead>\n",
       "  <tbody>\n",
       "    <tr>\n",
       "      <th>0</th>\n",
       "      <td>92</td>\n",
       "      <td>150</td>\n",
       "      <td>104</td>\n",
       "      <td>106</td>\n",
       "      <td>0</td>\n",
       "      <td>0</td>\n",
       "      <td>0</td>\n",
       "      <td>192</td>\n",
       "      <td>87</td>\n",
       "      <td>91</td>\n",
       "      <td>...</td>\n",
       "      <td>185</td>\n",
       "      <td>200</td>\n",
       "      <td>46</td>\n",
       "      <td>102</td>\n",
       "      <td>68</td>\n",
       "      <td>87</td>\n",
       "      <td>127</td>\n",
       "      <td>85</td>\n",
       "      <td>0</td>\n",
       "      <td>0.000068</td>\n",
       "    </tr>\n",
       "    <tr>\n",
       "      <th>1</th>\n",
       "      <td>143</td>\n",
       "      <td>87</td>\n",
       "      <td>161</td>\n",
       "      <td>77</td>\n",
       "      <td>0</td>\n",
       "      <td>0</td>\n",
       "      <td>0</td>\n",
       "      <td>181</td>\n",
       "      <td>88</td>\n",
       "      <td>90</td>\n",
       "      <td>...</td>\n",
       "      <td>0</td>\n",
       "      <td>0</td>\n",
       "      <td>0</td>\n",
       "      <td>67</td>\n",
       "      <td>99</td>\n",
       "      <td>139</td>\n",
       "      <td>79</td>\n",
       "      <td>0</td>\n",
       "      <td>1</td>\n",
       "      <td>0.000337</td>\n",
       "    </tr>\n",
       "    <tr>\n",
       "      <th>2</th>\n",
       "      <td>109</td>\n",
       "      <td>141</td>\n",
       "      <td>84</td>\n",
       "      <td>192</td>\n",
       "      <td>109</td>\n",
       "      <td>94</td>\n",
       "      <td>130</td>\n",
       "      <td>60</td>\n",
       "      <td>136</td>\n",
       "      <td>159</td>\n",
       "      <td>...</td>\n",
       "      <td>95</td>\n",
       "      <td>138</td>\n",
       "      <td>124</td>\n",
       "      <td>167</td>\n",
       "      <td>139</td>\n",
       "      <td>88</td>\n",
       "      <td>178</td>\n",
       "      <td>170</td>\n",
       "      <td>1</td>\n",
       "      <td>0.000027</td>\n",
       "    </tr>\n",
       "    <tr>\n",
       "      <th>3</th>\n",
       "      <td>136</td>\n",
       "      <td>131</td>\n",
       "      <td>162</td>\n",
       "      <td>127</td>\n",
       "      <td>0</td>\n",
       "      <td>0</td>\n",
       "      <td>0</td>\n",
       "      <td>130</td>\n",
       "      <td>143</td>\n",
       "      <td>115</td>\n",
       "      <td>...</td>\n",
       "      <td>144</td>\n",
       "      <td>143</td>\n",
       "      <td>98</td>\n",
       "      <td>131</td>\n",
       "      <td>151</td>\n",
       "      <td>65</td>\n",
       "      <td>91</td>\n",
       "      <td>85</td>\n",
       "      <td>1</td>\n",
       "      <td>0.000337</td>\n",
       "    </tr>\n",
       "    <tr>\n",
       "      <th>4</th>\n",
       "      <td>131</td>\n",
       "      <td>54</td>\n",
       "      <td>140</td>\n",
       "      <td>78</td>\n",
       "      <td>0</td>\n",
       "      <td>0</td>\n",
       "      <td>0</td>\n",
       "      <td>188</td>\n",
       "      <td>91</td>\n",
       "      <td>88</td>\n",
       "      <td>...</td>\n",
       "      <td>0</td>\n",
       "      <td>0</td>\n",
       "      <td>0</td>\n",
       "      <td>59</td>\n",
       "      <td>65</td>\n",
       "      <td>172</td>\n",
       "      <td>84</td>\n",
       "      <td>0</td>\n",
       "      <td>1</td>\n",
       "      <td>0.000337</td>\n",
       "    </tr>\n",
       "  </tbody>\n",
       "</table>\n",
       "<p>5 rows × 32 columns</p>\n",
       "</div>"
      ],
      "text/plain": [
       "   DER_mass_MMC  DER_mass_transverse_met_lep  DER_mass_vis  DER_pt_h  \\\n",
       "0            92                          150           104       106   \n",
       "1           143                           87           161        77   \n",
       "2           109                          141            84       192   \n",
       "3           136                          131           162       127   \n",
       "4           131                           54           140        78   \n",
       "\n",
       "   DER_deltaeta_jet_jet  DER_mass_jet_jet  DER_prodeta_jet_jet  \\\n",
       "0                     0                 0                    0   \n",
       "1                     0                 0                    0   \n",
       "2                   109                94                  130   \n",
       "3                     0                 0                    0   \n",
       "4                     0                 0                    0   \n",
       "\n",
       "   DER_deltar_tau_lep  DER_pt_tot  DER_sum_pt  ...  PRI_jet_leading_px  \\\n",
       "0                 192          87          91  ...                 185   \n",
       "1                 181          88          90  ...                   0   \n",
       "2                  60         136         159  ...                  95   \n",
       "3                 130         143         115  ...                 144   \n",
       "4                 188          91          88  ...                   0   \n",
       "\n",
       "   PRI_jet_leading_py  PRI_jet_leading_pz  PRI_tau_px  PRI_tau_py  PRI_tau_pz  \\\n",
       "0                 200                  46         102          68          87   \n",
       "1                   0                   0          67          99         139   \n",
       "2                 138                 124         167         139          88   \n",
       "3                 143                  98         131         151          65   \n",
       "4                   0                   0          59          65         172   \n",
       "\n",
       "   PRI_met_pt  PRI_jet_num  gen_target  gen_weight  \n",
       "0         127           85           0    0.000068  \n",
       "1          79            0           1    0.000337  \n",
       "2         178          170           1    0.000027  \n",
       "3          91           85           1    0.000337  \n",
       "4          84            0           1    0.000337  \n",
       "\n",
       "[5 rows x 32 columns]"
      ]
     },
     "execution_count": 9,
     "metadata": {},
     "output_type": "execute_result"
    }
   ],
   "source": [
    "df.head()"
   ]
  },
  {
   "cell_type": "code",
   "execution_count": 10,
   "metadata": {},
   "outputs": [
    {
     "name": "stderr",
     "output_type": "stream",
     "text": [
      "/home/giles/anaconda3/lib/python3.6/site-packages/scipy/stats/stats.py:1706: FutureWarning: Using a non-tuple sequence for multidimensional indexing is deprecated; use `arr[tuple(seq)]` instead of `arr[seq]`. In the future this will be interpreted as an array index, `arr[np.array(seq)]`, which will result either in an error or a different result.\n",
      "  return np.add.reduce(sorted[indexer] * weights, axis=axis) / sumval\n",
      "/home/giles/anaconda3/lib/python3.6/site-packages/matplotlib/axes/_axes.py:6521: MatplotlibDeprecationWarning: \n",
      "The 'normed' kwarg was deprecated in Matplotlib 2.1 and will be removed in 3.1. Use 'density' instead.\n",
      "  alternative=\"'density'\", removal=\"3.1\")\n"
     ]
    },
    {
     "data": {
      "text/plain": [
       "<matplotlib.axes._subplots.AxesSubplot at 0x7f32cd977e48>"
      ]
     },
     "execution_count": 10,
     "metadata": {},
     "output_type": "execute_result"
    },
    {
     "data": {
      "image/png": "[encoded data removed]",
      "text/plain": [
       "<Figure size 432x288 with 1 Axes>"
      ]
     },
     "metadata": {},
     "output_type": "display_data"
    }
   ],
   "source": [
    "sns.distplot(df.DER_mass_MMC)"
   ]
  },
  {
   "cell_type": "markdown",
   "metadata": {},
   "source": [
    "# Create images"
   ]
  },
  {
   "cell_type": "code",
   "execution_count": 11,
   "metadata": {},
   "outputs": [],
   "source": [
    "def event2img(event:np.ndarray, size:int=224) -> PIL.Image.Image:\n",
    "    arr = np.zeros([size,size], dtype=np.uint8)\n",
    "    width, height = size//6, 6*size//(len(event)-1)\n",
    "    for i, f in enumerate(event):\n",
    "        arr[(i%6)*width:((i%6)+1)*width, (i//6)*height:((i+6)//6)*height] = f\n",
    "    img = Image.fromarray(np.broadcast_to(arr.T[:,:,None], [size,size,3]), 'RGB')\n",
    "    return img"
   ]
  },
  {
   "cell_type": "code",
   "execution_count": 12,
   "metadata": {},
   "outputs": [
    {
     "name": "stdout",
     "output_type": "stream",
     "text": [
      "CPU times: user 16.8 ms, sys: 32.7 ms, total: 49.5 ms\n",
      "Wall time: 51.3 ms\n"
     ]
    },
    {
     "data": {
      "image/png": "[encoded data removed]",
      "text/plain": [
       "<PIL.Image.Image image mode=RGB size=56x56 at 0x7F32CD7DC828>"
      ]
     },
     "execution_count": 12,
     "metadata": {},
     "output_type": "execute_result"
    }
   ],
   "source": [
    "%%time\n",
    "event2img(df[train_feats].values[1], 56)"
   ]
  },
  {
   "cell_type": "code",
   "execution_count": 13,
   "metadata": {},
   "outputs": [],
   "source": [
    "font = ImageFont.truetype(\"arial.ttf\", 13)\n",
    "def event2img_desc(feats:List[str], size:int=224) -> PIL.Image.Image:\n",
    "    img = Image.fromarray(np.zeros([size,size,3]), 'RGB')\n",
    "    width, height = size//6, 6*size//(len(feats)-1)\n",
    "    for i, f in enumerate(feats):\n",
    "        f = f.split('_')\n",
    "        ImageDraw.Draw(img).text(((i%6)*width, (i//6)*height), ('\\n').join(f), fill=(255,255,255), font=font)\n",
    "    return img"
   ]
  },
  {
   "cell_type": "code",
   "execution_count": 14,
   "metadata": {},
   "outputs": [
    {
     "data": {
      "image/png": "[encoded data removed]",
      "text/plain": [
       "<PIL.Image.Image image mode=RGB size=512x512 at 0x7F32CD7425F8>"
      ]
     },
     "execution_count": 14,
     "metadata": {},
     "output_type": "execute_result"
    }
   ],
   "source": [
    "event2img_desc(train_feats, 512)"
   ]
  },
  {
   "cell_type": "code",
   "execution_count": 123,
   "metadata": {},
   "outputs": [],
   "source": [
    "for mode in ['train', 'val', 'test']:\n",
    "    os.makedirs(IMG_PATH/'pixel_squares_images'/mode, exist_ok=True)"
   ]
  },
  {
   "cell_type": "code",
   "execution_count": 124,
   "metadata": {},
   "outputs": [],
   "source": [
    "def save_image(event:np.ndarray, name:Union[str, int, float], loc:Path, size:int=224) -> None:\n",
    "    img = event2img(event, size)\n",
    "    name = str(name)\n",
    "    if '.' not in name: name += '.png'\n",
    "    img.save(loc/name)"
   ]
  },
  {
   "cell_type": "code",
   "execution_count": 125,
   "metadata": {},
   "outputs": [],
   "source": [
    "def proc_sample(df:pd.DataFrame, mode:str, size:int=224) -> None:\n",
    "    func = partial(save_image, loc=IMG_PATH/'pixel_squares_images'/mode, size=size)\n",
    "    with ProcessPoolExecutor(10) as e: e.map(func, df[train_feats].values, df.index.values)"
   ]
  },
  {
   "cell_type": "code",
   "execution_count": 126,
   "metadata": {},
   "outputs": [],
   "source": [
    "SIZE=224//4"
   ]
  },
  {
   "cell_type": "code",
   "execution_count": 127,
   "metadata": {},
   "outputs": [
    {
     "name": "stderr",
     "output_type": "stream",
     "text": [
      "/home/giles/cernbox/lumin/lumin/nn/data/fold_yielder.py:115: UserWarning: pred not found in foldfile file\n",
      "  warnings.warn(f'{pred_name} not found in foldfile file')\n",
      "/home/giles/anaconda3/lib/python3.6/site-packages/ipykernel_launcher.py:1: RuntimeWarning: overflow encountered in exp\n",
      "  \"\"\"Entry point for launching an IPython kernel.\n"
     ]
    },
    {
     "name": "stdout",
     "output_type": "stream",
     "text": [
      "200000 candidates loaded\n",
      "CPU times: user 38.8 s, sys: 5.55 s, total: 44.3 s\n",
      "Wall time: 40.4 s\n"
     ]
    }
   ],
   "source": [
    "%%time\n",
    "train_fy = FoldYielder(h5py.File(DATA_PATH/'train.hdf5', \"r+\"), cont_feats, cat_feats)\n",
    "train_fy.add_input_pipe_from_file(DATA_PATH/'input_pipe.pkl')\n",
    "train_df = train_fy.get_df(inc_inputs=True)\n",
    "convert_data(train_df)\n",
    "proc_sample(train_df, 'train', SIZE)"
   ]
  },
  {
   "cell_type": "code",
   "execution_count": 128,
   "metadata": {},
   "outputs": [],
   "source": [
    "train_df.reset_index(inplace=True)\n",
    "train_df.rename(columns={'index':'image_name'}, inplace=True)\n",
    "train_df.to_csv(IMG_PATH/'train.csv', index=False)"
   ]
  },
  {
   "cell_type": "code",
   "execution_count": 129,
   "metadata": {},
   "outputs": [
    {
     "name": "stderr",
     "output_type": "stream",
     "text": [
      "/home/giles/cernbox/lumin/lumin/nn/data/fold_yielder.py:115: UserWarning: pred not found in foldfile file\n",
      "  warnings.warn(f'{pred_name} not found in foldfile file')\n"
     ]
    },
    {
     "name": "stdout",
     "output_type": "stream",
     "text": [
      "50000 candidates loaded\n",
      "CPU times: user 9.08 s, sys: 1.39 s, total: 10.5 s\n",
      "Wall time: 9.45 s\n"
     ]
    }
   ],
   "source": [
    "%%time\n",
    "val_fy = FoldYielder(h5py.File(DATA_PATH/'val.hdf5', \"r+\"), cont_feats, cat_feats)\n",
    "val_fy.add_input_pipe_from_file(DATA_PATH/'input_pipe.pkl')\n",
    "val_df = val_fy.get_df(inc_inputs=True)\n",
    "convert_data(val_df)\n",
    "proc_sample(val_df, 'val', SIZE)"
   ]
  },
  {
   "cell_type": "code",
   "execution_count": 130,
   "metadata": {},
   "outputs": [],
   "source": [
    "val_df.reset_index(inplace=True)\n",
    "val_df.rename(columns={'index':'image_name'}, inplace=True)\n",
    "val_df.to_csv(IMG_PATH/'val.csv', index=False)"
   ]
  },
  {
   "cell_type": "code",
   "execution_count": 131,
   "metadata": {},
   "outputs": [
    {
     "name": "stderr",
     "output_type": "stream",
     "text": [
      "/home/giles/cernbox/lumin/lumin/nn/data/fold_yielder.py:115: UserWarning: pred not found in foldfile file\n",
      "  warnings.warn(f'{pred_name} not found in foldfile file')\n"
     ]
    },
    {
     "name": "stdout",
     "output_type": "stream",
     "text": [
      "550000 candidates loaded\n",
      "CPU times: user 2min 4s, sys: 18.9 s, total: 2min 23s\n",
      "Wall time: 2min 14s\n"
     ]
    }
   ],
   "source": [
    "%%time\n",
    "test_fy = FoldYielder(h5py.File(DATA_PATH/'testing.hdf5', \"r+\"), cont_feats, cat_feats)\n",
    "test_fy.add_input_pipe_from_file(DATA_PATH/'input_pipe.pkl')\n",
    "test_df = test_fy.get_df(inc_inputs=True)\n",
    "test_df['private'] = test_fy.get_column('private')\n",
    "convert_data(test_df)\n",
    "proc_sample(test_df, 'test', SIZE)"
   ]
  },
  {
   "cell_type": "code",
   "execution_count": 132,
   "metadata": {},
   "outputs": [],
   "source": [
    "test_df.reset_index(inplace=True)\n",
    "test_df.rename(columns={'index':'image_name'}, inplace=True)\n",
    "test_df.to_csv(IMG_PATH/'test.csv', index=False)"
   ]
  },
  {
   "cell_type": "code",
   "execution_count": null,
   "metadata": {},
   "outputs": [],
   "source": []
  },
  {
   "cell_type": "code",
   "execution_count": null,
   "metadata": {},
   "outputs": [],
   "source": []
  }
 ],
 "metadata": {
  "kernelspec": {
   "display_name": "Python 3",
   "language": "python",
   "name": "python3"
  },
  "language_info": {
   "codemirror_mode": {
    "name": "ipython",
    "version": 3
   },
   "file_extension": ".py",
   "mimetype": "text/x-python",
   "name": "python",
   "nbconvert_exporter": "python",
   "pygments_lexer": "ipython3",
   "version": "3.6.4"
  },
  "toc": {
   "base_numbering": 1,
   "nav_menu": {},
   "number_sections": true,
   "sideBar": true,
   "skip_h1_title": false,
   "title_cell": "Table of Contents",
   "title_sidebar": "Contents",
   "toc_cell": false,
   "toc_position": {},
   "toc_section_display": true,
   "toc_window_display": false
  }
 },
 "nbformat": 4,
 "nbformat_minor": 2
}
