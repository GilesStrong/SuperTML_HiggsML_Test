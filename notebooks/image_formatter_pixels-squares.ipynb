{
 "cells": [
  {
   "cell_type": "code",
   "execution_count": 1,
   "metadata": {},
   "outputs": [],
   "source": [
    "%matplotlib inline\n",
    "%reload_ext autoreload\n",
    "%autoreload 2\n",
    "from __future__ import division\n",
    "import sys\n",
    "import os\n",
    "sys.path.append('../')\n",
    "from fastai.vision import *\n",
    "from modules.basics import *\n",
    "from PIL import Image, ImageDraw, ImageFont\n",
    "from concurrent.futures import ProcessPoolExecutor"
   ]
  },
  {
   "cell_type": "code",
   "execution_count": 2,
   "metadata": {
    "scrolled": true
   },
   "outputs": [
    {
     "data": {
      "text/plain": [
       "(PosixPath('/home/giles/Documents/kaggle/higgsml'), PosixPath('../data'))"
      ]
     },
     "execution_count": 2,
     "metadata": {},
     "output_type": "execute_result"
    }
   ],
   "source": [
    "IMG_PATH, DATA_PATH"
   ]
  },
  {
   "cell_type": "markdown",
   "metadata": {},
   "source": [
    "# Import data"
   ]
  },
  {
   "cell_type": "markdown",
   "metadata": {},
   "source": [
    "Import and convert data"
   ]
  },
  {
   "cell_type": "code",
   "execution_count": 3,
   "metadata": {
    "scrolled": true
   },
   "outputs": [
    {
     "name": "stdout",
     "output_type": "stream",
     "text": [
      "Setting PRI_lep to phi = 0\n",
      "Setting PRI_tau to positve phi\n",
      "Setting PRI_lep to positive eta\n",
      "eta component of PRI_met not found\n",
      "Converting to use_cartesian coordinates\n",
      "Setting PRI_lep to phi = 0\n",
      "Setting PRI_tau to positve phi\n",
      "Setting PRI_lep to positive eta\n",
      "eta component of PRI_met not found\n",
      "Converting to use_cartesian coordinates\n",
      "Training on 200000 datapoints and validating on 50000, using 30 feats:\n",
      "['DER_mass_MMC', 'DER_mass_transverse_met_lep', 'DER_mass_vis', 'DER_pt_h', 'DER_deltaeta_jet_jet', 'DER_mass_jet_jet', 'DER_prodeta_jet_jet', 'DER_deltar_tau_lep', 'DER_pt_tot', 'DER_sum_pt', 'DER_pt_ratio_lep_tau', 'DER_met_phi_centrality', 'DER_lep_eta_centrality', 'PRI_met_sumet', 'PRI_jet_num', 'PRI_jet_all_pt', 'PRI_jet_subleading_px', 'PRI_jet_subleading_py', 'PRI_jet_subleading_pz', 'PRI_tau_px', 'PRI_tau_py', 'PRI_tau_pz', 'PRI_lep_px', 'PRI_lep_pz', 'PRI_jet_leading_px', 'PRI_jet_leading_py', 'PRI_jet_leading_pz', 'PRI_met_px', 'PRI_met_py', 'PRI_met_pt']\n",
      "Running train\n",
      "Saving fold: 0 of 20003 events\n",
      "Saving fold: 1 of 20003 events\n",
      "Saving fold: 2 of 20003 events\n",
      "Saving fold: 3 of 20003 events\n",
      "Saving fold: 4 of 20002 events\n",
      "Saving fold: 5 of 20001 events\n",
      "Saving fold: 6 of 19999 events\n",
      "Saving fold: 7 of 19996 events\n",
      "Saving fold: 8 of 19995 events\n",
      "Saving fold: 9 of 19995 events\n",
      "Running val\n",
      "Saving fold: 0 of 5003 events\n",
      "Saving fold: 1 of 5003 events\n",
      "Saving fold: 2 of 5002 events\n",
      "Saving fold: 3 of 5002 events\n",
      "Saving fold: 4 of 5001 events\n",
      "Saving fold: 5 of 5001 events\n",
      "Saving fold: 6 of 5000 events\n",
      "Saving fold: 7 of 4997 events\n",
      "Saving fold: 8 of 4996 events\n",
      "Saving fold: 9 of 4995 events\n",
      "Running testing\n",
      "Saving fold: 0 of 55000 events\n",
      "Saving fold: 1 of 55000 events\n",
      "Saving fold: 2 of 55000 events\n",
      "Saving fold: 3 of 55000 events\n",
      "Saving fold: 4 of 55000 events\n",
      "Saving fold: 5 of 55000 events\n",
      "Saving fold: 6 of 55000 events\n",
      "Saving fold: 7 of 55000 events\n",
      "Saving fold: 8 of 55000 events\n",
      "Saving fold: 9 of 55000 events\n"
     ]
    }
   ],
   "source": [
    "!python ../modules/data_import.py -d {DATA_PATH} -f PRI_jet_num -r True -z True -y True"
   ]
  },
  {
   "cell_type": "markdown",
   "metadata": {},
   "source": [
    "Load processed data"
   ]
  },
  {
   "cell_type": "code",
   "execution_count": 4,
   "metadata": {},
   "outputs": [],
   "source": [
    "with open(DATA_PATH/'feats.pkl', 'rb') as fin:\n",
    "    feats = pickle.load(fin)\n",
    "cont_feats = feats['cont_feats']\n",
    "cat_feats = feats['cat_feats']    \n",
    "cat_maps = feats['cat_maps']  \n",
    "cat_szs = feats['cat_szs']  \n",
    "train_feats = cont_feats + cat_feats"
   ]
  },
  {
   "cell_type": "code",
   "execution_count": 5,
   "metadata": {},
   "outputs": [],
   "source": [
    "train_fy = FoldYielder(h5py.File(DATA_PATH/'train.hdf5', \"r+\"), cont_feats, cat_feats)\n",
    "train_fy.add_input_pipe_from_file(DATA_PATH/'input_pipe.pkl')"
   ]
  },
  {
   "cell_type": "code",
   "execution_count": 6,
   "metadata": {},
   "outputs": [
    {
     "name": "stdout",
     "output_type": "stream",
     "text": [
      "200000 candidates loaded\n"
     ]
    },
    {
     "name": "stderr",
     "output_type": "stream",
     "text": [
      "/home/giles/cernbox/lumin/lumin/nn/data/fold_yielder.py:115: UserWarning: pred not found in foldfile file\n",
      "  warnings.warn(f'{pred_name} not found in foldfile file')\n"
     ]
    },
    {
     "data": {
      "text/html": [
       "<div>\n",
       "<style scoped>\n",
       "    .dataframe tbody tr th:only-of-type {\n",
       "        vertical-align: middle;\n",
       "    }\n",
       "\n",
       "    .dataframe tbody tr th {\n",
       "        vertical-align: top;\n",
       "    }\n",
       "\n",
       "    .dataframe thead th {\n",
       "        text-align: right;\n",
       "    }\n",
       "</style>\n",
       "<table border=\"1\" class=\"dataframe\">\n",
       "  <thead>\n",
       "    <tr style=\"text-align: right;\">\n",
       "      <th></th>\n",
       "      <th>DER_mass_MMC</th>\n",
       "      <th>DER_mass_transverse_met_lep</th>\n",
       "      <th>DER_mass_vis</th>\n",
       "      <th>DER_pt_h</th>\n",
       "      <th>DER_deltaeta_jet_jet</th>\n",
       "      <th>DER_mass_jet_jet</th>\n",
       "      <th>DER_prodeta_jet_jet</th>\n",
       "      <th>DER_deltar_tau_lep</th>\n",
       "      <th>DER_pt_tot</th>\n",
       "      <th>DER_sum_pt</th>\n",
       "      <th>...</th>\n",
       "      <th>PRI_lep_pz</th>\n",
       "      <th>PRI_jet_leading_px</th>\n",
       "      <th>PRI_jet_leading_py</th>\n",
       "      <th>PRI_jet_leading_pz</th>\n",
       "      <th>PRI_met_px</th>\n",
       "      <th>PRI_met_py</th>\n",
       "      <th>PRI_met_pt</th>\n",
       "      <th>PRI_jet_num</th>\n",
       "      <th>gen_target</th>\n",
       "      <th>gen_weight</th>\n",
       "    </tr>\n",
       "  </thead>\n",
       "  <tbody>\n",
       "    <tr>\n",
       "      <th>0</th>\n",
       "      <td>0.000000</td>\n",
       "      <td>2.440682</td>\n",
       "      <td>0.042178</td>\n",
       "      <td>-0.608376</td>\n",
       "      <td>0.000000</td>\n",
       "      <td>0.000000</td>\n",
       "      <td>0.000000</td>\n",
       "      <td>0.660351</td>\n",
       "      <td>0.011274</td>\n",
       "      <td>-0.474278</td>\n",
       "      <td>...</td>\n",
       "      <td>0.245067</td>\n",
       "      <td>0.000000</td>\n",
       "      <td>0.000000</td>\n",
       "      <td>0.000000</td>\n",
       "      <td>-1.304366</td>\n",
       "      <td>0.451690</td>\n",
       "      <td>0.430630</td>\n",
       "      <td>0.0</td>\n",
       "      <td>0</td>\n",
       "      <td>0.000072</td>\n",
       "    </tr>\n",
       "    <tr>\n",
       "      <th>1</th>\n",
       "      <td>-0.463010</td>\n",
       "      <td>-0.809785</td>\n",
       "      <td>-0.459311</td>\n",
       "      <td>-0.431675</td>\n",
       "      <td>0.000000</td>\n",
       "      <td>0.000000</td>\n",
       "      <td>0.000000</td>\n",
       "      <td>0.685911</td>\n",
       "      <td>-0.543261</td>\n",
       "      <td>-0.557187</td>\n",
       "      <td>...</td>\n",
       "      <td>-0.285711</td>\n",
       "      <td>0.366393</td>\n",
       "      <td>0.204193</td>\n",
       "      <td>0.083714</td>\n",
       "      <td>0.223724</td>\n",
       "      <td>0.550056</td>\n",
       "      <td>-0.661287</td>\n",
       "      <td>1.0</td>\n",
       "      <td>0</td>\n",
       "      <td>0.000051</td>\n",
       "    </tr>\n",
       "    <tr>\n",
       "      <th>2</th>\n",
       "      <td>0.244210</td>\n",
       "      <td>-0.649494</td>\n",
       "      <td>0.546260</td>\n",
       "      <td>-0.837824</td>\n",
       "      <td>0.000000</td>\n",
       "      <td>0.000000</td>\n",
       "      <td>0.000000</td>\n",
       "      <td>0.903170</td>\n",
       "      <td>-0.639305</td>\n",
       "      <td>-0.611745</td>\n",
       "      <td>...</td>\n",
       "      <td>1.361912</td>\n",
       "      <td>0.000000</td>\n",
       "      <td>0.000000</td>\n",
       "      <td>0.000000</td>\n",
       "      <td>0.075411</td>\n",
       "      <td>-0.436091</td>\n",
       "      <td>-0.802279</td>\n",
       "      <td>0.0</td>\n",
       "      <td>1</td>\n",
       "      <td>0.000346</td>\n",
       "    </tr>\n",
       "    <tr>\n",
       "      <th>3</th>\n",
       "      <td>0.377215</td>\n",
       "      <td>-1.212751</td>\n",
       "      <td>0.204515</td>\n",
       "      <td>0.639349</td>\n",
       "      <td>2.351673</td>\n",
       "      <td>2.896331</td>\n",
       "      <td>-2.693055</td>\n",
       "      <td>0.605397</td>\n",
       "      <td>-0.739367</td>\n",
       "      <td>0.520510</td>\n",
       "      <td>...</td>\n",
       "      <td>0.158303</td>\n",
       "      <td>-0.498507</td>\n",
       "      <td>1.267615</td>\n",
       "      <td>3.700244</td>\n",
       "      <td>1.311881</td>\n",
       "      <td>-0.189099</td>\n",
       "      <td>0.630523</td>\n",
       "      <td>2.0</td>\n",
       "      <td>1</td>\n",
       "      <td>0.000028</td>\n",
       "    </tr>\n",
       "    <tr>\n",
       "      <th>4</th>\n",
       "      <td>-0.029281</td>\n",
       "      <td>-0.349494</td>\n",
       "      <td>0.099649</td>\n",
       "      <td>0.058481</td>\n",
       "      <td>0.000000</td>\n",
       "      <td>0.000000</td>\n",
       "      <td>0.000000</td>\n",
       "      <td>0.237335</td>\n",
       "      <td>-0.799663</td>\n",
       "      <td>-0.351442</td>\n",
       "      <td>...</td>\n",
       "      <td>-0.878904</td>\n",
       "      <td>0.178446</td>\n",
       "      <td>-0.355608</td>\n",
       "      <td>-0.370221</td>\n",
       "      <td>-0.101406</td>\n",
       "      <td>0.822616</td>\n",
       "      <td>-0.585792</td>\n",
       "      <td>1.0</td>\n",
       "      <td>0</td>\n",
       "      <td>0.000079</td>\n",
       "    </tr>\n",
       "  </tbody>\n",
       "</table>\n",
       "<p>5 rows × 32 columns</p>\n",
       "</div>"
      ],
      "text/plain": [
       "   DER_mass_MMC  DER_mass_transverse_met_lep  DER_mass_vis  DER_pt_h  \\\n",
       "0      0.000000                     2.440682      0.042178 -0.608376   \n",
       "1     -0.463010                    -0.809785     -0.459311 -0.431675   \n",
       "2      0.244210                    -0.649494      0.546260 -0.837824   \n",
       "3      0.377215                    -1.212751      0.204515  0.639349   \n",
       "4     -0.029281                    -0.349494      0.099649  0.058481   \n",
       "\n",
       "   DER_deltaeta_jet_jet  DER_mass_jet_jet  DER_prodeta_jet_jet  \\\n",
       "0              0.000000          0.000000             0.000000   \n",
       "1              0.000000          0.000000             0.000000   \n",
       "2              0.000000          0.000000             0.000000   \n",
       "3              2.351673          2.896331            -2.693055   \n",
       "4              0.000000          0.000000             0.000000   \n",
       "\n",
       "   DER_deltar_tau_lep  DER_pt_tot  DER_sum_pt  ...  PRI_lep_pz  \\\n",
       "0            0.660351    0.011274   -0.474278  ...    0.245067   \n",
       "1            0.685911   -0.543261   -0.557187  ...   -0.285711   \n",
       "2            0.903170   -0.639305   -0.611745  ...    1.361912   \n",
       "3            0.605397   -0.739367    0.520510  ...    0.158303   \n",
       "4            0.237335   -0.799663   -0.351442  ...   -0.878904   \n",
       "\n",
       "   PRI_jet_leading_px  PRI_jet_leading_py  PRI_jet_leading_pz  PRI_met_px  \\\n",
       "0            0.000000            0.000000            0.000000   -1.304366   \n",
       "1            0.366393            0.204193            0.083714    0.223724   \n",
       "2            0.000000            0.000000            0.000000    0.075411   \n",
       "3           -0.498507            1.267615            3.700244    1.311881   \n",
       "4            0.178446           -0.355608           -0.370221   -0.101406   \n",
       "\n",
       "   PRI_met_py  PRI_met_pt  PRI_jet_num  gen_target  gen_weight  \n",
       "0    0.451690    0.430630          0.0           0    0.000072  \n",
       "1    0.550056   -0.661287          1.0           0    0.000051  \n",
       "2   -0.436091   -0.802279          0.0           1    0.000346  \n",
       "3   -0.189099    0.630523          2.0           1    0.000028  \n",
       "4    0.822616   -0.585792          1.0           0    0.000079  \n",
       "\n",
       "[5 rows x 32 columns]"
      ]
     },
     "execution_count": 6,
     "metadata": {},
     "output_type": "execute_result"
    }
   ],
   "source": [
    "df = train_fy.get_df(inc_inputs=True); len(df); df.head()"
   ]
  },
  {
   "cell_type": "markdown",
   "metadata": {},
   "source": [
    "Convert inputs to lie between 0-255"
   ]
  },
  {
   "cell_type": "code",
   "execution_count": 7,
   "metadata": {},
   "outputs": [],
   "source": [
    "def sigmoid(x:np.ndarray) -> np.ndarray: return 1/(1+np.exp(-x))"
   ]
  },
  {
   "cell_type": "code",
   "execution_count": 8,
   "metadata": {},
   "outputs": [],
   "source": [
    "def convert_data(df:pd.DataFrame) -> None:\n",
    "    x_cont = df[cont_feats].values\n",
    "    df[cont_feats] = 255*sigmoid(x_cont)*(x_cont != 0)  # NB Boolean check to ensure missing values still have value of zero\n",
    "    x_cat = df[cat_feats].values\n",
    "    df[cat_feats] = 255*x_cat/np.max(x_cat, axis=0)\n",
    "    df[train_feats] = np.round(df[train_feats].values).astype(np.uint8)"
   ]
  },
  {
   "cell_type": "code",
   "execution_count": 9,
   "metadata": {},
   "outputs": [
    {
     "name": "stderr",
     "output_type": "stream",
     "text": [
      "/home/giles/anaconda3/lib/python3.6/site-packages/ipykernel_launcher.py:1: RuntimeWarning: overflow encountered in exp\n",
      "  \"\"\"Entry point for launching an IPython kernel.\n"
     ]
    }
   ],
   "source": [
    "convert_data(df)"
   ]
  },
  {
   "cell_type": "code",
   "execution_count": 10,
   "metadata": {},
   "outputs": [
    {
     "data": {
      "text/html": [
       "<div>\n",
       "<style scoped>\n",
       "    .dataframe tbody tr th:only-of-type {\n",
       "        vertical-align: middle;\n",
       "    }\n",
       "\n",
       "    .dataframe tbody tr th {\n",
       "        vertical-align: top;\n",
       "    }\n",
       "\n",
       "    .dataframe thead th {\n",
       "        text-align: right;\n",
       "    }\n",
       "</style>\n",
       "<table border=\"1\" class=\"dataframe\">\n",
       "  <thead>\n",
       "    <tr style=\"text-align: right;\">\n",
       "      <th></th>\n",
       "      <th>DER_mass_MMC</th>\n",
       "      <th>DER_mass_transverse_met_lep</th>\n",
       "      <th>DER_mass_vis</th>\n",
       "      <th>DER_pt_h</th>\n",
       "      <th>DER_deltaeta_jet_jet</th>\n",
       "      <th>DER_mass_jet_jet</th>\n",
       "      <th>DER_prodeta_jet_jet</th>\n",
       "      <th>DER_deltar_tau_lep</th>\n",
       "      <th>DER_pt_tot</th>\n",
       "      <th>DER_sum_pt</th>\n",
       "      <th>...</th>\n",
       "      <th>PRI_lep_pz</th>\n",
       "      <th>PRI_jet_leading_px</th>\n",
       "      <th>PRI_jet_leading_py</th>\n",
       "      <th>PRI_jet_leading_pz</th>\n",
       "      <th>PRI_met_px</th>\n",
       "      <th>PRI_met_py</th>\n",
       "      <th>PRI_met_pt</th>\n",
       "      <th>PRI_jet_num</th>\n",
       "      <th>gen_target</th>\n",
       "      <th>gen_weight</th>\n",
       "    </tr>\n",
       "  </thead>\n",
       "  <tbody>\n",
       "    <tr>\n",
       "      <th>0</th>\n",
       "      <td>0</td>\n",
       "      <td>235</td>\n",
       "      <td>130</td>\n",
       "      <td>90</td>\n",
       "      <td>0</td>\n",
       "      <td>0</td>\n",
       "      <td>0</td>\n",
       "      <td>168</td>\n",
       "      <td>128</td>\n",
       "      <td>98</td>\n",
       "      <td>...</td>\n",
       "      <td>143</td>\n",
       "      <td>0</td>\n",
       "      <td>0</td>\n",
       "      <td>0</td>\n",
       "      <td>54</td>\n",
       "      <td>156</td>\n",
       "      <td>155</td>\n",
       "      <td>0</td>\n",
       "      <td>0</td>\n",
       "      <td>0.000072</td>\n",
       "    </tr>\n",
       "    <tr>\n",
       "      <th>1</th>\n",
       "      <td>98</td>\n",
       "      <td>79</td>\n",
       "      <td>99</td>\n",
       "      <td>100</td>\n",
       "      <td>0</td>\n",
       "      <td>0</td>\n",
       "      <td>0</td>\n",
       "      <td>170</td>\n",
       "      <td>94</td>\n",
       "      <td>93</td>\n",
       "      <td>...</td>\n",
       "      <td>109</td>\n",
       "      <td>151</td>\n",
       "      <td>140</td>\n",
       "      <td>133</td>\n",
       "      <td>142</td>\n",
       "      <td>162</td>\n",
       "      <td>87</td>\n",
       "      <td>85</td>\n",
       "      <td>0</td>\n",
       "      <td>0.000051</td>\n",
       "    </tr>\n",
       "    <tr>\n",
       "      <th>2</th>\n",
       "      <td>143</td>\n",
       "      <td>87</td>\n",
       "      <td>161</td>\n",
       "      <td>77</td>\n",
       "      <td>0</td>\n",
       "      <td>0</td>\n",
       "      <td>0</td>\n",
       "      <td>181</td>\n",
       "      <td>88</td>\n",
       "      <td>90</td>\n",
       "      <td>...</td>\n",
       "      <td>203</td>\n",
       "      <td>0</td>\n",
       "      <td>0</td>\n",
       "      <td>0</td>\n",
       "      <td>132</td>\n",
       "      <td>100</td>\n",
       "      <td>79</td>\n",
       "      <td>0</td>\n",
       "      <td>1</td>\n",
       "      <td>0.000346</td>\n",
       "    </tr>\n",
       "    <tr>\n",
       "      <th>3</th>\n",
       "      <td>151</td>\n",
       "      <td>58</td>\n",
       "      <td>140</td>\n",
       "      <td>167</td>\n",
       "      <td>233</td>\n",
       "      <td>242</td>\n",
       "      <td>16</td>\n",
       "      <td>165</td>\n",
       "      <td>82</td>\n",
       "      <td>160</td>\n",
       "      <td>...</td>\n",
       "      <td>138</td>\n",
       "      <td>96</td>\n",
       "      <td>199</td>\n",
       "      <td>249</td>\n",
       "      <td>201</td>\n",
       "      <td>115</td>\n",
       "      <td>166</td>\n",
       "      <td>170</td>\n",
       "      <td>1</td>\n",
       "      <td>0.000028</td>\n",
       "    </tr>\n",
       "    <tr>\n",
       "      <th>4</th>\n",
       "      <td>126</td>\n",
       "      <td>105</td>\n",
       "      <td>134</td>\n",
       "      <td>131</td>\n",
       "      <td>0</td>\n",
       "      <td>0</td>\n",
       "      <td>0</td>\n",
       "      <td>143</td>\n",
       "      <td>79</td>\n",
       "      <td>105</td>\n",
       "      <td>...</td>\n",
       "      <td>75</td>\n",
       "      <td>139</td>\n",
       "      <td>105</td>\n",
       "      <td>104</td>\n",
       "      <td>121</td>\n",
       "      <td>177</td>\n",
       "      <td>91</td>\n",
       "      <td>85</td>\n",
       "      <td>0</td>\n",
       "      <td>0.000079</td>\n",
       "    </tr>\n",
       "  </tbody>\n",
       "</table>\n",
       "<p>5 rows × 32 columns</p>\n",
       "</div>"
      ],
      "text/plain": [
       "   DER_mass_MMC  DER_mass_transverse_met_lep  DER_mass_vis  DER_pt_h  \\\n",
       "0             0                          235           130        90   \n",
       "1            98                           79            99       100   \n",
       "2           143                           87           161        77   \n",
       "3           151                           58           140       167   \n",
       "4           126                          105           134       131   \n",
       "\n",
       "   DER_deltaeta_jet_jet  DER_mass_jet_jet  DER_prodeta_jet_jet  \\\n",
       "0                     0                 0                    0   \n",
       "1                     0                 0                    0   \n",
       "2                     0                 0                    0   \n",
       "3                   233               242                   16   \n",
       "4                     0                 0                    0   \n",
       "\n",
       "   DER_deltar_tau_lep  DER_pt_tot  DER_sum_pt  ...  PRI_lep_pz  \\\n",
       "0                 168         128          98  ...         143   \n",
       "1                 170          94          93  ...         109   \n",
       "2                 181          88          90  ...         203   \n",
       "3                 165          82         160  ...         138   \n",
       "4                 143          79         105  ...          75   \n",
       "\n",
       "   PRI_jet_leading_px  PRI_jet_leading_py  PRI_jet_leading_pz  PRI_met_px  \\\n",
       "0                   0                   0                   0          54   \n",
       "1                 151                 140                 133         142   \n",
       "2                   0                   0                   0         132   \n",
       "3                  96                 199                 249         201   \n",
       "4                 139                 105                 104         121   \n",
       "\n",
       "   PRI_met_py  PRI_met_pt  PRI_jet_num  gen_target  gen_weight  \n",
       "0         156         155            0           0    0.000072  \n",
       "1         162          87           85           0    0.000051  \n",
       "2         100          79            0           1    0.000346  \n",
       "3         115         166          170           1    0.000028  \n",
       "4         177          91           85           0    0.000079  \n",
       "\n",
       "[5 rows x 32 columns]"
      ]
     },
     "execution_count": 10,
     "metadata": {},
     "output_type": "execute_result"
    }
   ],
   "source": [
    "df.head()"
   ]
  },
  {
   "cell_type": "code",
   "execution_count": 11,
   "metadata": {},
   "outputs": [
    {
     "name": "stderr",
     "output_type": "stream",
     "text": [
      "/home/giles/anaconda3/lib/python3.6/site-packages/scipy/stats/stats.py:1706: FutureWarning: Using a non-tuple sequence for multidimensional indexing is deprecated; use `arr[tuple(seq)]` instead of `arr[seq]`. In the future this will be interpreted as an array index, `arr[np.array(seq)]`, which will result either in an error or a different result.\n",
      "  return np.add.reduce(sorted[indexer] * weights, axis=axis) / sumval\n",
      "/home/giles/anaconda3/lib/python3.6/site-packages/matplotlib/axes/_axes.py:6521: MatplotlibDeprecationWarning: \n",
      "The 'normed' kwarg was deprecated in Matplotlib 2.1 and will be removed in 3.1. Use 'density' instead.\n",
      "  alternative=\"'density'\", removal=\"3.1\")\n"
     ]
    },
    {
     "data": {
      "text/plain": [
       "<matplotlib.axes._subplots.AxesSubplot at 0x7f2527b22780>"
      ]
     },
     "execution_count": 11,
     "metadata": {},
     "output_type": "execute_result"
    },
    {
     "data": {
      "image/png": "[encoded data removed]",
      "text/plain": [
       "<Figure size 432x288 with 1 Axes>"
      ]
     },
     "metadata": {},
     "output_type": "display_data"
    }
   ],
   "source": [
    "sns.distplot(df.DER_mass_MMC)"
   ]
  },
  {
   "cell_type": "markdown",
   "metadata": {},
   "source": [
    "# Create images"
   ]
  },
  {
   "cell_type": "code",
   "execution_count": 24,
   "metadata": {},
   "outputs": [],
   "source": [
    "def event2img(event:np.ndarray, size:int=224) -> PIL.Image.Image:\n",
    "    arr = np.zeros([size,size], dtype=np.uint8)\n",
    "    width, height = size//6, 6*size//(len(event)-1)\n",
    "    for i, f in enumerate(event):\n",
    "        arr[(i%6)*width:((i%6)+1)*width, (i//6)*height:((i+6)//6)*height] = f\n",
    "    img = Image.fromarray(np.broadcast_to(arr[:,:,None], [size,size,3]), 'RGB')\n",
    "    return img"
   ]
  },
  {
   "cell_type": "code",
   "execution_count": 28,
   "metadata": {},
   "outputs": [
    {
     "name": "stdout",
     "output_type": "stream",
     "text": [
      "CPU times: user 7.28 ms, sys: 0 ns, total: 7.28 ms\n",
      "Wall time: 7.12 ms\n"
     ]
    },
    {
     "data": {
      "image/png": "[encoded data removed]",
      "text/plain": [
       "<PIL.Image.Image image mode=RGB size=60x60 at 0x7F24CD0F1BE0>"
      ]
     },
     "execution_count": 28,
     "metadata": {},
     "output_type": "execute_result"
    }
   ],
   "source": [
    "%%time\n",
    "event2img(df[train_feats].values[1], 60)"
   ]
  },
  {
   "cell_type": "code",
   "execution_count": 35,
   "metadata": {},
   "outputs": [],
   "source": [
    "for mode in ['train', 'val', 'test']:\n",
    "    os.makedirs(IMG_PATH/'pixel_squares_images'/mode, exist_ok=True)"
   ]
  },
  {
   "cell_type": "code",
   "execution_count": 36,
   "metadata": {},
   "outputs": [],
   "source": [
    "def save_image(event:np.ndarray, name:Union[str, int, float], loc:Path, size:int=224) -> None:\n",
    "    img = event2img(event, size)\n",
    "    name = str(name)\n",
    "    if '.' not in name: name += '.png'\n",
    "    img.save(loc/name)"
   ]
  },
  {
   "cell_type": "code",
   "execution_count": 37,
   "metadata": {},
   "outputs": [],
   "source": [
    "def proc_sample(df:pd.DataFrame, mode:str, size:int=224) -> None:\n",
    "    func = partial(save_image, loc=IMG_PATH/'pixel_squares_images'/mode, size=size)\n",
    "    with ProcessPoolExecutor(10) as e: e.map(func, df[train_feats].values, df.index.values)"
   ]
  },
  {
   "cell_type": "code",
   "execution_count": 38,
   "metadata": {},
   "outputs": [],
   "source": [
    "SIZE=224//4"
   ]
  },
  {
   "cell_type": "code",
   "execution_count": 39,
   "metadata": {},
   "outputs": [
    {
     "name": "stderr",
     "output_type": "stream",
     "text": [
      "/home/giles/cernbox/lumin/lumin/nn/data/fold_yielder.py:115: UserWarning: pred not found in foldfile file\n",
      "  warnings.warn(f'{pred_name} not found in foldfile file')\n",
      "/home/giles/anaconda3/lib/python3.6/site-packages/ipykernel_launcher.py:1: RuntimeWarning: overflow encountered in exp\n",
      "  \"\"\"Entry point for launching an IPython kernel.\n"
     ]
    },
    {
     "name": "stdout",
     "output_type": "stream",
     "text": [
      "200000 candidates loaded\n",
      "CPU times: user 38.2 s, sys: 5.95 s, total: 44.2 s\n",
      "Wall time: 40.8 s\n"
     ]
    }
   ],
   "source": [
    "%%time\n",
    "train_fy = FoldYielder(h5py.File(DATA_PATH/'train.hdf5', \"r+\"), cont_feats, cat_feats)\n",
    "train_fy.add_input_pipe_from_file(DATA_PATH/'input_pipe.pkl')\n",
    "train_df = train_fy.get_df(inc_inputs=True)\n",
    "convert_data(train_df)\n",
    "proc_sample(train_df, 'train', SIZE)"
   ]
  },
  {
   "cell_type": "code",
   "execution_count": 40,
   "metadata": {},
   "outputs": [],
   "source": [
    "train_df.reset_index(inplace=True)\n",
    "train_df.rename(columns={'index':'image_name'}, inplace=True)\n",
    "train_df.to_csv(IMG_PATH/'train.csv', index=False)"
   ]
  },
  {
   "cell_type": "code",
   "execution_count": 20,
   "metadata": {},
   "outputs": [
    {
     "name": "stderr",
     "output_type": "stream",
     "text": [
      "/home/giles/cernbox/lumin/lumin/nn/data/fold_yielder.py:115: UserWarning: pred not found in foldfile file\n",
      "  warnings.warn(f'{pred_name} not found in foldfile file')\n"
     ]
    },
    {
     "name": "stdout",
     "output_type": "stream",
     "text": [
      "50000 candidates loaded\n",
      "CPU times: user 8.76 s, sys: 1.53 s, total: 10.3 s\n",
      "Wall time: 9.33 s\n"
     ]
    }
   ],
   "source": [
    "%%time\n",
    "val_fy = FoldYielder(h5py.File(DATA_PATH/'val.hdf5', \"r+\"), cont_feats, cat_feats)\n",
    "val_fy.add_input_pipe_from_file(DATA_PATH/'input_pipe.pkl')\n",
    "val_df = val_fy.get_df(inc_inputs=True)\n",
    "convert_data(val_df)\n",
    "proc_sample(val_df, 'val', SIZE)"
   ]
  },
  {
   "cell_type": "code",
   "execution_count": 21,
   "metadata": {},
   "outputs": [],
   "source": [
    "val_df.reset_index(inplace=True)\n",
    "val_df.rename(columns={'index':'image_name'}, inplace=True)\n",
    "val_df.to_csv(IMG_PATH/'val.csv', index=False)"
   ]
  },
  {
   "cell_type": "code",
   "execution_count": 22,
   "metadata": {},
   "outputs": [
    {
     "name": "stderr",
     "output_type": "stream",
     "text": [
      "/home/giles/cernbox/lumin/lumin/nn/data/fold_yielder.py:115: UserWarning: pred not found in foldfile file\n",
      "  warnings.warn(f'{pred_name} not found in foldfile file')\n"
     ]
    },
    {
     "name": "stdout",
     "output_type": "stream",
     "text": [
      "550000 candidates loaded\n",
      "CPU times: user 2min 6s, sys: 19.9 s, total: 2min 26s\n",
      "Wall time: 2min 18s\n"
     ]
    }
   ],
   "source": [
    "%%time\n",
    "test_fy = FoldYielder(h5py.File(DATA_PATH/'testing.hdf5', \"r+\"), cont_feats, cat_feats)\n",
    "test_fy.add_input_pipe_from_file(DATA_PATH/'input_pipe.pkl')\n",
    "test_df = test_fy.get_df(inc_inputs=True)\n",
    "test_df['private'] = test_fy.get_column('private')\n",
    "convert_data(test_df)\n",
    "proc_sample(test_df, 'test', SIZE)"
   ]
  },
  {
   "cell_type": "code",
   "execution_count": 23,
   "metadata": {},
   "outputs": [],
   "source": [
    "test_df.reset_index(inplace=True)\n",
    "test_df.rename(columns={'index':'image_name'}, inplace=True)\n",
    "test_df.to_csv(IMG_PATH/'test.csv', index=False)"
   ]
  },
  {
   "cell_type": "code",
   "execution_count": null,
   "metadata": {},
   "outputs": [],
   "source": []
  }
 ],
 "metadata": {
  "kernelspec": {
   "display_name": "Python 3",
   "language": "python",
   "name": "python3"
  },
  "language_info": {
   "codemirror_mode": {
    "name": "ipython",
    "version": 3
   },
   "file_extension": ".py",
   "mimetype": "text/x-python",
   "name": "python",
   "nbconvert_exporter": "python",
   "pygments_lexer": "ipython3",
   "version": "3.6.4"
  },
  "toc": {
   "base_numbering": 1,
   "nav_menu": {},
   "number_sections": true,
   "sideBar": true,
   "skip_h1_title": false,
   "title_cell": "Table of Contents",
   "title_sidebar": "Contents",
   "toc_cell": false,
   "toc_position": {},
   "toc_section_display": true,
   "toc_window_display": false
  }
 },
 "nbformat": 4,
 "nbformat_minor": 2
}
