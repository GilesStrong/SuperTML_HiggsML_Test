{
 "cells": [
  {
   "cell_type": "code",
   "execution_count": 1,
   "metadata": {},
   "outputs": [],
   "source": [
    "%matplotlib inline\n",
    "%reload_ext autoreload\n",
    "%autoreload 2"
   ]
  },
  {
   "cell_type": "code",
   "execution_count": 2,
   "metadata": {},
   "outputs": [],
   "source": [
    "from __future__ import division\n",
    "import sys\n",
    "import os\n",
    "sys.path.append('../')\n",
    "from fastai.vision import *\n",
    "from modules.basics import *\n",
    "from PIL import Image, ImageDraw, ImageFont\n",
    "from concurrent.futures import ProcessPoolExecutor"
   ]
  },
  {
   "cell_type": "code",
   "execution_count": 3,
   "metadata": {},
   "outputs": [
    {
     "data": {
      "text/plain": [
       "(PosixPath('/home/giles/Documents/kaggle/higgsml'), PosixPath('../data'))"
      ]
     },
     "execution_count": 3,
     "metadata": {},
     "output_type": "execute_result"
    }
   ],
   "source": [
    "IMG_PATH, DATA_PATH"
   ]
  },
  {
   "cell_type": "code",
   "execution_count": 4,
   "metadata": {},
   "outputs": [],
   "source": [
    "IMG_PATH = DATA_PATH/'higgsml'"
   ]
  },
  {
   "cell_type": "code",
   "execution_count": 9,
   "metadata": {
    "scrolled": true
   },
   "outputs": [
    {
     "name": "stdout",
     "output_type": "stream",
     "text": [
      "Training on 200000 datapoints and validating on 50000, using 30 feats:\n",
      "['DER_mass_MMC', 'DER_mass_transverse_met_lep', 'DER_mass_vis', 'DER_pt_h', 'DER_deltaeta_jet_jet', 'DER_mass_jet_jet', 'DER_prodeta_jet_jet', 'DER_deltar_tau_lep', 'DER_pt_tot', 'DER_sum_pt', 'DER_pt_ratio_lep_tau', 'DER_met_phi_centrality', 'DER_lep_eta_centrality', 'PRI_tau_pt', 'PRI_tau_eta', 'PRI_tau_phi', 'PRI_lep_pt', 'PRI_lep_eta', 'PRI_lep_phi', 'PRI_met_pt', 'PRI_met_phi', 'PRI_met_sumet', 'PRI_jet_num', 'PRI_jet_leading_pt', 'PRI_jet_leading_eta', 'PRI_jet_leading_phi', 'PRI_jet_subleading_pt', 'PRI_jet_subleading_eta', 'PRI_jet_subleading_phi', 'PRI_jet_all_pt']\n",
      "Running train\n",
      "rm: cannot remove ‘../data/train.hdf5’: No such file or directory\n",
      "Saving fold: 0 of 20001 events\n",
      "Saving fold: 1 of 20001 events\n",
      "Saving fold: 2 of 20001 events\n",
      "Saving fold: 3 of 20001 events\n",
      "Saving fold: 4 of 20000 events\n",
      "Saving fold: 5 of 20000 events\n",
      "Saving fold: 6 of 19999 events\n",
      "Saving fold: 7 of 19999 events\n",
      "Saving fold: 8 of 19999 events\n",
      "Saving fold: 9 of 19999 events\n",
      "Running val\n",
      "rm: cannot remove ‘../data/val.hdf5’: No such file or directory\n",
      "Saving fold: 0 of 5001 events\n",
      "Saving fold: 1 of 5001 events\n",
      "Saving fold: 2 of 5001 events\n",
      "Saving fold: 3 of 5000 events\n",
      "Saving fold: 4 of 5000 events\n",
      "Saving fold: 5 of 5000 events\n",
      "Saving fold: 6 of 5000 events\n",
      "Saving fold: 7 of 4999 events\n",
      "Saving fold: 8 of 4999 events\n",
      "Saving fold: 9 of 4999 events\n",
      "Running testing\n",
      "rm: cannot remove ‘../data/testing.hdf5’: No such file or directory\n",
      "Saving fold: 0 of 55000 events\n",
      "Saving fold: 1 of 55000 events\n",
      "Saving fold: 2 of 55000 events\n",
      "Saving fold: 3 of 55000 events\n",
      "Saving fold: 4 of 55000 events\n",
      "Saving fold: 5 of 55000 events\n",
      "Saving fold: 6 of 55000 events\n",
      "Saving fold: 7 of 55000 events\n",
      "Saving fold: 8 of 55000 events\n",
      "Saving fold: 9 of 55000 events\n"
     ]
    }
   ],
   "source": [
    "!python ../modules/data_import.py -d {DATA_PATH} -c False #-f PRI_jet_num -r True -z True -y True -h"
   ]
  },
  {
   "cell_type": "code",
   "execution_count": 10,
   "metadata": {},
   "outputs": [],
   "source": [
    "with open(DATA_PATH/'feats.pkl', 'rb') as fin:\n",
    "    feats = pickle.load(fin)\n",
    "cont_feats = feats['cont_feats']\n",
    "cat_feats = feats['cat_feats']    \n",
    "cat_maps = feats['cat_maps']  \n",
    "cat_szs = feats['cat_szs']  \n",
    "train_feats = cont_feats + cat_feats"
   ]
  },
  {
   "cell_type": "code",
   "execution_count": 11,
   "metadata": {},
   "outputs": [],
   "source": [
    "train_fy = FoldYielder(h5py.File(DATA_PATH/'train.hdf5', \"r+\"), cont_feats, cat_feats)\n",
    "train_fy.add_input_pipe_from_file(DATA_PATH/'input_pipe.pkl')"
   ]
  },
  {
   "cell_type": "code",
   "execution_count": 12,
   "metadata": {},
   "outputs": [
    {
     "name": "stdout",
     "output_type": "stream",
     "text": [
      "200000 candidates loaded\n"
     ]
    },
    {
     "name": "stderr",
     "output_type": "stream",
     "text": [
      "/home/giles/anaconda3/envs/fastai/lib/python3.6/site-packages/lumin/nn/data/fold_yielder.py:115: UserWarning: pred not found in foldfile file\n",
      "  warnings.warn(f'{pred_name} not found in foldfile file')\n"
     ]
    },
    {
     "data": {
      "text/html": [
       "<div>\n",
       "<style scoped>\n",
       "    .dataframe tbody tr th:only-of-type {\n",
       "        vertical-align: middle;\n",
       "    }\n",
       "\n",
       "    .dataframe tbody tr th {\n",
       "        vertical-align: top;\n",
       "    }\n",
       "\n",
       "    .dataframe thead th {\n",
       "        text-align: right;\n",
       "    }\n",
       "</style>\n",
       "<table border=\"1\" class=\"dataframe\">\n",
       "  <thead>\n",
       "    <tr style=\"text-align: right;\">\n",
       "      <th></th>\n",
       "      <th>DER_mass_MMC</th>\n",
       "      <th>DER_mass_transverse_met_lep</th>\n",
       "      <th>DER_mass_vis</th>\n",
       "      <th>DER_pt_h</th>\n",
       "      <th>DER_deltaeta_jet_jet</th>\n",
       "      <th>DER_mass_jet_jet</th>\n",
       "      <th>DER_prodeta_jet_jet</th>\n",
       "      <th>DER_deltar_tau_lep</th>\n",
       "      <th>DER_pt_tot</th>\n",
       "      <th>DER_sum_pt</th>\n",
       "      <th>...</th>\n",
       "      <th>PRI_jet_num</th>\n",
       "      <th>PRI_jet_leading_pt</th>\n",
       "      <th>PRI_jet_leading_eta</th>\n",
       "      <th>PRI_jet_leading_phi</th>\n",
       "      <th>PRI_jet_subleading_pt</th>\n",
       "      <th>PRI_jet_subleading_eta</th>\n",
       "      <th>PRI_jet_subleading_phi</th>\n",
       "      <th>PRI_jet_all_pt</th>\n",
       "      <th>gen_target</th>\n",
       "      <th>gen_weight</th>\n",
       "    </tr>\n",
       "  </thead>\n",
       "  <tbody>\n",
       "    <tr>\n",
       "      <th>0</th>\n",
       "      <td>120.280998</td>\n",
       "      <td>40.030998</td>\n",
       "      <td>87.237000</td>\n",
       "      <td>72.169998</td>\n",
       "      <td>0.000</td>\n",
       "      <td>0.000000</td>\n",
       "      <td>0.00</td>\n",
       "      <td>2.001</td>\n",
       "      <td>2.070999</td>\n",
       "      <td>175.783005</td>\n",
       "      <td>...</td>\n",
       "      <td>1.000000e+00</td>\n",
       "      <td>73.836998</td>\n",
       "      <td>0.346</td>\n",
       "      <td>2.888</td>\n",
       "      <td>0.000000</td>\n",
       "      <td>0.000</td>\n",
       "      <td>0.000</td>\n",
       "      <td>7.383700e+01</td>\n",
       "      <td>1</td>\n",
       "      <td>0.000048</td>\n",
       "    </tr>\n",
       "    <tr>\n",
       "      <th>1</th>\n",
       "      <td>105.942001</td>\n",
       "      <td>44.081001</td>\n",
       "      <td>65.517998</td>\n",
       "      <td>30.698999</td>\n",
       "      <td>0.000</td>\n",
       "      <td>0.000000</td>\n",
       "      <td>0.00</td>\n",
       "      <td>2.736</td>\n",
       "      <td>30.698999</td>\n",
       "      <td>58.908005</td>\n",
       "      <td>...</td>\n",
       "      <td>-1.611710e-08</td>\n",
       "      <td>0.000000</td>\n",
       "      <td>0.000</td>\n",
       "      <td>0.000</td>\n",
       "      <td>0.000000</td>\n",
       "      <td>0.000</td>\n",
       "      <td>0.000</td>\n",
       "      <td>9.804058e-07</td>\n",
       "      <td>0</td>\n",
       "      <td>0.000153</td>\n",
       "    </tr>\n",
       "    <tr>\n",
       "      <th>2</th>\n",
       "      <td>137.251999</td>\n",
       "      <td>3.769001</td>\n",
       "      <td>80.249001</td>\n",
       "      <td>138.690994</td>\n",
       "      <td>7.055</td>\n",
       "      <td>1841.645996</td>\n",
       "      <td>-12.39</td>\n",
       "      <td>1.606</td>\n",
       "      <td>29.180000</td>\n",
       "      <td>222.315002</td>\n",
       "      <td>...</td>\n",
       "      <td>2.000000e+00</td>\n",
       "      <td>69.866997</td>\n",
       "      <td>-3.758</td>\n",
       "      <td>2.923</td>\n",
       "      <td>41.963001</td>\n",
       "      <td>3.297</td>\n",
       "      <td>-3.038</td>\n",
       "      <td>1.118300e+02</td>\n",
       "      <td>1</td>\n",
       "      <td>0.000027</td>\n",
       "    </tr>\n",
       "    <tr>\n",
       "      <th>3</th>\n",
       "      <td>153.136993</td>\n",
       "      <td>40.298000</td>\n",
       "      <td>102.665001</td>\n",
       "      <td>19.563000</td>\n",
       "      <td>0.000</td>\n",
       "      <td>0.000000</td>\n",
       "      <td>0.00</td>\n",
       "      <td>3.117</td>\n",
       "      <td>19.563000</td>\n",
       "      <td>101.463997</td>\n",
       "      <td>...</td>\n",
       "      <td>-1.611710e-08</td>\n",
       "      <td>0.000000</td>\n",
       "      <td>0.000</td>\n",
       "      <td>0.000</td>\n",
       "      <td>0.000000</td>\n",
       "      <td>0.000</td>\n",
       "      <td>0.000</td>\n",
       "      <td>9.804058e-07</td>\n",
       "      <td>1</td>\n",
       "      <td>0.000335</td>\n",
       "    </tr>\n",
       "    <tr>\n",
       "      <th>4</th>\n",
       "      <td>122.495003</td>\n",
       "      <td>33.615002</td>\n",
       "      <td>97.281998</td>\n",
       "      <td>268.632996</td>\n",
       "      <td>0.432</td>\n",
       "      <td>228.552994</td>\n",
       "      <td>4.27</td>\n",
       "      <td>1.199</td>\n",
       "      <td>53.695999</td>\n",
       "      <td>615.632019</td>\n",
       "      <td>...</td>\n",
       "      <td>2.000000e+00</td>\n",
       "      <td>339.315002</td>\n",
       "      <td>1.861</td>\n",
       "      <td>-2.051</td>\n",
       "      <td>37.374001</td>\n",
       "      <td>2.294</td>\n",
       "      <td>0.299</td>\n",
       "      <td>3.766890e+02</td>\n",
       "      <td>1</td>\n",
       "      <td>0.000027</td>\n",
       "    </tr>\n",
       "  </tbody>\n",
       "</table>\n",
       "<p>5 rows × 32 columns</p>\n",
       "</div>"
      ],
      "text/plain": [
       "   DER_mass_MMC  DER_mass_transverse_met_lep  DER_mass_vis    DER_pt_h  \\\n",
       "0    120.280998                    40.030998     87.237000   72.169998   \n",
       "1    105.942001                    44.081001     65.517998   30.698999   \n",
       "2    137.251999                     3.769001     80.249001  138.690994   \n",
       "3    153.136993                    40.298000    102.665001   19.563000   \n",
       "4    122.495003                    33.615002     97.281998  268.632996   \n",
       "\n",
       "   DER_deltaeta_jet_jet  DER_mass_jet_jet  DER_prodeta_jet_jet  \\\n",
       "0                 0.000          0.000000                 0.00   \n",
       "1                 0.000          0.000000                 0.00   \n",
       "2                 7.055       1841.645996               -12.39   \n",
       "3                 0.000          0.000000                 0.00   \n",
       "4                 0.432        228.552994                 4.27   \n",
       "\n",
       "   DER_deltar_tau_lep  DER_pt_tot  DER_sum_pt  ...   PRI_jet_num  \\\n",
       "0               2.001    2.070999  175.783005  ...  1.000000e+00   \n",
       "1               2.736   30.698999   58.908005  ... -1.611710e-08   \n",
       "2               1.606   29.180000  222.315002  ...  2.000000e+00   \n",
       "3               3.117   19.563000  101.463997  ... -1.611710e-08   \n",
       "4               1.199   53.695999  615.632019  ...  2.000000e+00   \n",
       "\n",
       "   PRI_jet_leading_pt  PRI_jet_leading_eta  PRI_jet_leading_phi  \\\n",
       "0           73.836998                0.346                2.888   \n",
       "1            0.000000                0.000                0.000   \n",
       "2           69.866997               -3.758                2.923   \n",
       "3            0.000000                0.000                0.000   \n",
       "4          339.315002                1.861               -2.051   \n",
       "\n",
       "   PRI_jet_subleading_pt  PRI_jet_subleading_eta  PRI_jet_subleading_phi  \\\n",
       "0               0.000000                   0.000                   0.000   \n",
       "1               0.000000                   0.000                   0.000   \n",
       "2              41.963001                   3.297                  -3.038   \n",
       "3               0.000000                   0.000                   0.000   \n",
       "4              37.374001                   2.294                   0.299   \n",
       "\n",
       "   PRI_jet_all_pt  gen_target  gen_weight  \n",
       "0    7.383700e+01           1    0.000048  \n",
       "1    9.804058e-07           0    0.000153  \n",
       "2    1.118300e+02           1    0.000027  \n",
       "3    9.804058e-07           1    0.000335  \n",
       "4    3.766890e+02           1    0.000027  \n",
       "\n",
       "[5 rows x 32 columns]"
      ]
     },
     "execution_count": 12,
     "metadata": {},
     "output_type": "execute_result"
    }
   ],
   "source": [
    "df = train_fy.get_df(inc_inputs=True, deprocess=True); len(df); df.head()"
   ]
  },
  {
   "cell_type": "code",
   "execution_count": 13,
   "metadata": {},
   "outputs": [],
   "source": [
    "font = ImageFont.truetype('FreeMonoBold.ttf', 13)"
   ]
  },
  {
   "cell_type": "code",
   "execution_count": 14,
   "metadata": {},
   "outputs": [],
   "source": [
    "def event2img(event:np.ndarray, size:int=224) -> PIL.Image.Image:\n",
    "    img = Image.fromarray(np.zeros([size,size,3]), 'RGB')\n",
    "    for i, f in enumerate(event):\n",
    "        ImageDraw.Draw(img).text(((0.25+(i%2))*size//2,(i//2)*2*size//len(event)), f'{f:.3f}', fill=(255,255,255), font=font)\n",
    "    return img"
   ]
  },
  {
   "cell_type": "code",
   "execution_count": 16,
   "metadata": {},
   "outputs": [
    {
     "data": {
      "text/plain": [
       "30"
      ]
     },
     "execution_count": 16,
     "metadata": {},
     "output_type": "execute_result"
    }
   ],
   "source": [
    "len(train_feats)"
   ]
  },
  {
   "cell_type": "code",
   "execution_count": 15,
   "metadata": {},
   "outputs": [
    {
     "name": "stdout",
     "output_type": "stream",
     "text": [
      "CPU times: user 72 ms, sys: 20.9 ms, total: 92.9 ms\n",
      "Wall time: 92 ms\n"
     ]
    },
    {
     "data": {
      "image/png": "[encoded data removed]",
      "text/plain": [
       "<PIL.Image.Image image mode=RGB size=224x224 at 0x7F5FF1E53E48>"
      ]
     },
     "execution_count": 15,
     "metadata": {},
     "output_type": "execute_result"
    }
   ],
   "source": [
    "%%time\n",
    "event2img(df[train_feats].values[0])"
   ]
  },
  {
   "cell_type": "code",
   "execution_count": 17,
   "metadata": {},
   "outputs": [
    {
     "name": "stdout",
     "output_type": "stream",
     "text": [
      "200000 candidates loaded\n"
     ]
    },
    {
     "name": "stderr",
     "output_type": "stream",
     "text": [
      "/home/giles/anaconda3/envs/fastai/lib/python3.6/site-packages/lumin/nn/data/fold_yielder.py:115: UserWarning: pred not found in foldfile file\n",
      "  warnings.warn(f'{pred_name} not found in foldfile file')\n"
     ]
    }
   ],
   "source": [
    "train_fy = FoldYielder(h5py.File(DATA_PATH/'train.hdf5', \"r+\"), cont_feats, cat_feats)\n",
    "train_fy.add_input_pipe_from_file(DATA_PATH/'input_pipe.pkl')\n",
    "train_df = train_fy.get_df(inc_inputs=True, deprocess=True)"
   ]
  },
  {
   "cell_type": "code",
   "execution_count": 18,
   "metadata": {},
   "outputs": [
    {
     "name": "stdout",
     "output_type": "stream",
     "text": [
      "50000 candidates loaded\n"
     ]
    }
   ],
   "source": [
    "val_fy = FoldYielder(h5py.File(DATA_PATH/'val.hdf5', \"r+\"), cont_feats, cat_feats)\n",
    "val_fy.add_input_pipe_from_file(DATA_PATH/'input_pipe.pkl')\n",
    "val_df = val_fy.get_df(inc_inputs=True, deprocess=True)"
   ]
  },
  {
   "cell_type": "code",
   "execution_count": 19,
   "metadata": {},
   "outputs": [],
   "source": [
    "train_df = train_df.append(val_df, ignore_index=True)"
   ]
  },
  {
   "cell_type": "code",
   "execution_count": 23,
   "metadata": {},
   "outputs": [
    {
     "data": {
      "text/plain": [
       "250000"
      ]
     },
     "execution_count": 23,
     "metadata": {},
     "output_type": "execute_result"
    }
   ],
   "source": [
    "len(train_df)"
   ]
  },
  {
   "cell_type": "code",
   "execution_count": 24,
   "metadata": {},
   "outputs": [],
   "source": [
    "for mode in ['train', 'test']: os.makedirs(IMG_PATH/'images'/mode, exist_ok=True)"
   ]
  },
  {
   "cell_type": "code",
   "execution_count": 21,
   "metadata": {},
   "outputs": [],
   "source": [
    "def save_image(event:np.ndarray, name:Union[str, int, float], loc:Path, size:int=224) -> None:\n",
    "    img = event2img(event, size)\n",
    "    name = str(name)\n",
    "    if '.' not in name: name += '.png'\n",
    "    img.save(loc/name)"
   ]
  },
  {
   "cell_type": "code",
   "execution_count": 22,
   "metadata": {},
   "outputs": [],
   "source": [
    "def proc_sample(df:pd.DataFrame, mode:str, size:int=224) -> None:\n",
    "    func = partial(save_image, loc=IMG_PATH/'images'/mode, size=size)\n",
    "    with ProcessPoolExecutor(10) as e: e.map(func, df[train_feats].values, df.index.values)"
   ]
  },
  {
   "cell_type": "code",
   "execution_count": 25,
   "metadata": {},
   "outputs": [
    {
     "name": "stdout",
     "output_type": "stream",
     "text": [
      "CPU times: user 1min 49s, sys: 16.6 s, total: 2min 6s\n",
      "Wall time: 5min 50s\n"
     ]
    }
   ],
   "source": [
    "%%time\n",
    "proc_sample(train_df, 'train')"
   ]
  },
  {
   "cell_type": "code",
   "execution_count": 26,
   "metadata": {},
   "outputs": [],
   "source": [
    "train_df.reset_index(inplace=True)\n",
    "train_df.rename(columns={'index':'image_name'}, inplace=True)\n",
    "train_df.to_csv(IMG_PATH/'train.csv', index=False)"
   ]
  },
  {
   "cell_type": "code",
   "execution_count": 27,
   "metadata": {},
   "outputs": [
    {
     "name": "stderr",
     "output_type": "stream",
     "text": [
      "/home/giles/anaconda3/envs/fastai/lib/python3.6/site-packages/lumin/nn/data/fold_yielder.py:115: UserWarning: pred not found in foldfile file\n",
      "  warnings.warn(f'{pred_name} not found in foldfile file')\n"
     ]
    },
    {
     "name": "stdout",
     "output_type": "stream",
     "text": [
      "550000 candidates loaded\n",
      "CPU times: user 3min 58s, sys: 36.8 s, total: 4min 35s\n",
      "Wall time: 13min 4s\n"
     ]
    }
   ],
   "source": [
    "%%time\n",
    "test_fy = FoldYielder(h5py.File(DATA_PATH/'testing.hdf5', \"r+\"), cont_feats, cat_feats)\n",
    "test_fy.add_input_pipe_from_file(DATA_PATH/'input_pipe.pkl')\n",
    "test_df = test_fy.get_df(inc_inputs=True, deprocess=True)\n",
    "test_df['private'] = test_fy.get_column('private')\n",
    "proc_sample(test_df, 'test')"
   ]
  },
  {
   "cell_type": "code",
   "execution_count": 28,
   "metadata": {},
   "outputs": [],
   "source": [
    "test_df.reset_index(inplace=True)\n",
    "test_df.rename(columns={'index':'image_name'}, inplace=True)\n",
    "test_df.to_csv(IMG_PATH/'test.csv', index=False)"
   ]
  },
  {
   "cell_type": "code",
   "execution_count": null,
   "metadata": {},
   "outputs": [],
   "source": []
  }
 ],
 "metadata": {
  "kernelspec": {
   "display_name": "Python 3",
   "language": "python",
   "name": "python3"
  },
  "language_info": {
   "codemirror_mode": {
    "name": "ipython",
    "version": 3
   },
   "file_extension": ".py",
   "mimetype": "text/x-python",
   "name": "python",
   "nbconvert_exporter": "python",
   "pygments_lexer": "ipython3",
   "version": "3.6.8"
  },
  "toc": {
   "base_numbering": 1,
   "nav_menu": {},
   "number_sections": true,
   "sideBar": true,
   "skip_h1_title": false,
   "title_cell": "Table of Contents",
   "title_sidebar": "Contents",
   "toc_cell": false,
   "toc_position": {},
   "toc_section_display": true,
   "toc_window_display": false
  }
 },
 "nbformat": 4,
 "nbformat_minor": 2
}
