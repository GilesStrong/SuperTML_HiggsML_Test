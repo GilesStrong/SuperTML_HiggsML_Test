{
 "cells": [
  {
   "cell_type": "code",
   "execution_count": 114,
   "metadata": {},
   "outputs": [],
   "source": [
    "%matplotlib inline\n",
    "%reload_ext autoreload\n",
    "%autoreload 2\n",
    "from __future__ import division\n",
    "import sys\n",
    "import os\n",
    "sys.path.append('../')\n",
    "from fastai.vision import *\n",
    "from modules.basics import *\n",
    "np.random.seed(0)"
   ]
  },
  {
   "cell_type": "markdown",
   "metadata": {},
   "source": [
    "# Data import"
   ]
  },
  {
   "cell_type": "code",
   "execution_count": 115,
   "metadata": {},
   "outputs": [
    {
     "data": {
      "text/html": [
       "<div>\n",
       "<style scoped>\n",
       "    .dataframe tbody tr th:only-of-type {\n",
       "        vertical-align: middle;\n",
       "    }\n",
       "\n",
       "    .dataframe tbody tr th {\n",
       "        vertical-align: top;\n",
       "    }\n",
       "\n",
       "    .dataframe thead th {\n",
       "        text-align: right;\n",
       "    }\n",
       "</style>\n",
       "<table border=\"1\" class=\"dataframe\">\n",
       "  <thead>\n",
       "    <tr style=\"text-align: right;\">\n",
       "      <th></th>\n",
       "      <th>Unnamed: 0</th>\n",
       "      <th>index</th>\n",
       "      <th>DER_mass_MMC</th>\n",
       "      <th>DER_mass_transverse_met_lep</th>\n",
       "      <th>DER_mass_vis</th>\n",
       "      <th>DER_pt_h</th>\n",
       "      <th>DER_deltaeta_jet_jet</th>\n",
       "      <th>DER_mass_jet_jet</th>\n",
       "      <th>DER_prodeta_jet_jet</th>\n",
       "      <th>DER_deltar_tau_lep</th>\n",
       "      <th>...</th>\n",
       "      <th>PRI_lep_pz</th>\n",
       "      <th>PRI_met_px</th>\n",
       "      <th>PRI_met_py</th>\n",
       "      <th>PRI_tau_px</th>\n",
       "      <th>PRI_tau_py</th>\n",
       "      <th>PRI_tau_pz</th>\n",
       "      <th>PRI_met_pt</th>\n",
       "      <th>PRI_jet_num</th>\n",
       "      <th>gen_target</th>\n",
       "      <th>gen_weight</th>\n",
       "    </tr>\n",
       "  </thead>\n",
       "  <tbody>\n",
       "    <tr>\n",
       "      <th>0</th>\n",
       "      <td>0</td>\n",
       "      <td>0</td>\n",
       "      <td>69.662</td>\n",
       "      <td>51.452</td>\n",
       "      <td>65.784</td>\n",
       "      <td>2.436999</td>\n",
       "      <td>0.000</td>\n",
       "      <td>0.000</td>\n",
       "      <td>0.000</td>\n",
       "      <td>2.170</td>\n",
       "      <td>...</td>\n",
       "      <td>119.414310</td>\n",
       "      <td>-8.062065</td>\n",
       "      <td>-36.531986</td>\n",
       "      <td>-22.289234</td>\n",
       "      <td>38.641340</td>\n",
       "      <td>100.352905</td>\n",
       "      <td>37.411</td>\n",
       "      <td>0.0</td>\n",
       "      <td>0</td>\n",
       "      <td>0.000123</td>\n",
       "    </tr>\n",
       "    <tr>\n",
       "      <th>1</th>\n",
       "      <td>1</td>\n",
       "      <td>1</td>\n",
       "      <td>99.593</td>\n",
       "      <td>77.723</td>\n",
       "      <td>72.034</td>\n",
       "      <td>0.413001</td>\n",
       "      <td>0.000</td>\n",
       "      <td>0.000</td>\n",
       "      <td>0.000</td>\n",
       "      <td>2.700</td>\n",
       "      <td>...</td>\n",
       "      <td>12.693051</td>\n",
       "      <td>-28.446564</td>\n",
       "      <td>-11.507551</td>\n",
       "      <td>-22.373512</td>\n",
       "      <td>11.807400</td>\n",
       "      <td>-6.208095</td>\n",
       "      <td>30.686</td>\n",
       "      <td>0.0</td>\n",
       "      <td>0</td>\n",
       "      <td>0.000148</td>\n",
       "    </tr>\n",
       "    <tr>\n",
       "      <th>2</th>\n",
       "      <td>2</td>\n",
       "      <td>2</td>\n",
       "      <td>211.403</td>\n",
       "      <td>7.605</td>\n",
       "      <td>94.500</td>\n",
       "      <td>15.523002</td>\n",
       "      <td>0.000</td>\n",
       "      <td>0.000</td>\n",
       "      <td>0.000</td>\n",
       "      <td>3.011</td>\n",
       "      <td>...</td>\n",
       "      <td>122.467400</td>\n",
       "      <td>74.160330</td>\n",
       "      <td>-12.882871</td>\n",
       "      <td>-84.717210</td>\n",
       "      <td>11.557951</td>\n",
       "      <td>481.350770</td>\n",
       "      <td>75.271</td>\n",
       "      <td>1.0</td>\n",
       "      <td>0</td>\n",
       "      <td>0.000044</td>\n",
       "    </tr>\n",
       "    <tr>\n",
       "      <th>3</th>\n",
       "      <td>3</td>\n",
       "      <td>3</td>\n",
       "      <td>110.021</td>\n",
       "      <td>0.417</td>\n",
       "      <td>80.155</td>\n",
       "      <td>108.818000</td>\n",
       "      <td>3.178</td>\n",
       "      <td>400.500</td>\n",
       "      <td>-2.501</td>\n",
       "      <td>1.619</td>\n",
       "      <td>...</td>\n",
       "      <td>161.720460</td>\n",
       "      <td>15.490204</td>\n",
       "      <td>0.294349</td>\n",
       "      <td>1.039680</td>\n",
       "      <td>97.977486</td>\n",
       "      <td>336.323300</td>\n",
       "      <td>15.493</td>\n",
       "      <td>3.0</td>\n",
       "      <td>0</td>\n",
       "      <td>0.000002</td>\n",
       "    </tr>\n",
       "    <tr>\n",
       "      <th>4</th>\n",
       "      <td>4</td>\n",
       "      <td>4</td>\n",
       "      <td>143.446</td>\n",
       "      <td>6.424</td>\n",
       "      <td>89.514</td>\n",
       "      <td>98.435000</td>\n",
       "      <td>6.501</td>\n",
       "      <td>1527.531</td>\n",
       "      <td>-10.477</td>\n",
       "      <td>2.847</td>\n",
       "      <td>...</td>\n",
       "      <td>86.661575</td>\n",
       "      <td>62.066280</td>\n",
       "      <td>-6.541016</td>\n",
       "      <td>-24.217790</td>\n",
       "      <td>12.503346</td>\n",
       "      <td>4.296636</td>\n",
       "      <td>62.410</td>\n",
       "      <td>2.0</td>\n",
       "      <td>1</td>\n",
       "      <td>0.000028</td>\n",
       "    </tr>\n",
       "  </tbody>\n",
       "</table>\n",
       "<p>5 rows × 34 columns</p>\n",
       "</div>"
      ],
      "text/plain": [
       "   Unnamed: 0  index  DER_mass_MMC  DER_mass_transverse_met_lep  DER_mass_vis  \\\n",
       "0           0      0        69.662                       51.452        65.784   \n",
       "1           1      1        99.593                       77.723        72.034   \n",
       "2           2      2       211.403                        7.605        94.500   \n",
       "3           3      3       110.021                        0.417        80.155   \n",
       "4           4      4       143.446                        6.424        89.514   \n",
       "\n",
       "     DER_pt_h  DER_deltaeta_jet_jet  DER_mass_jet_jet  DER_prodeta_jet_jet  \\\n",
       "0    2.436999                 0.000             0.000                0.000   \n",
       "1    0.413001                 0.000             0.000                0.000   \n",
       "2   15.523002                 0.000             0.000                0.000   \n",
       "3  108.818000                 3.178           400.500               -2.501   \n",
       "4   98.435000                 6.501          1527.531              -10.477   \n",
       "\n",
       "   DER_deltar_tau_lep  ...  PRI_lep_pz  PRI_met_px  PRI_met_py  PRI_tau_px  \\\n",
       "0               2.170  ...  119.414310   -8.062065  -36.531986  -22.289234   \n",
       "1               2.700  ...   12.693051  -28.446564  -11.507551  -22.373512   \n",
       "2               3.011  ...  122.467400   74.160330  -12.882871  -84.717210   \n",
       "3               1.619  ...  161.720460   15.490204    0.294349    1.039680   \n",
       "4               2.847  ...   86.661575   62.066280   -6.541016  -24.217790   \n",
       "\n",
       "   PRI_tau_py  PRI_tau_pz  PRI_met_pt  PRI_jet_num  gen_target  gen_weight  \n",
       "0   38.641340  100.352905      37.411          0.0           0    0.000123  \n",
       "1   11.807400   -6.208095      30.686          0.0           0    0.000148  \n",
       "2   11.557951  481.350770      75.271          1.0           0    0.000044  \n",
       "3   97.977486  336.323300      15.493          3.0           0    0.000002  \n",
       "4   12.503346    4.296636      62.410          2.0           1    0.000028  \n",
       "\n",
       "[5 rows x 34 columns]"
      ]
     },
     "execution_count": 115,
     "metadata": {},
     "output_type": "execute_result"
    }
   ],
   "source": [
    "train_df = pd.read_csv(IMG_PATH/'train.csv'); len(train_df); train_df.head()"
   ]
  },
  {
   "cell_type": "code",
   "execution_count": 116,
   "metadata": {},
   "outputs": [
    {
     "data": {
      "text/plain": [
       "<matplotlib.axes._subplots.AxesSubplot at 0x7f34a229c128>"
      ]
     },
     "execution_count": 116,
     "metadata": {},
     "output_type": "execute_result"
    },
    {
     "data": {
      "image/png": "[encoded data removed]",
      "text/plain": [
       "<Figure size 432x288 with 1 Axes>"
      ]
     },
     "metadata": {},
     "output_type": "display_data"
    }
   ],
   "source": [
    "train_df.gen_target.hist()"
   ]
  },
  {
   "cell_type": "code",
   "execution_count": 117,
   "metadata": {},
   "outputs": [
    {
     "data": {
      "text/plain": [
       "(0.65733, 0.34267)"
      ]
     },
     "execution_count": 117,
     "metadata": {},
     "output_type": "execute_result"
    }
   ],
   "source": [
    "len(train_df[train_df.gen_target==0])/len(train_df), len(train_df[train_df.gen_target==1])/len(train_df)"
   ]
  },
  {
   "cell_type": "code",
   "execution_count": 118,
   "metadata": {},
   "outputs": [],
   "source": [
    "size = 224"
   ]
  },
  {
   "cell_type": "code",
   "execution_count": 119,
   "metadata": {},
   "outputs": [],
   "source": [
    "data = ImageDataBunch.from_df(df=train_df, label_col='gen_target', fn_col='Unnamed: 0',\n",
    "                              bs=128, ds_tfms=None, num_workers=8, valid_pct=0.2,\n",
    "                              path=IMG_PATH/'images', folder='train', suffix='.png').normalize(imagenet_stats)"
   ]
  },
  {
   "cell_type": "code",
   "execution_count": 120,
   "metadata": {},
   "outputs": [
    {
     "data": {
      "text/plain": [
       "ImageDataBunch;\n",
       "\n",
       "Train: LabelList (160000 items)\n",
       "x: ImageList\n",
       "Image (3, 224, 224),Image (3, 224, 224),Image (3, 224, 224),Image (3, 224, 224),Image (3, 224, 224)\n",
       "y: CategoryList\n",
       "0,0,0,0,1\n",
       "Path: /home/giles/Documents/kaggle/higgsml/images;\n",
       "\n",
       "Valid: LabelList (40000 items)\n",
       "x: ImageList\n",
       "Image (3, 224, 224),Image (3, 224, 224),Image (3, 224, 224),Image (3, 224, 224),Image (3, 224, 224)\n",
       "y: CategoryList\n",
       "1,1,0,0,0\n",
       "Path: /home/giles/Documents/kaggle/higgsml/images;\n",
       "\n",
       "Test: None"
      ]
     },
     "execution_count": 120,
     "metadata": {},
     "output_type": "execute_result"
    }
   ],
   "source": [
    "data"
   ]
  },
  {
   "cell_type": "code",
   "execution_count": 121,
   "metadata": {},
   "outputs": [
    {
     "data": {
      "image/jpeg": "[encoded data removed]",
      "image/png": "[encoded data removed]",
      "text/plain": [
       "Image (3, 224, 224)"
      ]
     },
     "execution_count": 121,
     "metadata": {},
     "output_type": "execute_result"
    }
   ],
   "source": [
    "data.train_ds[0][0]"
   ]
  },
  {
   "cell_type": "code",
   "execution_count": 122,
   "metadata": {},
   "outputs": [
    {
     "data": {
      "image/png": "[encoded data removed]",
      "text/plain": [
       "<Figure size 864x648 with 9 Axes>"
      ]
     },
     "metadata": {},
     "output_type": "display_data"
    }
   ],
   "source": [
    "data.show_batch(rows=3, figsize=(12,9))"
   ]
  },
  {
   "cell_type": "markdown",
   "metadata": {},
   "source": [
    "# Model training"
   ]
  },
  {
   "cell_type": "code",
   "execution_count": 123,
   "metadata": {},
   "outputs": [],
   "source": [
    "learn = cnn_learner(data, models.resnet34, metrics=error_rate)"
   ]
  },
  {
   "cell_type": "code",
   "execution_count": 124,
   "metadata": {
    "scrolled": true
   },
   "outputs": [
    {
     "data": {
      "text/plain": [
       "Sequential(\n",
       "  (0): Sequential(\n",
       "    (0): Conv2d(3, 64, kernel_size=(7, 7), stride=(2, 2), padding=(3, 3), bias=False)\n",
       "    (1): BatchNorm2d(64, eps=1e-05, momentum=0.1, affine=True, track_running_stats=True)\n",
       "    (2): ReLU(inplace)\n",
       "    (3): MaxPool2d(kernel_size=3, stride=2, padding=1, dilation=1, ceil_mode=False)\n",
       "    (4): Sequential(\n",
       "      (0): BasicBlock(\n",
       "        (conv1): Conv2d(64, 64, kernel_size=(3, 3), stride=(1, 1), padding=(1, 1), bias=False)\n",
       "        (bn1): BatchNorm2d(64, eps=1e-05, momentum=0.1, affine=True, track_running_stats=True)\n",
       "        (relu): ReLU(inplace)\n",
       "        (conv2): Conv2d(64, 64, kernel_size=(3, 3), stride=(1, 1), padding=(1, 1), bias=False)\n",
       "        (bn2): BatchNorm2d(64, eps=1e-05, momentum=0.1, affine=True, track_running_stats=True)\n",
       "      )\n",
       "      (1): BasicBlock(\n",
       "        (conv1): Conv2d(64, 64, kernel_size=(3, 3), stride=(1, 1), padding=(1, 1), bias=False)\n",
       "        (bn1): BatchNorm2d(64, eps=1e-05, momentum=0.1, affine=True, track_running_stats=True)\n",
       "        (relu): ReLU(inplace)\n",
       "        (conv2): Conv2d(64, 64, kernel_size=(3, 3), stride=(1, 1), padding=(1, 1), bias=False)\n",
       "        (bn2): BatchNorm2d(64, eps=1e-05, momentum=0.1, affine=True, track_running_stats=True)\n",
       "      )\n",
       "      (2): BasicBlock(\n",
       "        (conv1): Conv2d(64, 64, kernel_size=(3, 3), stride=(1, 1), padding=(1, 1), bias=False)\n",
       "        (bn1): BatchNorm2d(64, eps=1e-05, momentum=0.1, affine=True, track_running_stats=True)\n",
       "        (relu): ReLU(inplace)\n",
       "        (conv2): Conv2d(64, 64, kernel_size=(3, 3), stride=(1, 1), padding=(1, 1), bias=False)\n",
       "        (bn2): BatchNorm2d(64, eps=1e-05, momentum=0.1, affine=True, track_running_stats=True)\n",
       "      )\n",
       "    )\n",
       "    (5): Sequential(\n",
       "      (0): BasicBlock(\n",
       "        (conv1): Conv2d(64, 128, kernel_size=(3, 3), stride=(2, 2), padding=(1, 1), bias=False)\n",
       "        (bn1): BatchNorm2d(128, eps=1e-05, momentum=0.1, affine=True, track_running_stats=True)\n",
       "        (relu): ReLU(inplace)\n",
       "        (conv2): Conv2d(128, 128, kernel_size=(3, 3), stride=(1, 1), padding=(1, 1), bias=False)\n",
       "        (bn2): BatchNorm2d(128, eps=1e-05, momentum=0.1, affine=True, track_running_stats=True)\n",
       "        (downsample): Sequential(\n",
       "          (0): Conv2d(64, 128, kernel_size=(1, 1), stride=(2, 2), bias=False)\n",
       "          (1): BatchNorm2d(128, eps=1e-05, momentum=0.1, affine=True, track_running_stats=True)\n",
       "        )\n",
       "      )\n",
       "      (1): BasicBlock(\n",
       "        (conv1): Conv2d(128, 128, kernel_size=(3, 3), stride=(1, 1), padding=(1, 1), bias=False)\n",
       "        (bn1): BatchNorm2d(128, eps=1e-05, momentum=0.1, affine=True, track_running_stats=True)\n",
       "        (relu): ReLU(inplace)\n",
       "        (conv2): Conv2d(128, 128, kernel_size=(3, 3), stride=(1, 1), padding=(1, 1), bias=False)\n",
       "        (bn2): BatchNorm2d(128, eps=1e-05, momentum=0.1, affine=True, track_running_stats=True)\n",
       "      )\n",
       "      (2): BasicBlock(\n",
       "        (conv1): Conv2d(128, 128, kernel_size=(3, 3), stride=(1, 1), padding=(1, 1), bias=False)\n",
       "        (bn1): BatchNorm2d(128, eps=1e-05, momentum=0.1, affine=True, track_running_stats=True)\n",
       "        (relu): ReLU(inplace)\n",
       "        (conv2): Conv2d(128, 128, kernel_size=(3, 3), stride=(1, 1), padding=(1, 1), bias=False)\n",
       "        (bn2): BatchNorm2d(128, eps=1e-05, momentum=0.1, affine=True, track_running_stats=True)\n",
       "      )\n",
       "      (3): BasicBlock(\n",
       "        (conv1): Conv2d(128, 128, kernel_size=(3, 3), stride=(1, 1), padding=(1, 1), bias=False)\n",
       "        (bn1): BatchNorm2d(128, eps=1e-05, momentum=0.1, affine=True, track_running_stats=True)\n",
       "        (relu): ReLU(inplace)\n",
       "        (conv2): Conv2d(128, 128, kernel_size=(3, 3), stride=(1, 1), padding=(1, 1), bias=False)\n",
       "        (bn2): BatchNorm2d(128, eps=1e-05, momentum=0.1, affine=True, track_running_stats=True)\n",
       "      )\n",
       "    )\n",
       "    (6): Sequential(\n",
       "      (0): BasicBlock(\n",
       "        (conv1): Conv2d(128, 256, kernel_size=(3, 3), stride=(2, 2), padding=(1, 1), bias=False)\n",
       "        (bn1): BatchNorm2d(256, eps=1e-05, momentum=0.1, affine=True, track_running_stats=True)\n",
       "        (relu): ReLU(inplace)\n",
       "        (conv2): Conv2d(256, 256, kernel_size=(3, 3), stride=(1, 1), padding=(1, 1), bias=False)\n",
       "        (bn2): BatchNorm2d(256, eps=1e-05, momentum=0.1, affine=True, track_running_stats=True)\n",
       "        (downsample): Sequential(\n",
       "          (0): Conv2d(128, 256, kernel_size=(1, 1), stride=(2, 2), bias=False)\n",
       "          (1): BatchNorm2d(256, eps=1e-05, momentum=0.1, affine=True, track_running_stats=True)\n",
       "        )\n",
       "      )\n",
       "      (1): BasicBlock(\n",
       "        (conv1): Conv2d(256, 256, kernel_size=(3, 3), stride=(1, 1), padding=(1, 1), bias=False)\n",
       "        (bn1): BatchNorm2d(256, eps=1e-05, momentum=0.1, affine=True, track_running_stats=True)\n",
       "        (relu): ReLU(inplace)\n",
       "        (conv2): Conv2d(256, 256, kernel_size=(3, 3), stride=(1, 1), padding=(1, 1), bias=False)\n",
       "        (bn2): BatchNorm2d(256, eps=1e-05, momentum=0.1, affine=True, track_running_stats=True)\n",
       "      )\n",
       "      (2): BasicBlock(\n",
       "        (conv1): Conv2d(256, 256, kernel_size=(3, 3), stride=(1, 1), padding=(1, 1), bias=False)\n",
       "        (bn1): BatchNorm2d(256, eps=1e-05, momentum=0.1, affine=True, track_running_stats=True)\n",
       "        (relu): ReLU(inplace)\n",
       "        (conv2): Conv2d(256, 256, kernel_size=(3, 3), stride=(1, 1), padding=(1, 1), bias=False)\n",
       "        (bn2): BatchNorm2d(256, eps=1e-05, momentum=0.1, affine=True, track_running_stats=True)\n",
       "      )\n",
       "      (3): BasicBlock(\n",
       "        (conv1): Conv2d(256, 256, kernel_size=(3, 3), stride=(1, 1), padding=(1, 1), bias=False)\n",
       "        (bn1): BatchNorm2d(256, eps=1e-05, momentum=0.1, affine=True, track_running_stats=True)\n",
       "        (relu): ReLU(inplace)\n",
       "        (conv2): Conv2d(256, 256, kernel_size=(3, 3), stride=(1, 1), padding=(1, 1), bias=False)\n",
       "        (bn2): BatchNorm2d(256, eps=1e-05, momentum=0.1, affine=True, track_running_stats=True)\n",
       "      )\n",
       "      (4): BasicBlock(\n",
       "        (conv1): Conv2d(256, 256, kernel_size=(3, 3), stride=(1, 1), padding=(1, 1), bias=False)\n",
       "        (bn1): BatchNorm2d(256, eps=1e-05, momentum=0.1, affine=True, track_running_stats=True)\n",
       "        (relu): ReLU(inplace)\n",
       "        (conv2): Conv2d(256, 256, kernel_size=(3, 3), stride=(1, 1), padding=(1, 1), bias=False)\n",
       "        (bn2): BatchNorm2d(256, eps=1e-05, momentum=0.1, affine=True, track_running_stats=True)\n",
       "      )\n",
       "      (5): BasicBlock(\n",
       "        (conv1): Conv2d(256, 256, kernel_size=(3, 3), stride=(1, 1), padding=(1, 1), bias=False)\n",
       "        (bn1): BatchNorm2d(256, eps=1e-05, momentum=0.1, affine=True, track_running_stats=True)\n",
       "        (relu): ReLU(inplace)\n",
       "        (conv2): Conv2d(256, 256, kernel_size=(3, 3), stride=(1, 1), padding=(1, 1), bias=False)\n",
       "        (bn2): BatchNorm2d(256, eps=1e-05, momentum=0.1, affine=True, track_running_stats=True)\n",
       "      )\n",
       "    )\n",
       "    (7): Sequential(\n",
       "      (0): BasicBlock(\n",
       "        (conv1): Conv2d(256, 512, kernel_size=(3, 3), stride=(2, 2), padding=(1, 1), bias=False)\n",
       "        (bn1): BatchNorm2d(512, eps=1e-05, momentum=0.1, affine=True, track_running_stats=True)\n",
       "        (relu): ReLU(inplace)\n",
       "        (conv2): Conv2d(512, 512, kernel_size=(3, 3), stride=(1, 1), padding=(1, 1), bias=False)\n",
       "        (bn2): BatchNorm2d(512, eps=1e-05, momentum=0.1, affine=True, track_running_stats=True)\n",
       "        (downsample): Sequential(\n",
       "          (0): Conv2d(256, 512, kernel_size=(1, 1), stride=(2, 2), bias=False)\n",
       "          (1): BatchNorm2d(512, eps=1e-05, momentum=0.1, affine=True, track_running_stats=True)\n",
       "        )\n",
       "      )\n",
       "      (1): BasicBlock(\n",
       "        (conv1): Conv2d(512, 512, kernel_size=(3, 3), stride=(1, 1), padding=(1, 1), bias=False)\n",
       "        (bn1): BatchNorm2d(512, eps=1e-05, momentum=0.1, affine=True, track_running_stats=True)\n",
       "        (relu): ReLU(inplace)\n",
       "        (conv2): Conv2d(512, 512, kernel_size=(3, 3), stride=(1, 1), padding=(1, 1), bias=False)\n",
       "        (bn2): BatchNorm2d(512, eps=1e-05, momentum=0.1, affine=True, track_running_stats=True)\n",
       "      )\n",
       "      (2): BasicBlock(\n",
       "        (conv1): Conv2d(512, 512, kernel_size=(3, 3), stride=(1, 1), padding=(1, 1), bias=False)\n",
       "        (bn1): BatchNorm2d(512, eps=1e-05, momentum=0.1, affine=True, track_running_stats=True)\n",
       "        (relu): ReLU(inplace)\n",
       "        (conv2): Conv2d(512, 512, kernel_size=(3, 3), stride=(1, 1), padding=(1, 1), bias=False)\n",
       "        (bn2): BatchNorm2d(512, eps=1e-05, momentum=0.1, affine=True, track_running_stats=True)\n",
       "      )\n",
       "    )\n",
       "  )\n",
       "  (1): Sequential(\n",
       "    (0): AdaptiveConcatPool2d(\n",
       "      (ap): AdaptiveAvgPool2d(output_size=1)\n",
       "      (mp): AdaptiveMaxPool2d(output_size=1)\n",
       "    )\n",
       "    (1): Flatten()\n",
       "    (2): BatchNorm1d(1024, eps=1e-05, momentum=0.1, affine=True, track_running_stats=True)\n",
       "    (3): Dropout(p=0.25)\n",
       "    (4): Linear(in_features=1024, out_features=512, bias=True)\n",
       "    (5): ReLU(inplace)\n",
       "    (6): BatchNorm1d(512, eps=1e-05, momentum=0.1, affine=True, track_running_stats=True)\n",
       "    (7): Dropout(p=0.5)\n",
       "    (8): Linear(in_features=512, out_features=2, bias=True)\n",
       "  )\n",
       ")"
      ]
     },
     "execution_count": 124,
     "metadata": {},
     "output_type": "execute_result"
    }
   ],
   "source": [
    "learn.model"
   ]
  },
  {
   "cell_type": "code",
   "execution_count": 18,
   "metadata": {
    "colab": {
     "base_uri": "https://localhost:8080/",
     "height": 34
    },
    "colab_type": "code",
    "id": "Q_s_7g059hbv",
    "outputId": "4a5ffef8-829c-4cda-b984-56a44b4b149e"
   },
   "outputs": [
    {
     "data": {
      "text/html": [],
      "text/plain": [
       "<IPython.core.display.HTML object>"
      ]
     },
     "metadata": {},
     "output_type": "display_data"
    },
    {
     "name": "stdout",
     "output_type": "stream",
     "text": [
      "LR Finder is complete, type {learner_name}.recorder.plot() to see the graph.\n"
     ]
    },
    {
     "data": {
      "image/png": "[encoded data removed]",
      "text/plain": [
       "<Figure size 432x288 with 1 Axes>"
      ]
     },
     "metadata": {},
     "output_type": "display_data"
    }
   ],
   "source": [
    "learn.lr_find()\n",
    "learn.recorder.plot()"
   ]
  },
  {
   "cell_type": "code",
   "execution_count": 19,
   "metadata": {},
   "outputs": [
    {
     "data": {
      "text/html": [
       "<table border=\"1\" class=\"dataframe\">\n",
       "  <thead>\n",
       "    <tr style=\"text-align: left;\">\n",
       "      <th>epoch</th>\n",
       "      <th>train_loss</th>\n",
       "      <th>valid_loss</th>\n",
       "      <th>error_rate</th>\n",
       "      <th>time</th>\n",
       "    </tr>\n",
       "  </thead>\n",
       "  <tbody>\n",
       "    <tr>\n",
       "      <td>0</td>\n",
       "      <td>0.468897</td>\n",
       "      <td>0.447125</td>\n",
       "      <td>0.207550</td>\n",
       "      <td>05:09</td>\n",
       "    </tr>\n",
       "    <tr>\n",
       "      <td>1</td>\n",
       "      <td>0.410617</td>\n",
       "      <td>0.414699</td>\n",
       "      <td>0.193675</td>\n",
       "      <td>05:09</td>\n",
       "    </tr>\n",
       "    <tr>\n",
       "      <td>2</td>\n",
       "      <td>0.400944</td>\n",
       "      <td>0.394477</td>\n",
       "      <td>0.179750</td>\n",
       "      <td>05:10</td>\n",
       "    </tr>\n",
       "    <tr>\n",
       "      <td>3</td>\n",
       "      <td>0.376001</td>\n",
       "      <td>0.392472</td>\n",
       "      <td>0.179625</td>\n",
       "      <td>05:11</td>\n",
       "    </tr>\n",
       "  </tbody>\n",
       "</table>"
      ],
      "text/plain": [
       "<IPython.core.display.HTML object>"
      ]
     },
     "metadata": {},
     "output_type": "display_data"
    }
   ],
   "source": [
    "learn.fit_one_cycle(4)"
   ]
  },
  {
   "cell_type": "code",
   "execution_count": 20,
   "metadata": {},
   "outputs": [],
   "source": [
    "learn.save('stage-1')"
   ]
  },
  {
   "cell_type": "code",
   "execution_count": 21,
   "metadata": {
    "colab": {},
    "colab_type": "code",
    "id": "0r5SjZgT9hbp"
   },
   "outputs": [],
   "source": [
    "learn.unfreeze()"
   ]
  },
  {
   "cell_type": "code",
   "execution_count": 22,
   "metadata": {
    "colab": {},
    "colab_type": "code",
    "id": "BWe4LmuW9hbt"
   },
   "outputs": [],
   "source": [
    "learn.load('stage-1');"
   ]
  },
  {
   "cell_type": "code",
   "execution_count": 23,
   "metadata": {
    "colab": {
     "base_uri": "https://localhost:8080/",
     "height": 34
    },
    "colab_type": "code",
    "id": "Q_s_7g059hbv",
    "outputId": "4a5ffef8-829c-4cda-b984-56a44b4b149e"
   },
   "outputs": [
    {
     "data": {
      "text/html": [],
      "text/plain": [
       "<IPython.core.display.HTML object>"
      ]
     },
     "metadata": {},
     "output_type": "display_data"
    },
    {
     "name": "stdout",
     "output_type": "stream",
     "text": [
      "LR Finder is complete, type {learner_name}.recorder.plot() to see the graph.\n"
     ]
    },
    {
     "data": {
      "image/png": "[encoded data removed]",
      "text/plain": [
       "<Figure size 432x288 with 1 Axes>"
      ]
     },
     "metadata": {},
     "output_type": "display_data"
    }
   ],
   "source": [
    "learn.lr_find()\n",
    "learn.recorder.plot()"
   ]
  },
  {
   "cell_type": "code",
   "execution_count": 24,
   "metadata": {
    "colab": {
     "base_uri": "https://localhost:8080/",
     "height": 134
    },
    "colab_type": "code",
    "id": "h-YyctvH9hby",
    "outputId": "33abff7f-7cf3-4bc0-c5f5-b448e14d5b91"
   },
   "outputs": [
    {
     "data": {
      "text/html": [
       "<table border=\"1\" class=\"dataframe\">\n",
       "  <thead>\n",
       "    <tr style=\"text-align: left;\">\n",
       "      <th>epoch</th>\n",
       "      <th>train_loss</th>\n",
       "      <th>valid_loss</th>\n",
       "      <th>error_rate</th>\n",
       "      <th>time</th>\n",
       "    </tr>\n",
       "  </thead>\n",
       "  <tbody>\n",
       "    <tr>\n",
       "      <td>0</td>\n",
       "      <td>0.376136</td>\n",
       "      <td>0.391925</td>\n",
       "      <td>0.178050</td>\n",
       "      <td>06:55</td>\n",
       "    </tr>\n",
       "    <tr>\n",
       "      <td>1</td>\n",
       "      <td>0.378226</td>\n",
       "      <td>0.389366</td>\n",
       "      <td>0.177500</td>\n",
       "      <td>06:57</td>\n",
       "    </tr>\n",
       "    <tr>\n",
       "      <td>2</td>\n",
       "      <td>0.376526</td>\n",
       "      <td>0.387823</td>\n",
       "      <td>0.175525</td>\n",
       "      <td>06:54</td>\n",
       "    </tr>\n",
       "    <tr>\n",
       "      <td>3</td>\n",
       "      <td>0.357384</td>\n",
       "      <td>0.389191</td>\n",
       "      <td>0.176600</td>\n",
       "      <td>06:53</td>\n",
       "    </tr>\n",
       "    <tr>\n",
       "      <td>4</td>\n",
       "      <td>0.341507</td>\n",
       "      <td>0.394077</td>\n",
       "      <td>0.176750</td>\n",
       "      <td>06:57</td>\n",
       "    </tr>\n",
       "    <tr>\n",
       "      <td>5</td>\n",
       "      <td>0.330267</td>\n",
       "      <td>0.398329</td>\n",
       "      <td>0.179350</td>\n",
       "      <td>07:01</td>\n",
       "    </tr>\n",
       "    <tr>\n",
       "      <td>6</td>\n",
       "      <td>0.311021</td>\n",
       "      <td>0.401000</td>\n",
       "      <td>0.179650</td>\n",
       "      <td>06:58</td>\n",
       "    </tr>\n",
       "    <tr>\n",
       "      <td>7</td>\n",
       "      <td>0.319425</td>\n",
       "      <td>0.401730</td>\n",
       "      <td>0.179475</td>\n",
       "      <td>06:54</td>\n",
       "    </tr>\n",
       "  </tbody>\n",
       "</table>"
      ],
      "text/plain": [
       "<IPython.core.display.HTML object>"
      ]
     },
     "metadata": {},
     "output_type": "display_data"
    }
   ],
   "source": [
    "learn.unfreeze()\n",
    "learn.fit_one_cycle(8, max_lr=slice(3e-7,3e-5))"
   ]
  },
  {
   "cell_type": "code",
   "execution_count": 26,
   "metadata": {},
   "outputs": [],
   "source": [
    "learn.save('stage-2')"
   ]
  },
  {
   "cell_type": "code",
   "execution_count": 85,
   "metadata": {},
   "outputs": [],
   "source": [
    "learn.export()"
   ]
  },
  {
   "cell_type": "markdown",
   "metadata": {},
   "source": [
    "# Inference"
   ]
  },
  {
   "cell_type": "markdown",
   "metadata": {},
   "source": [
    "## Validation"
   ]
  },
  {
   "cell_type": "code",
   "execution_count": 99,
   "metadata": {},
   "outputs": [
    {
     "data": {
      "text/html": [
       "<div>\n",
       "<style scoped>\n",
       "    .dataframe tbody tr th:only-of-type {\n",
       "        vertical-align: middle;\n",
       "    }\n",
       "\n",
       "    .dataframe tbody tr th {\n",
       "        vertical-align: top;\n",
       "    }\n",
       "\n",
       "    .dataframe thead th {\n",
       "        text-align: right;\n",
       "    }\n",
       "</style>\n",
       "<table border=\"1\" class=\"dataframe\">\n",
       "  <thead>\n",
       "    <tr style=\"text-align: right;\">\n",
       "      <th></th>\n",
       "      <th>Unnamed: 0</th>\n",
       "      <th>index</th>\n",
       "      <th>DER_mass_MMC</th>\n",
       "      <th>DER_mass_transverse_met_lep</th>\n",
       "      <th>DER_mass_vis</th>\n",
       "      <th>DER_pt_h</th>\n",
       "      <th>DER_deltaeta_jet_jet</th>\n",
       "      <th>DER_mass_jet_jet</th>\n",
       "      <th>DER_prodeta_jet_jet</th>\n",
       "      <th>DER_deltar_tau_lep</th>\n",
       "      <th>...</th>\n",
       "      <th>PRI_lep_pz</th>\n",
       "      <th>PRI_met_px</th>\n",
       "      <th>PRI_met_py</th>\n",
       "      <th>PRI_tau_px</th>\n",
       "      <th>PRI_tau_py</th>\n",
       "      <th>PRI_tau_pz</th>\n",
       "      <th>PRI_met_pt</th>\n",
       "      <th>PRI_jet_num</th>\n",
       "      <th>gen_target</th>\n",
       "      <th>gen_weight</th>\n",
       "    </tr>\n",
       "  </thead>\n",
       "  <tbody>\n",
       "    <tr>\n",
       "      <th>0</th>\n",
       "      <td>0</td>\n",
       "      <td>0</td>\n",
       "      <td>98.784</td>\n",
       "      <td>0.574002</td>\n",
       "      <td>67.028</td>\n",
       "      <td>30.797000</td>\n",
       "      <td>0.000</td>\n",
       "      <td>0.000</td>\n",
       "      <td>0.000</td>\n",
       "      <td>2.994</td>\n",
       "      <td>...</td>\n",
       "      <td>145.127000</td>\n",
       "      <td>16.534410</td>\n",
       "      <td>0.429992</td>\n",
       "      <td>-18.502205</td>\n",
       "      <td>12.592758</td>\n",
       "      <td>17.146720</td>\n",
       "      <td>16.540</td>\n",
       "      <td>1.0</td>\n",
       "      <td>0</td>\n",
       "      <td>1.373391</td>\n",
       "    </tr>\n",
       "    <tr>\n",
       "      <th>1</th>\n",
       "      <td>1</td>\n",
       "      <td>1</td>\n",
       "      <td>82.320</td>\n",
       "      <td>2.403000</td>\n",
       "      <td>55.836</td>\n",
       "      <td>22.090998</td>\n",
       "      <td>0.000</td>\n",
       "      <td>0.000</td>\n",
       "      <td>0.000</td>\n",
       "      <td>2.982</td>\n",
       "      <td>...</td>\n",
       "      <td>30.621115</td>\n",
       "      <td>12.101365</td>\n",
       "      <td>1.508308</td>\n",
       "      <td>-21.806877</td>\n",
       "      <td>5.693990</td>\n",
       "      <td>3.074624</td>\n",
       "      <td>12.195</td>\n",
       "      <td>1.0</td>\n",
       "      <td>1</td>\n",
       "      <td>0.001503</td>\n",
       "    </tr>\n",
       "    <tr>\n",
       "      <th>2</th>\n",
       "      <td>2</td>\n",
       "      <td>2</td>\n",
       "      <td>120.690</td>\n",
       "      <td>97.007000</td>\n",
       "      <td>60.179</td>\n",
       "      <td>38.388000</td>\n",
       "      <td>0.000</td>\n",
       "      <td>0.000</td>\n",
       "      <td>0.000</td>\n",
       "      <td>2.590</td>\n",
       "      <td>...</td>\n",
       "      <td>29.813047</td>\n",
       "      <td>-56.103783</td>\n",
       "      <td>5.482270</td>\n",
       "      <td>-19.775946</td>\n",
       "      <td>12.244983</td>\n",
       "      <td>12.674190</td>\n",
       "      <td>56.371</td>\n",
       "      <td>0.0</td>\n",
       "      <td>0</td>\n",
       "      <td>4.668122</td>\n",
       "    </tr>\n",
       "    <tr>\n",
       "      <th>3</th>\n",
       "      <td>3</td>\n",
       "      <td>3</td>\n",
       "      <td>148.487</td>\n",
       "      <td>79.310000</td>\n",
       "      <td>113.533</td>\n",
       "      <td>31.527000</td>\n",
       "      <td>0.000</td>\n",
       "      <td>0.000</td>\n",
       "      <td>0.000</td>\n",
       "      <td>3.349</td>\n",
       "      <td>...</td>\n",
       "      <td>28.878614</td>\n",
       "      <td>-16.097530</td>\n",
       "      <td>-25.778736</td>\n",
       "      <td>-28.960590</td>\n",
       "      <td>3.739328</td>\n",
       "      <td>93.065650</td>\n",
       "      <td>30.392</td>\n",
       "      <td>1.0</td>\n",
       "      <td>0</td>\n",
       "      <td>2.602222</td>\n",
       "    </tr>\n",
       "    <tr>\n",
       "      <th>4</th>\n",
       "      <td>4</td>\n",
       "      <td>4</td>\n",
       "      <td>107.535</td>\n",
       "      <td>12.780998</td>\n",
       "      <td>69.843</td>\n",
       "      <td>20.366999</td>\n",
       "      <td>4.363</td>\n",
       "      <td>360.453</td>\n",
       "      <td>-4.759</td>\n",
       "      <td>3.249</td>\n",
       "      <td>...</td>\n",
       "      <td>59.702408</td>\n",
       "      <td>15.327226</td>\n",
       "      <td>10.284644</td>\n",
       "      <td>-29.358150</td>\n",
       "      <td>6.152965</td>\n",
       "      <td>5.215232</td>\n",
       "      <td>18.458</td>\n",
       "      <td>2.0</td>\n",
       "      <td>0</td>\n",
       "      <td>0.307170</td>\n",
       "    </tr>\n",
       "  </tbody>\n",
       "</table>\n",
       "<p>5 rows × 34 columns</p>\n",
       "</div>"
      ],
      "text/plain": [
       "   Unnamed: 0  index  DER_mass_MMC  DER_mass_transverse_met_lep  DER_mass_vis  \\\n",
       "0           0      0        98.784                     0.574002        67.028   \n",
       "1           1      1        82.320                     2.403000        55.836   \n",
       "2           2      2       120.690                    97.007000        60.179   \n",
       "3           3      3       148.487                    79.310000       113.533   \n",
       "4           4      4       107.535                    12.780998        69.843   \n",
       "\n",
       "    DER_pt_h  DER_deltaeta_jet_jet  DER_mass_jet_jet  DER_prodeta_jet_jet  \\\n",
       "0  30.797000                 0.000             0.000                0.000   \n",
       "1  22.090998                 0.000             0.000                0.000   \n",
       "2  38.388000                 0.000             0.000                0.000   \n",
       "3  31.527000                 0.000             0.000                0.000   \n",
       "4  20.366999                 4.363           360.453               -4.759   \n",
       "\n",
       "   DER_deltar_tau_lep  ...  PRI_lep_pz  PRI_met_px  PRI_met_py  PRI_tau_px  \\\n",
       "0               2.994  ...  145.127000   16.534410    0.429992  -18.502205   \n",
       "1               2.982  ...   30.621115   12.101365    1.508308  -21.806877   \n",
       "2               2.590  ...   29.813047  -56.103783    5.482270  -19.775946   \n",
       "3               3.349  ...   28.878614  -16.097530  -25.778736  -28.960590   \n",
       "4               3.249  ...   59.702408   15.327226   10.284644  -29.358150   \n",
       "\n",
       "   PRI_tau_py  PRI_tau_pz  PRI_met_pt  PRI_jet_num  gen_target  gen_weight  \n",
       "0   12.592758   17.146720      16.540          1.0           0    1.373391  \n",
       "1    5.693990    3.074624      12.195          1.0           1    0.001503  \n",
       "2   12.244983   12.674190      56.371          0.0           0    4.668122  \n",
       "3    3.739328   93.065650      30.392          1.0           0    2.602222  \n",
       "4    6.152965    5.215232      18.458          2.0           0    0.307170  \n",
       "\n",
       "[5 rows x 34 columns]"
      ]
     },
     "execution_count": 99,
     "metadata": {},
     "output_type": "execute_result"
    }
   ],
   "source": [
    "val_df = pd.read_csv(IMG_PATH/'val.csv'); len(val_df); val_df.head()"
   ]
  },
  {
   "cell_type": "code",
   "execution_count": 87,
   "metadata": {},
   "outputs": [],
   "source": [
    "val_lst = ImageList.from_df(val_df, IMG_PATH/'images', folder='val', suffix='.png')"
   ]
  },
  {
   "cell_type": "code",
   "execution_count": 88,
   "metadata": {},
   "outputs": [],
   "source": [
    "learn = load_learner(IMG_PATH/'images', test=val_lst)"
   ]
  },
  {
   "cell_type": "code",
   "execution_count": 89,
   "metadata": {},
   "outputs": [],
   "source": [
    "preds, _ = learn.get_preds(ds_type=DatasetType.Test)"
   ]
  },
  {
   "cell_type": "code",
   "execution_count": 100,
   "metadata": {},
   "outputs": [],
   "source": [
    "val_df['pred'] = to_np(multiclass2binary(preds))"
   ]
  },
  {
   "cell_type": "code",
   "execution_count": 97,
   "metadata": {},
   "outputs": [
    {
     "name": "stderr",
     "output_type": "stream",
     "text": [
      "/home/giles/anaconda3/lib/python3.6/site-packages/matplotlib/axes/_axes.py:6521: MatplotlibDeprecationWarning: \n",
      "The 'normed' kwarg was deprecated in Matplotlib 2.1 and will be removed in 3.1. Use 'density' instead.\n",
      "  alternative=\"'density'\", removal=\"3.1\")\n",
      "/home/giles/anaconda3/lib/python3.6/site-packages/matplotlib/axes/_axes.py:6521: MatplotlibDeprecationWarning: \n",
      "The 'normed' kwarg was deprecated in Matplotlib 2.1 and will be removed in 3.1. Use 'density' instead.\n",
      "  alternative=\"'density'\", removal=\"3.1\")\n"
     ]
    },
    {
     "data": {
      "image/png": "[encoded data removed]",
      "text/plain": [
       "<Figure size 1024x576 with 1 Axes>"
      ]
     },
     "metadata": {},
     "output_type": "display_data"
    }
   ],
   "source": [
    "plot_binary_class_pred(val_df, wgt_name='gen_weight', density=False, log_y=True)"
   ]
  },
  {
   "cell_type": "code",
   "execution_count": 101,
   "metadata": {},
   "outputs": [
    {
     "name": "stdout",
     "output_type": "stream",
     "text": [
      "Mean cut at 0.8828670978546143 corresponds to AMS of 2.80037325787677\n",
      "Maximum AMS for data is 2.910144879084534 at cut of 0.8618935346603394\n"
     ]
    },
    {
     "name": "stderr",
     "output_type": "stream",
     "text": [
      "/home/giles/anaconda3/lib/python3.6/site-packages/matplotlib/axes/_axes.py:6521: MatplotlibDeprecationWarning: \n",
      "The 'normed' kwarg was deprecated in Matplotlib 2.1 and will be removed in 3.1. Use 'density' instead.\n",
      "  alternative=\"'density'\", removal=\"3.1\")\n"
     ]
    },
    {
     "data": {
      "image/png": "[encoded data removed]",
      "text/plain": [
       "<Figure size 512x288 with 1 Axes>"
      ]
     },
     "metadata": {},
     "output_type": "display_data"
    }
   ],
   "source": [
    "cut, smooth_ams, max_ams = binary_class_cut(val_df, top_perc=10, br=10, wgt_factor=250000/50000, min_pred=0.8)"
   ]
  },
  {
   "cell_type": "markdown",
   "metadata": {},
   "source": [
    "## Test"
   ]
  },
  {
   "cell_type": "code",
   "execution_count": 102,
   "metadata": {},
   "outputs": [
    {
     "data": {
      "text/html": [
       "<div>\n",
       "<style scoped>\n",
       "    .dataframe tbody tr th:only-of-type {\n",
       "        vertical-align: middle;\n",
       "    }\n",
       "\n",
       "    .dataframe tbody tr th {\n",
       "        vertical-align: top;\n",
       "    }\n",
       "\n",
       "    .dataframe thead th {\n",
       "        text-align: right;\n",
       "    }\n",
       "</style>\n",
       "<table border=\"1\" class=\"dataframe\">\n",
       "  <thead>\n",
       "    <tr style=\"text-align: right;\">\n",
       "      <th></th>\n",
       "      <th>Unnamed: 0</th>\n",
       "      <th>index</th>\n",
       "      <th>DER_mass_MMC</th>\n",
       "      <th>DER_mass_transverse_met_lep</th>\n",
       "      <th>DER_mass_vis</th>\n",
       "      <th>DER_pt_h</th>\n",
       "      <th>DER_deltaeta_jet_jet</th>\n",
       "      <th>DER_mass_jet_jet</th>\n",
       "      <th>DER_prodeta_jet_jet</th>\n",
       "      <th>DER_deltar_tau_lep</th>\n",
       "      <th>...</th>\n",
       "      <th>PRI_lep_pz</th>\n",
       "      <th>PRI_met_px</th>\n",
       "      <th>PRI_met_py</th>\n",
       "      <th>PRI_tau_px</th>\n",
       "      <th>PRI_tau_py</th>\n",
       "      <th>PRI_tau_pz</th>\n",
       "      <th>PRI_met_pt</th>\n",
       "      <th>PRI_jet_num</th>\n",
       "      <th>gen_target</th>\n",
       "      <th>gen_weight</th>\n",
       "    </tr>\n",
       "  </thead>\n",
       "  <tbody>\n",
       "    <tr>\n",
       "      <th>0</th>\n",
       "      <td>0</td>\n",
       "      <td>0</td>\n",
       "      <td>0.000</td>\n",
       "      <td>79.589</td>\n",
       "      <td>23.916</td>\n",
       "      <td>3.036002</td>\n",
       "      <td>0.00</td>\n",
       "      <td>0.000</td>\n",
       "      <td>0.000</td>\n",
       "      <td>0.903</td>\n",
       "      <td>...</td>\n",
       "      <td>17.833948</td>\n",
       "      <td>-44.840416</td>\n",
       "      <td>-18.505684</td>\n",
       "      <td>13.695490</td>\n",
       "      <td>17.329550</td>\n",
       "      <td>12.515708</td>\n",
       "      <td>48.509000</td>\n",
       "      <td>0.0</td>\n",
       "      <td>0</td>\n",
       "      <td>11.246676</td>\n",
       "    </tr>\n",
       "    <tr>\n",
       "      <th>1</th>\n",
       "      <td>1</td>\n",
       "      <td>1</td>\n",
       "      <td>117.794</td>\n",
       "      <td>56.226</td>\n",
       "      <td>96.358</td>\n",
       "      <td>4.137000</td>\n",
       "      <td>0.00</td>\n",
       "      <td>0.000</td>\n",
       "      <td>0.000</td>\n",
       "      <td>2.755</td>\n",
       "      <td>...</td>\n",
       "      <td>29.388700</td>\n",
       "      <td>-11.515666</td>\n",
       "      <td>-15.688212</td>\n",
       "      <td>-42.913760</td>\n",
       "      <td>18.072498</td>\n",
       "      <td>14.082360</td>\n",
       "      <td>19.461002</td>\n",
       "      <td>0.0</td>\n",
       "      <td>1</td>\n",
       "      <td>0.010415</td>\n",
       "    </tr>\n",
       "    <tr>\n",
       "      <th>2</th>\n",
       "      <td>2</td>\n",
       "      <td>2</td>\n",
       "      <td>135.861</td>\n",
       "      <td>30.604</td>\n",
       "      <td>97.288</td>\n",
       "      <td>9.103999</td>\n",
       "      <td>0.00</td>\n",
       "      <td>0.000</td>\n",
       "      <td>0.000</td>\n",
       "      <td>2.811</td>\n",
       "      <td>...</td>\n",
       "      <td>12.681531</td>\n",
       "      <td>14.081906</td>\n",
       "      <td>-20.815070</td>\n",
       "      <td>-47.361390</td>\n",
       "      <td>20.833385</td>\n",
       "      <td>-20.583021</td>\n",
       "      <td>25.131000</td>\n",
       "      <td>0.0</td>\n",
       "      <td>1</td>\n",
       "      <td>0.010415</td>\n",
       "    </tr>\n",
       "    <tr>\n",
       "      <th>3</th>\n",
       "      <td>3</td>\n",
       "      <td>3</td>\n",
       "      <td>429.273</td>\n",
       "      <td>75.057</td>\n",
       "      <td>234.610</td>\n",
       "      <td>71.019000</td>\n",
       "      <td>0.59</td>\n",
       "      <td>174.261</td>\n",
       "      <td>2.278</td>\n",
       "      <td>4.287</td>\n",
       "      <td>...</td>\n",
       "      <td>148.486480</td>\n",
       "      <td>-15.265509</td>\n",
       "      <td>46.786560</td>\n",
       "      <td>-23.113087</td>\n",
       "      <td>24.057049</td>\n",
       "      <td>-84.193400</td>\n",
       "      <td>49.214000</td>\n",
       "      <td>2.0</td>\n",
       "      <td>0</td>\n",
       "      <td>1.582617</td>\n",
       "    </tr>\n",
       "    <tr>\n",
       "      <th>4</th>\n",
       "      <td>4</td>\n",
       "      <td>4</td>\n",
       "      <td>96.033</td>\n",
       "      <td>43.116</td>\n",
       "      <td>59.270</td>\n",
       "      <td>5.141001</td>\n",
       "      <td>0.00</td>\n",
       "      <td>0.000</td>\n",
       "      <td>0.000</td>\n",
       "      <td>3.131</td>\n",
       "      <td>...</td>\n",
       "      <td>18.655660</td>\n",
       "      <td>-12.263648</td>\n",
       "      <td>3.032429</td>\n",
       "      <td>-22.059671</td>\n",
       "      <td>1.157146</td>\n",
       "      <td>25.519249</td>\n",
       "      <td>12.633001</td>\n",
       "      <td>0.0</td>\n",
       "      <td>0</td>\n",
       "      <td>0.932279</td>\n",
       "    </tr>\n",
       "  </tbody>\n",
       "</table>\n",
       "<p>5 rows × 34 columns</p>\n",
       "</div>"
      ],
      "text/plain": [
       "   Unnamed: 0  index  DER_mass_MMC  DER_mass_transverse_met_lep  DER_mass_vis  \\\n",
       "0           0      0         0.000                       79.589        23.916   \n",
       "1           1      1       117.794                       56.226        96.358   \n",
       "2           2      2       135.861                       30.604        97.288   \n",
       "3           3      3       429.273                       75.057       234.610   \n",
       "4           4      4        96.033                       43.116        59.270   \n",
       "\n",
       "    DER_pt_h  DER_deltaeta_jet_jet  DER_mass_jet_jet  DER_prodeta_jet_jet  \\\n",
       "0   3.036002                  0.00             0.000                0.000   \n",
       "1   4.137000                  0.00             0.000                0.000   \n",
       "2   9.103999                  0.00             0.000                0.000   \n",
       "3  71.019000                  0.59           174.261                2.278   \n",
       "4   5.141001                  0.00             0.000                0.000   \n",
       "\n",
       "   DER_deltar_tau_lep  ...  PRI_lep_pz  PRI_met_px  PRI_met_py  PRI_tau_px  \\\n",
       "0               0.903  ...   17.833948  -44.840416  -18.505684   13.695490   \n",
       "1               2.755  ...   29.388700  -11.515666  -15.688212  -42.913760   \n",
       "2               2.811  ...   12.681531   14.081906  -20.815070  -47.361390   \n",
       "3               4.287  ...  148.486480  -15.265509   46.786560  -23.113087   \n",
       "4               3.131  ...   18.655660  -12.263648    3.032429  -22.059671   \n",
       "\n",
       "   PRI_tau_py  PRI_tau_pz  PRI_met_pt  PRI_jet_num  gen_target  gen_weight  \n",
       "0   17.329550   12.515708   48.509000          0.0           0   11.246676  \n",
       "1   18.072498   14.082360   19.461002          0.0           1    0.010415  \n",
       "2   20.833385  -20.583021   25.131000          0.0           1    0.010415  \n",
       "3   24.057049  -84.193400   49.214000          2.0           0    1.582617  \n",
       "4    1.157146   25.519249   12.633001          0.0           0    0.932279  \n",
       "\n",
       "[5 rows x 34 columns]"
      ]
     },
     "execution_count": 102,
     "metadata": {},
     "output_type": "execute_result"
    }
   ],
   "source": [
    "test_df = pd.read_csv(IMG_PATH/'test.csv'); len(test_df); test_df.head()"
   ]
  },
  {
   "cell_type": "code",
   "execution_count": 103,
   "metadata": {},
   "outputs": [],
   "source": [
    "test_lst = ImageList.from_df(test_df, IMG_PATH/'images', folder='test', suffix='.png')"
   ]
  },
  {
   "cell_type": "code",
   "execution_count": 104,
   "metadata": {},
   "outputs": [],
   "source": [
    "learn = load_learner(IMG_PATH/'images', test=test_lst)"
   ]
  },
  {
   "cell_type": "code",
   "execution_count": 105,
   "metadata": {},
   "outputs": [],
   "source": [
    "preds, _ = learn.get_preds(ds_type=DatasetType.Test)"
   ]
  },
  {
   "cell_type": "code",
   "execution_count": 106,
   "metadata": {},
   "outputs": [],
   "source": [
    "test_df['pred'] = to_np(multiclass2binary(preds))"
   ]
  },
  {
   "cell_type": "markdown",
   "metadata": {},
   "source": [
    "with open(DATA_PATH/'feats.pkl', 'rb') as fin:\n",
    "    feats = pickle.load(fin)\n",
    "cont_feats = feats['cont_feats']\n",
    "cat_feats = feats['cat_feats']    \n",
    "cat_maps = feats['cat_maps']  \n",
    "cat_szs = feats['cat_szs']  \n",
    "train_feats = cont_feats + cat_feats"
   ]
  },
  {
   "cell_type": "markdown",
   "metadata": {},
   "source": [
    "test_fy = FoldYielder(h5py.File(DATA_PATH/'testing.hdf5', \"r+\"), cont_feats, cat_feats)"
   ]
  },
  {
   "cell_type": "markdown",
   "metadata": {},
   "source": [
    "test_df['private'] = test_fy.get_column('private')"
   ]
  },
  {
   "cell_type": "code",
   "execution_count": 113,
   "metadata": {},
   "outputs": [
    {
     "data": {
      "text/html": [
       "<div>\n",
       "<style scoped>\n",
       "    .dataframe tbody tr th:only-of-type {\n",
       "        vertical-align: middle;\n",
       "    }\n",
       "\n",
       "    .dataframe tbody tr th {\n",
       "        vertical-align: top;\n",
       "    }\n",
       "\n",
       "    .dataframe thead th {\n",
       "        text-align: right;\n",
       "    }\n",
       "</style>\n",
       "<table border=\"1\" class=\"dataframe\">\n",
       "  <thead>\n",
       "    <tr style=\"text-align: right;\">\n",
       "      <th></th>\n",
       "      <th>Unnamed: 0</th>\n",
       "      <th>index</th>\n",
       "      <th>DER_mass_MMC</th>\n",
       "      <th>DER_mass_transverse_met_lep</th>\n",
       "      <th>DER_mass_vis</th>\n",
       "      <th>DER_pt_h</th>\n",
       "      <th>DER_deltaeta_jet_jet</th>\n",
       "      <th>DER_mass_jet_jet</th>\n",
       "      <th>DER_prodeta_jet_jet</th>\n",
       "      <th>DER_deltar_tau_lep</th>\n",
       "      <th>...</th>\n",
       "      <th>PRI_met_py</th>\n",
       "      <th>PRI_tau_px</th>\n",
       "      <th>PRI_tau_py</th>\n",
       "      <th>PRI_tau_pz</th>\n",
       "      <th>PRI_met_pt</th>\n",
       "      <th>PRI_jet_num</th>\n",
       "      <th>gen_target</th>\n",
       "      <th>gen_weight</th>\n",
       "      <th>pred</th>\n",
       "      <th>private</th>\n",
       "    </tr>\n",
       "  </thead>\n",
       "  <tbody>\n",
       "    <tr>\n",
       "      <th>0</th>\n",
       "      <td>0</td>\n",
       "      <td>0</td>\n",
       "      <td>0.000</td>\n",
       "      <td>79.589</td>\n",
       "      <td>23.916</td>\n",
       "      <td>3.036002</td>\n",
       "      <td>0.00</td>\n",
       "      <td>0.000</td>\n",
       "      <td>0.000</td>\n",
       "      <td>0.903</td>\n",
       "      <td>...</td>\n",
       "      <td>-18.505684</td>\n",
       "      <td>13.695490</td>\n",
       "      <td>17.329550</td>\n",
       "      <td>12.515708</td>\n",
       "      <td>48.509000</td>\n",
       "      <td>0.0</td>\n",
       "      <td>0</td>\n",
       "      <td>11.246676</td>\n",
       "      <td>0.004797</td>\n",
       "      <td>0</td>\n",
       "    </tr>\n",
       "    <tr>\n",
       "      <th>1</th>\n",
       "      <td>1</td>\n",
       "      <td>1</td>\n",
       "      <td>117.794</td>\n",
       "      <td>56.226</td>\n",
       "      <td>96.358</td>\n",
       "      <td>4.137000</td>\n",
       "      <td>0.00</td>\n",
       "      <td>0.000</td>\n",
       "      <td>0.000</td>\n",
       "      <td>2.755</td>\n",
       "      <td>...</td>\n",
       "      <td>-15.688212</td>\n",
       "      <td>-42.913760</td>\n",
       "      <td>18.072498</td>\n",
       "      <td>14.082360</td>\n",
       "      <td>19.461002</td>\n",
       "      <td>0.0</td>\n",
       "      <td>1</td>\n",
       "      <td>0.010415</td>\n",
       "      <td>0.708606</td>\n",
       "      <td>1</td>\n",
       "    </tr>\n",
       "    <tr>\n",
       "      <th>2</th>\n",
       "      <td>2</td>\n",
       "      <td>2</td>\n",
       "      <td>135.861</td>\n",
       "      <td>30.604</td>\n",
       "      <td>97.288</td>\n",
       "      <td>9.103999</td>\n",
       "      <td>0.00</td>\n",
       "      <td>0.000</td>\n",
       "      <td>0.000</td>\n",
       "      <td>2.811</td>\n",
       "      <td>...</td>\n",
       "      <td>-20.815070</td>\n",
       "      <td>-47.361390</td>\n",
       "      <td>20.833385</td>\n",
       "      <td>-20.583021</td>\n",
       "      <td>25.131000</td>\n",
       "      <td>0.0</td>\n",
       "      <td>1</td>\n",
       "      <td>0.010415</td>\n",
       "      <td>0.926629</td>\n",
       "      <td>1</td>\n",
       "    </tr>\n",
       "    <tr>\n",
       "      <th>3</th>\n",
       "      <td>3</td>\n",
       "      <td>3</td>\n",
       "      <td>429.273</td>\n",
       "      <td>75.057</td>\n",
       "      <td>234.610</td>\n",
       "      <td>71.019000</td>\n",
       "      <td>0.59</td>\n",
       "      <td>174.261</td>\n",
       "      <td>2.278</td>\n",
       "      <td>4.287</td>\n",
       "      <td>...</td>\n",
       "      <td>46.786560</td>\n",
       "      <td>-23.113087</td>\n",
       "      <td>24.057049</td>\n",
       "      <td>-84.193400</td>\n",
       "      <td>49.214000</td>\n",
       "      <td>2.0</td>\n",
       "      <td>0</td>\n",
       "      <td>1.582617</td>\n",
       "      <td>0.004504</td>\n",
       "      <td>1</td>\n",
       "    </tr>\n",
       "    <tr>\n",
       "      <th>4</th>\n",
       "      <td>4</td>\n",
       "      <td>4</td>\n",
       "      <td>96.033</td>\n",
       "      <td>43.116</td>\n",
       "      <td>59.270</td>\n",
       "      <td>5.141001</td>\n",
       "      <td>0.00</td>\n",
       "      <td>0.000</td>\n",
       "      <td>0.000</td>\n",
       "      <td>3.131</td>\n",
       "      <td>...</td>\n",
       "      <td>3.032429</td>\n",
       "      <td>-22.059671</td>\n",
       "      <td>1.157146</td>\n",
       "      <td>25.519249</td>\n",
       "      <td>12.633001</td>\n",
       "      <td>0.0</td>\n",
       "      <td>0</td>\n",
       "      <td>0.932279</td>\n",
       "      <td>0.778205</td>\n",
       "      <td>1</td>\n",
       "    </tr>\n",
       "  </tbody>\n",
       "</table>\n",
       "<p>5 rows × 36 columns</p>\n",
       "</div>"
      ],
      "text/plain": [
       "   Unnamed: 0  index  DER_mass_MMC  DER_mass_transverse_met_lep  DER_mass_vis  \\\n",
       "0           0      0         0.000                       79.589        23.916   \n",
       "1           1      1       117.794                       56.226        96.358   \n",
       "2           2      2       135.861                       30.604        97.288   \n",
       "3           3      3       429.273                       75.057       234.610   \n",
       "4           4      4        96.033                       43.116        59.270   \n",
       "\n",
       "    DER_pt_h  DER_deltaeta_jet_jet  DER_mass_jet_jet  DER_prodeta_jet_jet  \\\n",
       "0   3.036002                  0.00             0.000                0.000   \n",
       "1   4.137000                  0.00             0.000                0.000   \n",
       "2   9.103999                  0.00             0.000                0.000   \n",
       "3  71.019000                  0.59           174.261                2.278   \n",
       "4   5.141001                  0.00             0.000                0.000   \n",
       "\n",
       "   DER_deltar_tau_lep  ...  PRI_met_py  PRI_tau_px  PRI_tau_py  PRI_tau_pz  \\\n",
       "0               0.903  ...  -18.505684   13.695490   17.329550   12.515708   \n",
       "1               2.755  ...  -15.688212  -42.913760   18.072498   14.082360   \n",
       "2               2.811  ...  -20.815070  -47.361390   20.833385  -20.583021   \n",
       "3               4.287  ...   46.786560  -23.113087   24.057049  -84.193400   \n",
       "4               3.131  ...    3.032429  -22.059671    1.157146   25.519249   \n",
       "\n",
       "   PRI_met_pt  PRI_jet_num  gen_target  gen_weight      pred  private  \n",
       "0   48.509000          0.0           0   11.246676  0.004797        0  \n",
       "1   19.461002          0.0           1    0.010415  0.708606        1  \n",
       "2   25.131000          0.0           1    0.010415  0.926629        1  \n",
       "3   49.214000          2.0           0    1.582617  0.004504        1  \n",
       "4   12.633001          0.0           0    0.932279  0.778205        1  \n",
       "\n",
       "[5 rows x 36 columns]"
      ]
     },
     "execution_count": 113,
     "metadata": {},
     "output_type": "execute_result"
    }
   ],
   "source": [
    "test_df.head()"
   ]
  },
  {
   "cell_type": "code",
   "execution_count": 112,
   "metadata": {},
   "outputs": [
    {
     "name": "stdout",
     "output_type": "stream",
     "text": [
      "Public:Private AMS: 2.7864904462870794 : 2.7419506623983185\n"
     ]
    },
    {
     "data": {
      "text/plain": [
       "(2.7864904462870794, 2.7419506623983185)"
      ]
     },
     "execution_count": 112,
     "metadata": {},
     "output_type": "execute_result"
    }
   ],
   "source": [
    "score_test_df(test_df, cut)"
   ]
  },
  {
   "cell_type": "code",
   "execution_count": null,
   "metadata": {},
   "outputs": [],
   "source": []
  }
 ],
 "metadata": {
  "kernelspec": {
   "display_name": "Python 3",
   "language": "python",
   "name": "python3"
  },
  "language_info": {
   "codemirror_mode": {
    "name": "ipython",
    "version": 3
   },
   "file_extension": ".py",
   "mimetype": "text/x-python",
   "name": "python",
   "nbconvert_exporter": "python",
   "pygments_lexer": "ipython3",
   "version": "3.6.4"
  },
  "toc": {
   "base_numbering": 1,
   "nav_menu": {},
   "number_sections": true,
   "sideBar": true,
   "skip_h1_title": false,
   "title_cell": "Table of Contents",
   "title_sidebar": "Contents",
   "toc_cell": false,
   "toc_position": {},
   "toc_section_display": true,
   "toc_window_display": false
  }
 },
 "nbformat": 4,
 "nbformat_minor": 2
}
