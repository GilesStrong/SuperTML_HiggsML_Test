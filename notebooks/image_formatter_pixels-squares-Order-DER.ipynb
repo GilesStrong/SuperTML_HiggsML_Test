{
 "cells": [
  {
   "cell_type": "code",
   "execution_count": 1,
   "metadata": {},
   "outputs": [],
   "source": [
    "%matplotlib inline\n",
    "%reload_ext autoreload\n",
    "%autoreload 2\n",
    "from __future__ import division\n",
    "import sys\n",
    "import os\n",
    "sys.path.append('../')\n",
    "from fastai.vision import *\n",
    "from modules.basics import *\n",
    "from PIL import Image, ImageDraw, ImageFont\n",
    "from concurrent.futures import ProcessPoolExecutor"
   ]
  },
  {
   "cell_type": "code",
   "execution_count": 2,
   "metadata": {
    "scrolled": true
   },
   "outputs": [
    {
     "data": {
      "text/plain": [
       "(PosixPath('/home/giles/Documents/kaggle/higgsml'), PosixPath('../data'))"
      ]
     },
     "execution_count": 2,
     "metadata": {},
     "output_type": "execute_result"
    }
   ],
   "source": [
    "IMG_PATH, DATA_PATH"
   ]
  },
  {
   "cell_type": "markdown",
   "metadata": {},
   "source": [
    "# Import data"
   ]
  },
  {
   "cell_type": "markdown",
   "metadata": {},
   "source": [
    "Import and convert data"
   ]
  },
  {
   "cell_type": "code",
   "execution_count": 3,
   "metadata": {
    "scrolled": true
   },
   "outputs": [
    {
     "name": "stdout",
     "output_type": "stream",
     "text": [
      "Setting PRI_lep to phi = 0\n",
      "Setting PRI_tau to positve phi\n",
      "Setting PRI_lep to positive eta\n",
      "eta component of PRI_met not found\n",
      "Converting to use_cartesian coordinates\n",
      "Setting PRI_lep to phi = 0\n",
      "Setting PRI_tau to positve phi\n",
      "Setting PRI_lep to positive eta\n",
      "eta component of PRI_met not found\n",
      "Converting to use_cartesian coordinates\n",
      "Training on 200000 datapoints and validating on 50000, using 30 feats:\n",
      "['DER_mass_MMC', 'DER_mass_transverse_met_lep', 'DER_mass_vis', 'DER_pt_h', 'DER_deltaeta_jet_jet', 'DER_mass_jet_jet', 'DER_prodeta_jet_jet', 'DER_deltar_tau_lep', 'DER_pt_tot', 'DER_sum_pt', 'DER_pt_ratio_lep_tau', 'DER_met_phi_centrality', 'DER_lep_eta_centrality', 'PRI_met_sumet', 'PRI_jet_num', 'PRI_jet_all_pt', 'PRI_jet_leading_px', 'PRI_jet_leading_py', 'PRI_jet_leading_pz', 'PRI_jet_subleading_px', 'PRI_jet_subleading_py', 'PRI_jet_subleading_pz', 'PRI_tau_px', 'PRI_tau_py', 'PRI_tau_pz', 'PRI_lep_px', 'PRI_lep_pz', 'PRI_met_px', 'PRI_met_py', 'PRI_met_pt']\n",
      "Running train\n",
      "Saving fold: 0 of 20003 events\n",
      "Saving fold: 1 of 20003 events\n",
      "Saving fold: 2 of 20003 events\n",
      "Saving fold: 3 of 20003 events\n",
      "Saving fold: 4 of 20002 events\n",
      "Saving fold: 5 of 20001 events\n",
      "Saving fold: 6 of 19999 events\n",
      "Saving fold: 7 of 19996 events\n",
      "Saving fold: 8 of 19995 events\n",
      "Saving fold: 9 of 19995 events\n",
      "Running val\n",
      "Saving fold: 0 of 5003 events\n",
      "Saving fold: 1 of 5003 events\n",
      "Saving fold: 2 of 5002 events\n",
      "Saving fold: 3 of 5002 events\n",
      "Saving fold: 4 of 5001 events\n",
      "Saving fold: 5 of 5001 events\n",
      "Saving fold: 6 of 5000 events\n",
      "Saving fold: 7 of 4997 events\n",
      "Saving fold: 8 of 4996 events\n",
      "Saving fold: 9 of 4995 events\n",
      "Running testing\n",
      "Saving fold: 0 of 55000 events\n",
      "Saving fold: 1 of 55000 events\n",
      "Saving fold: 2 of 55000 events\n",
      "Saving fold: 3 of 55000 events\n",
      "Saving fold: 4 of 55000 events\n",
      "Saving fold: 5 of 55000 events\n",
      "Saving fold: 6 of 55000 events\n",
      "Saving fold: 7 of 55000 events\n",
      "Saving fold: 8 of 55000 events\n",
      "Saving fold: 9 of 55000 events\n"
     ]
    }
   ],
   "source": [
    "!python ../modules/data_import.py -d {DATA_PATH} -f PRI_jet_num -r True -z True -y True"
   ]
  },
  {
   "cell_type": "markdown",
   "metadata": {},
   "source": [
    "Load processed data"
   ]
  },
  {
   "cell_type": "code",
   "execution_count": 4,
   "metadata": {},
   "outputs": [],
   "source": [
    "with open(DATA_PATH/'feats.pkl', 'rb') as fin:\n",
    "    feats = pickle.load(fin)\n",
    "cont_feats = feats['cont_feats']\n",
    "cat_feats = feats['cat_feats']    \n",
    "cat_maps = feats['cat_maps']  \n",
    "cat_szs = feats['cat_szs']  \n",
    "train_feats = cont_feats + cat_feats"
   ]
  },
  {
   "cell_type": "code",
   "execution_count": 5,
   "metadata": {},
   "outputs": [],
   "source": [
    "train_fy = FoldYielder(h5py.File(DATA_PATH/'train.hdf5', \"r+\"), cont_feats, cat_feats)\n",
    "train_fy.add_input_pipe_from_file(DATA_PATH/'input_pipe.pkl')"
   ]
  },
  {
   "cell_type": "code",
   "execution_count": 6,
   "metadata": {},
   "outputs": [
    {
     "name": "stdout",
     "output_type": "stream",
     "text": [
      "200000 candidates loaded\n"
     ]
    },
    {
     "name": "stderr",
     "output_type": "stream",
     "text": [
      "/home/giles/cernbox/lumin/lumin/nn/data/fold_yielder.py:115: UserWarning: pred not found in foldfile file\n",
      "  warnings.warn(f'{pred_name} not found in foldfile file')\n"
     ]
    },
    {
     "data": {
      "text/html": [
       "<div>\n",
       "<style scoped>\n",
       "    .dataframe tbody tr th:only-of-type {\n",
       "        vertical-align: middle;\n",
       "    }\n",
       "\n",
       "    .dataframe tbody tr th {\n",
       "        vertical-align: top;\n",
       "    }\n",
       "\n",
       "    .dataframe thead th {\n",
       "        text-align: right;\n",
       "    }\n",
       "</style>\n",
       "<table border=\"1\" class=\"dataframe\">\n",
       "  <thead>\n",
       "    <tr style=\"text-align: right;\">\n",
       "      <th></th>\n",
       "      <th>DER_mass_MMC</th>\n",
       "      <th>DER_mass_transverse_met_lep</th>\n",
       "      <th>DER_mass_vis</th>\n",
       "      <th>DER_pt_h</th>\n",
       "      <th>DER_deltaeta_jet_jet</th>\n",
       "      <th>DER_mass_jet_jet</th>\n",
       "      <th>DER_prodeta_jet_jet</th>\n",
       "      <th>DER_deltar_tau_lep</th>\n",
       "      <th>DER_pt_tot</th>\n",
       "      <th>DER_sum_pt</th>\n",
       "      <th>...</th>\n",
       "      <th>PRI_tau_py</th>\n",
       "      <th>PRI_tau_pz</th>\n",
       "      <th>PRI_lep_px</th>\n",
       "      <th>PRI_lep_pz</th>\n",
       "      <th>PRI_met_px</th>\n",
       "      <th>PRI_met_py</th>\n",
       "      <th>PRI_met_pt</th>\n",
       "      <th>PRI_jet_num</th>\n",
       "      <th>gen_target</th>\n",
       "      <th>gen_weight</th>\n",
       "    </tr>\n",
       "  </thead>\n",
       "  <tbody>\n",
       "    <tr>\n",
       "      <th>0</th>\n",
       "      <td>0.321548</td>\n",
       "      <td>-1.380385</td>\n",
       "      <td>0.334253</td>\n",
       "      <td>0.016392</td>\n",
       "      <td>0.000000</td>\n",
       "      <td>0.00000</td>\n",
       "      <td>0.000000</td>\n",
       "      <td>0.729363</td>\n",
       "      <td>0.573708</td>\n",
       "      <td>-0.393690</td>\n",
       "      <td>...</td>\n",
       "      <td>-0.041660</td>\n",
       "      <td>-0.484103</td>\n",
       "      <td>-0.366135</td>\n",
       "      <td>1.142900</td>\n",
       "      <td>0.540935</td>\n",
       "      <td>0.054335</td>\n",
       "      <td>-0.424498</td>\n",
       "      <td>1.0</td>\n",
       "      <td>1</td>\n",
       "      <td>0.000027</td>\n",
       "    </tr>\n",
       "    <tr>\n",
       "      <th>1</th>\n",
       "      <td>0.190721</td>\n",
       "      <td>-1.037775</td>\n",
       "      <td>0.409675</td>\n",
       "      <td>-0.083497</td>\n",
       "      <td>1.532437</td>\n",
       "      <td>0.38749</td>\n",
       "      <td>-1.522099</td>\n",
       "      <td>0.859718</td>\n",
       "      <td>0.728218</td>\n",
       "      <td>0.212961</td>\n",
       "      <td>...</td>\n",
       "      <td>-0.958901</td>\n",
       "      <td>-0.208256</td>\n",
       "      <td>0.754199</td>\n",
       "      <td>0.075247</td>\n",
       "      <td>0.472027</td>\n",
       "      <td>-0.239053</td>\n",
       "      <td>-0.479752</td>\n",
       "      <td>2.0</td>\n",
       "      <td>1</td>\n",
       "      <td>0.000027</td>\n",
       "    </tr>\n",
       "    <tr>\n",
       "      <th>2</th>\n",
       "      <td>-0.506700</td>\n",
       "      <td>-0.908329</td>\n",
       "      <td>-0.259508</td>\n",
       "      <td>-0.681569</td>\n",
       "      <td>0.000000</td>\n",
       "      <td>0.00000</td>\n",
       "      <td>0.000000</td>\n",
       "      <td>0.288455</td>\n",
       "      <td>-0.196258</td>\n",
       "      <td>-0.742099</td>\n",
       "      <td>...</td>\n",
       "      <td>-0.100820</td>\n",
       "      <td>-0.519125</td>\n",
       "      <td>-0.610965</td>\n",
       "      <td>-0.850099</td>\n",
       "      <td>-0.009142</td>\n",
       "      <td>-0.202128</td>\n",
       "      <td>-1.035147</td>\n",
       "      <td>0.0</td>\n",
       "      <td>0</td>\n",
       "      <td>0.000051</td>\n",
       "    </tr>\n",
       "    <tr>\n",
       "      <th>3</th>\n",
       "      <td>0.000000</td>\n",
       "      <td>1.099870</td>\n",
       "      <td>-0.314020</td>\n",
       "      <td>-0.880323</td>\n",
       "      <td>0.000000</td>\n",
       "      <td>0.00000</td>\n",
       "      <td>0.000000</td>\n",
       "      <td>-0.428500</td>\n",
       "      <td>-0.759808</td>\n",
       "      <td>-0.868331</td>\n",
       "      <td>...</td>\n",
       "      <td>-0.778696</td>\n",
       "      <td>-0.374640</td>\n",
       "      <td>-0.583570</td>\n",
       "      <td>1.391731</td>\n",
       "      <td>-1.355362</td>\n",
       "      <td>-0.315227</td>\n",
       "      <td>0.488893</td>\n",
       "      <td>0.0</td>\n",
       "      <td>0</td>\n",
       "      <td>0.000176</td>\n",
       "    </tr>\n",
       "    <tr>\n",
       "      <th>4</th>\n",
       "      <td>0.000000</td>\n",
       "      <td>0.949728</td>\n",
       "      <td>-1.179215</td>\n",
       "      <td>-0.886682</td>\n",
       "      <td>0.000000</td>\n",
       "      <td>0.00000</td>\n",
       "      <td>0.000000</td>\n",
       "      <td>-1.541634</td>\n",
       "      <td>-0.777839</td>\n",
       "      <td>-0.894197</td>\n",
       "      <td>...</td>\n",
       "      <td>-0.658444</td>\n",
       "      <td>-0.815682</td>\n",
       "      <td>-0.668068</td>\n",
       "      <td>-0.912761</td>\n",
       "      <td>-1.266727</td>\n",
       "      <td>-0.378846</td>\n",
       "      <td>0.382093</td>\n",
       "      <td>0.0</td>\n",
       "      <td>0</td>\n",
       "      <td>0.000068</td>\n",
       "    </tr>\n",
       "  </tbody>\n",
       "</table>\n",
       "<p>5 rows × 32 columns</p>\n",
       "</div>"
      ],
      "text/plain": [
       "   DER_mass_MMC  DER_mass_transverse_met_lep  DER_mass_vis  DER_pt_h  \\\n",
       "0      0.321548                    -1.380385      0.334253  0.016392   \n",
       "1      0.190721                    -1.037775      0.409675 -0.083497   \n",
       "2     -0.506700                    -0.908329     -0.259508 -0.681569   \n",
       "3      0.000000                     1.099870     -0.314020 -0.880323   \n",
       "4      0.000000                     0.949728     -1.179215 -0.886682   \n",
       "\n",
       "   DER_deltaeta_jet_jet  DER_mass_jet_jet  DER_prodeta_jet_jet  \\\n",
       "0              0.000000           0.00000             0.000000   \n",
       "1              1.532437           0.38749            -1.522099   \n",
       "2              0.000000           0.00000             0.000000   \n",
       "3              0.000000           0.00000             0.000000   \n",
       "4              0.000000           0.00000             0.000000   \n",
       "\n",
       "   DER_deltar_tau_lep  DER_pt_tot  DER_sum_pt  ...  PRI_tau_py  PRI_tau_pz  \\\n",
       "0            0.729363    0.573708   -0.393690  ...   -0.041660   -0.484103   \n",
       "1            0.859718    0.728218    0.212961  ...   -0.958901   -0.208256   \n",
       "2            0.288455   -0.196258   -0.742099  ...   -0.100820   -0.519125   \n",
       "3           -0.428500   -0.759808   -0.868331  ...   -0.778696   -0.374640   \n",
       "4           -1.541634   -0.777839   -0.894197  ...   -0.658444   -0.815682   \n",
       "\n",
       "   PRI_lep_px  PRI_lep_pz  PRI_met_px  PRI_met_py  PRI_met_pt  PRI_jet_num  \\\n",
       "0   -0.366135    1.142900    0.540935    0.054335   -0.424498          1.0   \n",
       "1    0.754199    0.075247    0.472027   -0.239053   -0.479752          2.0   \n",
       "2   -0.610965   -0.850099   -0.009142   -0.202128   -1.035147          0.0   \n",
       "3   -0.583570    1.391731   -1.355362   -0.315227    0.488893          0.0   \n",
       "4   -0.668068   -0.912761   -1.266727   -0.378846    0.382093          0.0   \n",
       "\n",
       "   gen_target  gen_weight  \n",
       "0           1    0.000027  \n",
       "1           1    0.000027  \n",
       "2           0    0.000051  \n",
       "3           0    0.000176  \n",
       "4           0    0.000068  \n",
       "\n",
       "[5 rows x 32 columns]"
      ]
     },
     "execution_count": 6,
     "metadata": {},
     "output_type": "execute_result"
    }
   ],
   "source": [
    "df = train_fy.get_df(inc_inputs=True); len(df); df.head()"
   ]
  },
  {
   "cell_type": "code",
   "execution_count": 7,
   "metadata": {},
   "outputs": [],
   "source": [
    "from lumin.optimisation.features import rf_rank_features"
   ]
  },
  {
   "cell_type": "code",
   "execution_count": 8,
   "metadata": {},
   "outputs": [
    {
     "name": "stdout",
     "output_type": "stream",
     "text": [
      "Optimising RF\n"
     ]
    },
    {
     "data": {
      "text/html": [],
      "text/plain": [
       "<IPython.core.display.HTML object>"
      ]
     },
     "metadata": {},
     "output_type": "display_data"
    },
    {
     "name": "stdout",
     "output_type": "stream",
     "text": [
      "Evalualting importances\n"
     ]
    },
    {
     "data": {
      "text/html": [
       "\n",
       "    <div>\n",
       "        <style>\n",
       "            /* Turns off some styling */\n",
       "            progress {\n",
       "                /* gets rid of default border in Firefox and Opera. */\n",
       "                border: none;\n",
       "                /* Needs to be in here for Safari polyfill so background images work as expected. */\n",
       "                background-size: auto;\n",
       "            }\n",
       "            .progress-bar-interrupted, .progress-bar-interrupted::-webkit-progress-bar {\n",
       "                background: #F44336;\n",
       "            }\n",
       "        </style>\n",
       "      <progress value='4' class='' max='4', style='width:300px; height:20px; vertical-align: middle;'></progress>\n",
       "      100.00% [4/4 00:20<00:00]\n",
       "    </div>\n",
       "    "
      ],
      "text/plain": [
       "<IPython.core.display.HTML object>"
      ]
     },
     "metadata": {},
     "output_type": "display_data"
    },
    {
     "name": "stdout",
     "output_type": "stream",
     "text": [
      "Top ten most important features:\n",
      "                         Feature  Importance\n",
      "0   DER_mass_transverse_met_lep    0.238815\n",
      "1                  DER_mass_MMC    0.222579\n",
      "2          DER_pt_ratio_lep_tau    0.200336\n",
      "4                  DER_mass_vis    0.190190\n",
      "3            DER_deltar_tau_lep    0.173486\n",
      "5                    DER_sum_pt    0.166243\n",
      "7                      DER_pt_h    0.136675\n",
      "6        DER_met_phi_centrality    0.131540\n",
      "8                    DER_pt_tot    0.070944\n",
      "10         DER_deltaeta_jet_jet    0.009343\n"
     ]
    },
    {
     "data": {
      "image/png": "[encoded data removed]",
      "text/plain": [
       "<Figure size 1536x1296 with 1 Axes>"
      ]
     },
     "metadata": {},
     "output_type": "display_data"
    },
    {
     "name": "stdout",
     "output_type": "stream",
     "text": [
      "\n",
      "13 features found with importance greater than 0.0:\n",
      " ['DER_mass_transverse_met_lep', 'DER_mass_MMC', 'DER_pt_ratio_lep_tau', 'DER_mass_vis', 'DER_deltar_tau_lep', 'DER_sum_pt', 'DER_pt_h', 'DER_met_phi_centrality', 'DER_pt_tot', 'DER_deltaeta_jet_jet', 'DER_prodeta_jet_jet', 'DER_lep_eta_centrality', 'DER_mass_jet_jet'] \n",
      "\n",
      "All training features found to be important\n"
     ]
    }
   ],
   "source": [
    "der_rank = rf_rank_features(df, df, objective='classification', train_feats=[f for f in train_feats if 'DER_' in f],\n",
    "                            wgt_name='gen_weight', n_rfs=5)"
   ]
  },
  {
   "cell_type": "code",
   "execution_count": 9,
   "metadata": {},
   "outputs": [],
   "source": [
    "der_rank = ['DER_mass_transverse_met_lep', 'DER_mass_MMC', 'DER_pt_ratio_lep_tau', 'DER_mass_vis', 'DER_deltar_tau_lep', 'DER_sum_pt', 'DER_pt_h', 'DER_met_phi_centrality', 'DER_pt_tot', 'DER_deltaeta_jet_jet', 'DER_prodeta_jet_jet', 'DER_lep_eta_centrality', 'DER_mass_jet_jet'] "
   ]
  },
  {
   "cell_type": "code",
   "execution_count": 10,
   "metadata": {},
   "outputs": [],
   "source": [
    "pri_feats = [\n",
    "    'PRI_lep_px', 'PRI_lep_pz','PRI_met_px', 'PRI_met_py', 'PRI_met_sumet', \n",
    "    'PRI_met_pt', 'PRI_tau_px', 'PRI_tau_py', 'PRI_tau_pz', 'PRI_jet_all_pt', 'PRI_jet_num',\n",
    "    'PRI_jet_leading_px', 'PRI_jet_leading_py', 'PRI_jet_leading_pz', 'PRI_jet_subleading_px', 'PRI_jet_subleading_py', 'PRI_jet_subleading_pz',\n",
    " ]\n",
    " \n",
    " "
   ]
  },
  {
   "cell_type": "code",
   "execution_count": 11,
   "metadata": {},
   "outputs": [
    {
     "data": {
      "text/plain": [
       "(['DER_mass_transverse_met_lep',\n",
       "  'DER_mass_MMC',\n",
       "  'DER_pt_ratio_lep_tau',\n",
       "  'DER_mass_vis',\n",
       "  'DER_deltar_tau_lep',\n",
       "  'DER_sum_pt',\n",
       "  'DER_pt_h',\n",
       "  'DER_met_phi_centrality',\n",
       "  'DER_pt_tot',\n",
       "  'DER_deltaeta_jet_jet',\n",
       "  'DER_prodeta_jet_jet',\n",
       "  'DER_lep_eta_centrality',\n",
       "  'DER_mass_jet_jet',\n",
       "  'PRI_lep_px',\n",
       "  'PRI_lep_pz',\n",
       "  'PRI_met_px',\n",
       "  'PRI_met_py',\n",
       "  'PRI_met_sumet',\n",
       "  'PRI_met_pt',\n",
       "  'PRI_tau_px',\n",
       "  'PRI_tau_py',\n",
       "  'PRI_tau_pz',\n",
       "  'PRI_jet_all_pt',\n",
       "  'PRI_jet_num',\n",
       "  'PRI_jet_leading_px',\n",
       "  'PRI_jet_leading_py',\n",
       "  'PRI_jet_leading_pz',\n",
       "  'PRI_jet_subleading_px',\n",
       "  'PRI_jet_subleading_py',\n",
       "  'PRI_jet_subleading_pz'],\n",
       " 30)"
      ]
     },
     "execution_count": 11,
     "metadata": {},
     "output_type": "execute_result"
    }
   ],
   "source": [
    "train_feats = der_rank + pri_feats; train_feats, len(train_feats)"
   ]
  },
  {
   "cell_type": "markdown",
   "metadata": {},
   "source": [
    "Convert inputs to lie between 0-255"
   ]
  },
  {
   "cell_type": "code",
   "execution_count": 12,
   "metadata": {},
   "outputs": [],
   "source": [
    "def sigmoid(x:np.ndarray) -> np.ndarray: return 1/(1+np.exp(-x))"
   ]
  },
  {
   "cell_type": "code",
   "execution_count": 13,
   "metadata": {},
   "outputs": [],
   "source": [
    "def convert_data(df:pd.DataFrame) -> None:\n",
    "    x_cont = df[cont_feats].values\n",
    "    df[cont_feats] = 255*sigmoid(x_cont)*(x_cont != 0)  # NB Boolean check to ensure missing values still have value of zero\n",
    "    x_cat = df[cat_feats].values\n",
    "    df[cat_feats] = 255*x_cat/np.max(x_cat, axis=0)\n",
    "    df[train_feats] = np.round(df[train_feats].values).astype(np.uint8)"
   ]
  },
  {
   "cell_type": "code",
   "execution_count": 14,
   "metadata": {},
   "outputs": [
    {
     "name": "stdout",
     "output_type": "stream",
     "text": [
      "200000 candidates loaded\n"
     ]
    }
   ],
   "source": [
    "df = train_fy.get_df(inc_inputs=True); len(df); df.head()\n",
    "convert_data(df)"
   ]
  },
  {
   "cell_type": "code",
   "execution_count": 15,
   "metadata": {},
   "outputs": [
    {
     "data": {
      "text/html": [
       "<div>\n",
       "<style scoped>\n",
       "    .dataframe tbody tr th:only-of-type {\n",
       "        vertical-align: middle;\n",
       "    }\n",
       "\n",
       "    .dataframe tbody tr th {\n",
       "        vertical-align: top;\n",
       "    }\n",
       "\n",
       "    .dataframe thead th {\n",
       "        text-align: right;\n",
       "    }\n",
       "</style>\n",
       "<table border=\"1\" class=\"dataframe\">\n",
       "  <thead>\n",
       "    <tr style=\"text-align: right;\">\n",
       "      <th></th>\n",
       "      <th>DER_mass_MMC</th>\n",
       "      <th>DER_mass_transverse_met_lep</th>\n",
       "      <th>DER_mass_vis</th>\n",
       "      <th>DER_pt_h</th>\n",
       "      <th>DER_deltaeta_jet_jet</th>\n",
       "      <th>DER_mass_jet_jet</th>\n",
       "      <th>DER_prodeta_jet_jet</th>\n",
       "      <th>DER_deltar_tau_lep</th>\n",
       "      <th>DER_pt_tot</th>\n",
       "      <th>DER_sum_pt</th>\n",
       "      <th>...</th>\n",
       "      <th>PRI_tau_py</th>\n",
       "      <th>PRI_tau_pz</th>\n",
       "      <th>PRI_lep_px</th>\n",
       "      <th>PRI_lep_pz</th>\n",
       "      <th>PRI_met_px</th>\n",
       "      <th>PRI_met_py</th>\n",
       "      <th>PRI_met_pt</th>\n",
       "      <th>PRI_jet_num</th>\n",
       "      <th>gen_target</th>\n",
       "      <th>gen_weight</th>\n",
       "    </tr>\n",
       "  </thead>\n",
       "  <tbody>\n",
       "    <tr>\n",
       "      <th>0</th>\n",
       "      <td>148</td>\n",
       "      <td>51</td>\n",
       "      <td>149</td>\n",
       "      <td>129</td>\n",
       "      <td>0</td>\n",
       "      <td>0</td>\n",
       "      <td>0</td>\n",
       "      <td>172</td>\n",
       "      <td>163</td>\n",
       "      <td>103</td>\n",
       "      <td>...</td>\n",
       "      <td>125</td>\n",
       "      <td>97</td>\n",
       "      <td>104</td>\n",
       "      <td>193</td>\n",
       "      <td>161</td>\n",
       "      <td>131</td>\n",
       "      <td>101</td>\n",
       "      <td>85</td>\n",
       "      <td>1</td>\n",
       "      <td>0.000027</td>\n",
       "    </tr>\n",
       "    <tr>\n",
       "      <th>1</th>\n",
       "      <td>140</td>\n",
       "      <td>67</td>\n",
       "      <td>153</td>\n",
       "      <td>122</td>\n",
       "      <td>210</td>\n",
       "      <td>152</td>\n",
       "      <td>46</td>\n",
       "      <td>179</td>\n",
       "      <td>172</td>\n",
       "      <td>141</td>\n",
       "      <td>...</td>\n",
       "      <td>71</td>\n",
       "      <td>114</td>\n",
       "      <td>173</td>\n",
       "      <td>132</td>\n",
       "      <td>157</td>\n",
       "      <td>112</td>\n",
       "      <td>97</td>\n",
       "      <td>170</td>\n",
       "      <td>1</td>\n",
       "      <td>0.000027</td>\n",
       "    </tr>\n",
       "    <tr>\n",
       "      <th>2</th>\n",
       "      <td>96</td>\n",
       "      <td>73</td>\n",
       "      <td>111</td>\n",
       "      <td>86</td>\n",
       "      <td>0</td>\n",
       "      <td>0</td>\n",
       "      <td>0</td>\n",
       "      <td>146</td>\n",
       "      <td>115</td>\n",
       "      <td>82</td>\n",
       "      <td>...</td>\n",
       "      <td>121</td>\n",
       "      <td>95</td>\n",
       "      <td>90</td>\n",
       "      <td>76</td>\n",
       "      <td>127</td>\n",
       "      <td>115</td>\n",
       "      <td>67</td>\n",
       "      <td>0</td>\n",
       "      <td>0</td>\n",
       "      <td>0.000051</td>\n",
       "    </tr>\n",
       "    <tr>\n",
       "      <th>3</th>\n",
       "      <td>0</td>\n",
       "      <td>191</td>\n",
       "      <td>108</td>\n",
       "      <td>75</td>\n",
       "      <td>0</td>\n",
       "      <td>0</td>\n",
       "      <td>0</td>\n",
       "      <td>101</td>\n",
       "      <td>81</td>\n",
       "      <td>75</td>\n",
       "      <td>...</td>\n",
       "      <td>80</td>\n",
       "      <td>104</td>\n",
       "      <td>91</td>\n",
       "      <td>204</td>\n",
       "      <td>52</td>\n",
       "      <td>108</td>\n",
       "      <td>158</td>\n",
       "      <td>0</td>\n",
       "      <td>0</td>\n",
       "      <td>0.000176</td>\n",
       "    </tr>\n",
       "    <tr>\n",
       "      <th>4</th>\n",
       "      <td>0</td>\n",
       "      <td>184</td>\n",
       "      <td>60</td>\n",
       "      <td>74</td>\n",
       "      <td>0</td>\n",
       "      <td>0</td>\n",
       "      <td>0</td>\n",
       "      <td>45</td>\n",
       "      <td>80</td>\n",
       "      <td>74</td>\n",
       "      <td>...</td>\n",
       "      <td>87</td>\n",
       "      <td>78</td>\n",
       "      <td>86</td>\n",
       "      <td>73</td>\n",
       "      <td>56</td>\n",
       "      <td>104</td>\n",
       "      <td>152</td>\n",
       "      <td>0</td>\n",
       "      <td>0</td>\n",
       "      <td>0.000068</td>\n",
       "    </tr>\n",
       "  </tbody>\n",
       "</table>\n",
       "<p>5 rows × 32 columns</p>\n",
       "</div>"
      ],
      "text/plain": [
       "   DER_mass_MMC  DER_mass_transverse_met_lep  DER_mass_vis  DER_pt_h  \\\n",
       "0           148                           51           149       129   \n",
       "1           140                           67           153       122   \n",
       "2            96                           73           111        86   \n",
       "3             0                          191           108        75   \n",
       "4             0                          184            60        74   \n",
       "\n",
       "   DER_deltaeta_jet_jet  DER_mass_jet_jet  DER_prodeta_jet_jet  \\\n",
       "0                     0                 0                    0   \n",
       "1                   210               152                   46   \n",
       "2                     0                 0                    0   \n",
       "3                     0                 0                    0   \n",
       "4                     0                 0                    0   \n",
       "\n",
       "   DER_deltar_tau_lep  DER_pt_tot  DER_sum_pt  ...  PRI_tau_py  PRI_tau_pz  \\\n",
       "0                 172         163         103  ...         125          97   \n",
       "1                 179         172         141  ...          71         114   \n",
       "2                 146         115          82  ...         121          95   \n",
       "3                 101          81          75  ...          80         104   \n",
       "4                  45          80          74  ...          87          78   \n",
       "\n",
       "   PRI_lep_px  PRI_lep_pz  PRI_met_px  PRI_met_py  PRI_met_pt  PRI_jet_num  \\\n",
       "0         104         193         161         131         101           85   \n",
       "1         173         132         157         112          97          170   \n",
       "2          90          76         127         115          67            0   \n",
       "3          91         204          52         108         158            0   \n",
       "4          86          73          56         104         152            0   \n",
       "\n",
       "   gen_target  gen_weight  \n",
       "0           1    0.000027  \n",
       "1           1    0.000027  \n",
       "2           0    0.000051  \n",
       "3           0    0.000176  \n",
       "4           0    0.000068  \n",
       "\n",
       "[5 rows x 32 columns]"
      ]
     },
     "execution_count": 15,
     "metadata": {},
     "output_type": "execute_result"
    }
   ],
   "source": [
    "df.head()"
   ]
  },
  {
   "cell_type": "code",
   "execution_count": 16,
   "metadata": {},
   "outputs": [
    {
     "data": {
      "text/plain": [
       "<matplotlib.axes._subplots.AxesSubplot at 0x7fe856e642e8>"
      ]
     },
     "execution_count": 16,
     "metadata": {},
     "output_type": "execute_result"
    },
    {
     "data": {
      "image/png": "[encoded data removed]",
      "text/plain": [
       "<Figure size 432x288 with 1 Axes>"
      ]
     },
     "metadata": {},
     "output_type": "display_data"
    }
   ],
   "source": [
    "sns.distplot(df.DER_mass_MMC)"
   ]
  },
  {
   "cell_type": "markdown",
   "metadata": {},
   "source": [
    "# Create images"
   ]
  },
  {
   "cell_type": "code",
   "execution_count": 17,
   "metadata": {},
   "outputs": [],
   "source": [
    "def event2img(event:np.ndarray, size:int=224) -> PIL.Image.Image:\n",
    "    arr = np.zeros([size,size], dtype=np.uint8)\n",
    "    width, height = size//6, 6*size//(len(event)-1)\n",
    "    for i, f in enumerate(event):\n",
    "        arr[(i%6)*width:((i%6)+1)*width, (i//6)*height:((i+6)//6)*height] = f\n",
    "    img = Image.fromarray(np.broadcast_to(arr.T[:,:,None], [size,size,3]), 'RGB')\n",
    "    return img"
   ]
  },
  {
   "cell_type": "code",
   "execution_count": 18,
   "metadata": {},
   "outputs": [
    {
     "name": "stdout",
     "output_type": "stream",
     "text": [
      "CPU times: user 14.2 ms, sys: 36.1 ms, total: 50.3 ms\n",
      "Wall time: 49.7 ms\n"
     ]
    },
    {
     "data": {
      "image/png": "[encoded data removed]",
      "text/plain": [
       "<PIL.Image.Image image mode=RGB size=56x56 at 0x7FE8D92F5E80>"
      ]
     },
     "execution_count": 18,
     "metadata": {},
     "output_type": "execute_result"
    }
   ],
   "source": [
    "%%time\n",
    "event2img(df[train_feats].values[1], 56)"
   ]
  },
  {
   "cell_type": "code",
   "execution_count": 19,
   "metadata": {},
   "outputs": [],
   "source": [
    "font = ImageFont.truetype(\"arial.ttf\", 13)\n",
    "def event2img_desc(feats:List[str], size:int=224) -> PIL.Image.Image:\n",
    "    img = Image.fromarray(np.zeros([size,size,3]), 'RGB')\n",
    "    width, height = size//6, 6*size//(len(feats)-1)\n",
    "    for i, f in enumerate(feats):\n",
    "        f = f.split('_')\n",
    "        ImageDraw.Draw(img).text(((i%6)*width, (i//6)*height), ('\\n').join(f), fill=(255,255,255), font=font)\n",
    "    return img"
   ]
  },
  {
   "cell_type": "code",
   "execution_count": 20,
   "metadata": {},
   "outputs": [
    {
     "data": {
      "image/png": "[encoded data removed]",
      "text/plain": [
       "<PIL.Image.Image image mode=RGB size=512x512 at 0x7FE8D9649668>"
      ]
     },
     "execution_count": 20,
     "metadata": {},
     "output_type": "execute_result"
    }
   ],
   "source": [
    "event2img_desc(train_feats, 512)"
   ]
  },
  {
   "cell_type": "code",
   "execution_count": 21,
   "metadata": {},
   "outputs": [],
   "source": [
    "for mode in ['train', 'val', 'test']:\n",
    "    os.makedirs(IMG_PATH/'pixel_squares_images'/mode, exist_ok=True)"
   ]
  },
  {
   "cell_type": "code",
   "execution_count": 22,
   "metadata": {},
   "outputs": [],
   "source": [
    "def save_image(event:np.ndarray, name:Union[str, int, float], loc:Path, size:int=224) -> None:\n",
    "    img = event2img(event, size)\n",
    "    name = str(name)\n",
    "    if '.' not in name: name += '.png'\n",
    "    img.save(loc/name)"
   ]
  },
  {
   "cell_type": "code",
   "execution_count": 23,
   "metadata": {},
   "outputs": [],
   "source": [
    "def proc_sample(df:pd.DataFrame, mode:str, size:int=224) -> None:\n",
    "    func = partial(save_image, loc=IMG_PATH/'pixel_squares_images'/mode, size=size)\n",
    "    with ProcessPoolExecutor(10) as e: e.map(func, df[train_feats].values, df.index.values)"
   ]
  },
  {
   "cell_type": "code",
   "execution_count": 24,
   "metadata": {},
   "outputs": [],
   "source": [
    "SIZE=224//4"
   ]
  },
  {
   "cell_type": "code",
   "execution_count": 25,
   "metadata": {},
   "outputs": [
    {
     "name": "stdout",
     "output_type": "stream",
     "text": [
      "200000 candidates loaded\n",
      "CPU times: user 38.1 s, sys: 5.59 s, total: 43.7 s\n",
      "Wall time: 39.5 s\n"
     ]
    }
   ],
   "source": [
    "%%time\n",
    "train_fy = FoldYielder(h5py.File(DATA_PATH/'train.hdf5', \"r+\"), cont_feats, cat_feats)\n",
    "train_fy.add_input_pipe_from_file(DATA_PATH/'input_pipe.pkl')\n",
    "train_df = train_fy.get_df(inc_inputs=True)\n",
    "convert_data(train_df)\n",
    "proc_sample(train_df, 'train', SIZE)"
   ]
  },
  {
   "cell_type": "code",
   "execution_count": 26,
   "metadata": {},
   "outputs": [],
   "source": [
    "train_df.reset_index(inplace=True)\n",
    "train_df.rename(columns={'index':'image_name'}, inplace=True)\n",
    "train_df.to_csv(IMG_PATH/'train.csv', index=False)"
   ]
  },
  {
   "cell_type": "code",
   "execution_count": 27,
   "metadata": {},
   "outputs": [
    {
     "name": "stdout",
     "output_type": "stream",
     "text": [
      "50000 candidates loaded\n",
      "CPU times: user 8.73 s, sys: 1.45 s, total: 10.2 s\n",
      "Wall time: 9.18 s\n"
     ]
    }
   ],
   "source": [
    "%%time\n",
    "val_fy = FoldYielder(h5py.File(DATA_PATH/'val.hdf5', \"r+\"), cont_feats, cat_feats)\n",
    "val_fy.add_input_pipe_from_file(DATA_PATH/'input_pipe.pkl')\n",
    "val_df = val_fy.get_df(inc_inputs=True)\n",
    "convert_data(val_df)\n",
    "proc_sample(val_df, 'val', SIZE)"
   ]
  },
  {
   "cell_type": "code",
   "execution_count": 28,
   "metadata": {},
   "outputs": [],
   "source": [
    "val_df.reset_index(inplace=True)\n",
    "val_df.rename(columns={'index':'image_name'}, inplace=True)\n",
    "val_df.to_csv(IMG_PATH/'val.csv', index=False)"
   ]
  },
  {
   "cell_type": "code",
   "execution_count": 29,
   "metadata": {},
   "outputs": [
    {
     "name": "stdout",
     "output_type": "stream",
     "text": [
      "550000 candidates loaded\n",
      "CPU times: user 1min 59s, sys: 18.2 s, total: 2min 18s\n",
      "Wall time: 2min 9s\n"
     ]
    }
   ],
   "source": [
    "%%time\n",
    "test_fy = FoldYielder(h5py.File(DATA_PATH/'testing.hdf5', \"r+\"), cont_feats, cat_feats)\n",
    "test_fy.add_input_pipe_from_file(DATA_PATH/'input_pipe.pkl')\n",
    "test_df = test_fy.get_df(inc_inputs=True)\n",
    "test_df['private'] = test_fy.get_column('private')\n",
    "convert_data(test_df)\n",
    "proc_sample(test_df, 'test', SIZE)"
   ]
  },
  {
   "cell_type": "code",
   "execution_count": 30,
   "metadata": {},
   "outputs": [],
   "source": [
    "test_df.reset_index(inplace=True)\n",
    "test_df.rename(columns={'index':'image_name'}, inplace=True)\n",
    "test_df.to_csv(IMG_PATH/'test.csv', index=False)"
   ]
  },
  {
   "cell_type": "code",
   "execution_count": null,
   "metadata": {},
   "outputs": [],
   "source": []
  }
 ],
 "metadata": {
  "kernelspec": {
   "display_name": "Python 3",
   "language": "python",
   "name": "python3"
  },
  "language_info": {
   "codemirror_mode": {
    "name": "ipython",
    "version": 3
   },
   "file_extension": ".py",
   "mimetype": "text/x-python",
   "name": "python",
   "nbconvert_exporter": "python",
   "pygments_lexer": "ipython3",
   "version": "3.6.4"
  },
  "toc": {
   "base_numbering": 1,
   "nav_menu": {},
   "number_sections": true,
   "sideBar": true,
   "skip_h1_title": false,
   "title_cell": "Table of Contents",
   "title_sidebar": "Contents",
   "toc_cell": false,
   "toc_position": {},
   "toc_section_display": true,
   "toc_window_display": false
  }
 },
 "nbformat": 4,
 "nbformat_minor": 2
}
